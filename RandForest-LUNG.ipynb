{
 "cells": [
  {
   "cell_type": "code",
   "execution_count": 1,
   "metadata": {},
   "outputs": [],
   "source": [
    "%matplotlib inline\n",
    "import numpy as np\n",
    "import matplotlib.pyplot as plt\n",
    "import pandas as pd\n",
    "from sklearn.preprocessing import StandardScaler\n",
    "from sklearn.decomposition import PCA\n",
    "from sklearn import preprocessing\n",
    "import seaborn as sns"
   ]
  },
  {
   "cell_type": "code",
   "execution_count": 2,
   "metadata": {},
   "outputs": [],
   "source": [
    "def load_and_fillna(path):\n",
    "    df = pd.read_csv(path, sep=\"\\t\", header=0)\n",
    "    df.fillna(df.mean())\n",
    "    df['id2'] = df.index\n",
    "    df.set_index('Ensembl_ID',inplace=True)\n",
    "    return df.T"
   ]
  },
  {
   "cell_type": "code",
   "execution_count": 15,
   "metadata": {},
   "outputs": [],
   "source": [
    "def pca_prep(df, n_comp):\n",
    "    df = df.iloc[1:,:]\n",
    "    dataScaled = pd.DataFrame(preprocessing.scale(df),columns = df.columns) \n",
    "    pca = PCA(n_components=n_comp)\n",
    "    pca.fit(dataScaled)\n",
    "    dfPCA = pca.transform(dataScaled)\n",
    "    temp = [\"PC-\"+ str(x) for x in range(1,n_comp+1)]\n",
    "    extended = pd.DataFrame(pca.components_,columns=dataScaled.columns,index = temp)\n",
    "    return extended.T\n"
   ]
  },
  {
   "cell_type": "code",
   "execution_count": 16,
   "metadata": {},
   "outputs": [],
   "source": [
    "df = load_and_fillna(\"data/TCGA-LUAD.tsv\")"
   ]
  },
  {
   "cell_type": "code",
   "execution_count": 17,
   "metadata": {},
   "outputs": [],
   "source": [
    "principalComp1 = pca_prep(df, 2)"
   ]
  },
  {
   "cell_type": "code",
   "execution_count": 18,
   "metadata": {},
   "outputs": [],
   "source": [
    "df2 = load_and_fillna(\"data/TCGA-LUSC.tsv\")"
   ]
  },
  {
   "cell_type": "code",
   "execution_count": 19,
   "metadata": {},
   "outputs": [],
   "source": [
    "principalComp2 = pca_prep(df2, 2)"
   ]
  },
  {
   "cell_type": "code",
   "execution_count": 20,
   "metadata": {},
   "outputs": [
    {
     "name": "stdout",
     "output_type": "stream",
     "text": [
      "                        PC-1      PC-2\n",
      "Ensembl_ID                            \n",
      "ENSG00000168066.19  0.004068  0.000059\n",
      "ENSG00000160199.13  0.004068  0.000058\n",
      "ENSG00000182944.16  0.004068  0.000127\n",
      "ENSG00000182149.19  0.004068  0.000134\n",
      "ENSG00000182473.19  0.004068  0.000104\n",
      "                        PC-1      PC-2\n",
      "Ensembl_ID                            \n",
      "ENSG00000066405.11  0.004049  0.001057\n",
      "ENSG00000080618.12  0.004063  0.000973\n",
      "ENSG00000096088.15  0.004063  0.000640\n",
      "ENSG00000108576.8   0.004067  0.000604\n",
      "ENSG00000088926.12  0.004065  0.000593\n",
      "                        PC-1      PC-2\n",
      "Ensembl_ID                            \n",
      "ENSG00000177479.18  0.004068  0.000111\n",
      "ENSG00000198218.9   0.004068  0.000157\n",
      "ENSG00000176095.10  0.004068  0.000050\n",
      "ENSG00000164091.10  0.004068  0.000043\n",
      "ENSG00000172046.17  0.004068  0.000078\n",
      "                        PC-1      PC-2\n",
      "Ensembl_ID                            \n",
      "ENSG00000006377.10  0.003541  0.018525\n",
      "ENSG00000011677.11  0.003977  0.007590\n",
      "ENSG00000006606.7   0.003870  0.007121\n",
      "ENSG00000001084.9  -0.000491  0.005245\n",
      "ENSG00000043355.9   0.004042  0.003321\n"
     ]
    }
   ],
   "source": [
    "print(principalComp1.nlargest(5, ['PC-1']))\n",
    "print(principalComp1.nlargest(5, ['PC-2']))\n",
    "print(principalComp2.nlargest(5, ['PC-1']))\n",
    "print(principalComp2.nlargest(5, ['PC-2']))"
   ]
  },
  {
   "cell_type": "code",
   "execution_count": 85,
   "metadata": {},
   "outputs": [
    {
     "data": {
      "text/plain": [
       "(586, 60488)"
      ]
     },
     "execution_count": 85,
     "metadata": {},
     "output_type": "execute_result"
    }
   ],
   "source": [
    "df.shape"
   ]
  },
  {
   "cell_type": "code",
   "execution_count": 88,
   "metadata": {},
   "outputs": [],
   "source": [
    "lung = pd.concat([df,df2])"
   ]
  },
  {
   "cell_type": "code",
   "execution_count": 89,
   "metadata": {},
   "outputs": [
    {
     "data": {
      "text/plain": [
       "(1137, 60488)"
      ]
     },
     "execution_count": 89,
     "metadata": {},
     "output_type": "execute_result"
    }
   ],
   "source": [
    "lung.shape"
   ]
  },
  {
   "cell_type": "code",
   "execution_count": null,
   "metadata": {},
   "outputs": [],
   "source": [
    "lungdf.shape"
   ]
  },
  {
   "cell_type": "code",
   "execution_count": null,
   "metadata": {},
   "outputs": [],
   "source": [
    "lungdf = lungdf[:-5]\n",
    "msk = np.random.rand(len(lungdf)) < 0.8\n",
    "train = lungdf[msk]\n",
    "test = lungdf[~msk]\n",
    "lungdf.shape"
   ]
  },
  {
   "cell_type": "code",
   "execution_count": null,
   "metadata": {},
   "outputs": [],
   "source": [
    "len(train)"
   ]
  },
  {
   "cell_type": "code",
   "execution_count": null,
   "metadata": {},
   "outputs": [],
   "source": [
    "len(test)"
   ]
  },
  {
   "cell_type": "code",
   "execution_count": null,
   "metadata": {},
   "outputs": [],
   "source": [
    "from sklearn import tree\n",
    "from sklearn.tree import DecisionTreeClassifier\n",
    "\n",
    "# decTree = DecisionTreeClassifier()\n",
    "# decTree.fit(X,y)"
   ]
  },
  {
   "cell_type": "code",
   "execution_count": null,
   "metadata": {},
   "outputs": [],
   "source": []
  }
 ],
 "metadata": {
  "kernelspec": {
   "display_name": "Python 3",
   "language": "python",
   "name": "python3"
  },
  "language_info": {
   "codemirror_mode": {
    "name": "ipython",
    "version": 3
   },
   "file_extension": ".py",
   "mimetype": "text/x-python",
   "name": "python",
   "nbconvert_exporter": "python",
   "pygments_lexer": "ipython3",
   "version": "3.7.5"
  }
 },
 "nbformat": 4,
 "nbformat_minor": 2
}
