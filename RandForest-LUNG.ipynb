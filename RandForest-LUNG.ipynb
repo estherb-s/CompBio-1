{
 "cells": [
  {
   "cell_type": "code",
   "execution_count": 2,
   "metadata": {},
   "outputs": [],
   "source": [
    "%matplotlib inline\n",
    "import numpy as np\n",
    "import matplotlib.pyplot as plt\n",
    "import pandas as pd\n",
    "from sklearn.preprocessing import StandardScaler\n",
    "from sklearn.decomposition import PCA\n",
    "from sklearn import preprocessing\n",
    "import seaborn as sns"
   ]
  },
  {
   "cell_type": "code",
   "execution_count": 3,
   "metadata": {},
   "outputs": [],
   "source": [
    "from utils import load_and_fillna, pca_prep, run_random_forest"
   ]
  },
  {
   "cell_type": "code",
   "execution_count": 4,
   "metadata": {},
   "outputs": [],
   "source": [
    "from sklearn.model_selection import train_test_split\n",
    "def extract_features(df):\n",
    "    features = list(df.columns[:-1])\n",
    "    y = df['Target']\n",
    "    X = df[features]\n",
    "    return X,y\n",
    "\n",
    "def split_data(X,y):\n",
    "    X_train, X_test, y_train, y_test = train_test_split(X, y, test_size = 0.2, random_state = 42, stratify=y)\n",
    "    return X_train, X_test, y_train, y_test"
   ]
  },
  {
   "cell_type": "code",
   "execution_count": 10,
   "metadata": {},
   "outputs": [],
   "source": [
    "LUAD = pd.read_pickle(\"data/LUAD.pkl\")\n",
    "LUSC = pd.read_pickle(\"data/LUSC.pkl\")"
   ]
  },
  {
   "cell_type": "code",
   "execution_count": 4,
   "metadata": {},
   "outputs": [
    {
     "data": {
      "text/html": [
       "<div>\n",
       "<style scoped>\n",
       "    .dataframe tbody tr th:only-of-type {\n",
       "        vertical-align: middle;\n",
       "    }\n",
       "\n",
       "    .dataframe tbody tr th {\n",
       "        vertical-align: top;\n",
       "    }\n",
       "\n",
       "    .dataframe thead th {\n",
       "        text-align: right;\n",
       "    }\n",
       "</style>\n",
       "<table border=\"1\" class=\"dataframe\">\n",
       "  <thead>\n",
       "    <tr style=\"text-align: right;\">\n",
       "      <th>Ensembl_ID</th>\n",
       "      <th>ENSG00000000003.13</th>\n",
       "      <th>ENSG00000000005.5</th>\n",
       "      <th>ENSG00000000419.11</th>\n",
       "      <th>ENSG00000000457.12</th>\n",
       "      <th>ENSG00000000460.15</th>\n",
       "      <th>ENSG00000000938.11</th>\n",
       "      <th>ENSG00000000971.14</th>\n",
       "      <th>ENSG00000001036.12</th>\n",
       "      <th>ENSG00000001084.9</th>\n",
       "      <th>ENSG00000001167.13</th>\n",
       "      <th>...</th>\n",
       "      <th>ENSGR0000275287.3</th>\n",
       "      <th>ENSGR0000276543.3</th>\n",
       "      <th>ENSGR0000277120.3</th>\n",
       "      <th>ENSGR0000280767.1</th>\n",
       "      <th>ENSGR0000281849.1</th>\n",
       "      <th>__no_feature</th>\n",
       "      <th>__ambiguous</th>\n",
       "      <th>__too_low_aQual</th>\n",
       "      <th>__not_aligned</th>\n",
       "      <th>__alignment_not_unique</th>\n",
       "    </tr>\n",
       "  </thead>\n",
       "  <tbody>\n",
       "    <tr>\n",
       "      <th>count</th>\n",
       "      <td>586.000000</td>\n",
       "      <td>586.000000</td>\n",
       "      <td>586.000000</td>\n",
       "      <td>586.000000</td>\n",
       "      <td>586.000000</td>\n",
       "      <td>586.000000</td>\n",
       "      <td>586.000000</td>\n",
       "      <td>586.000000</td>\n",
       "      <td>586.000000</td>\n",
       "      <td>586.000000</td>\n",
       "      <td>...</td>\n",
       "      <td>586.000000</td>\n",
       "      <td>586.000000</td>\n",
       "      <td>586.000000</td>\n",
       "      <td>586.000000</td>\n",
       "      <td>586.000000</td>\n",
       "      <td>586.000000</td>\n",
       "      <td>586.000000</td>\n",
       "      <td>586.000000</td>\n",
       "      <td>586.000000</td>\n",
       "      <td>586.000000</td>\n",
       "    </tr>\n",
       "    <tr>\n",
       "      <th>mean</th>\n",
       "      <td>11.336484</td>\n",
       "      <td>1.302350</td>\n",
       "      <td>10.451799</td>\n",
       "      <td>9.719074</td>\n",
       "      <td>8.474492</td>\n",
       "      <td>9.834315</td>\n",
       "      <td>11.887912</td>\n",
       "      <td>11.617572</td>\n",
       "      <td>11.192187</td>\n",
       "      <td>10.895522</td>\n",
       "      <td>...</td>\n",
       "      <td>103.204778</td>\n",
       "      <td>103.206485</td>\n",
       "      <td>103.208191</td>\n",
       "      <td>103.209898</td>\n",
       "      <td>103.211604</td>\n",
       "      <td>124.871385</td>\n",
       "      <td>124.145680</td>\n",
       "      <td>103.216724</td>\n",
       "      <td>103.218430</td>\n",
       "      <td>127.319225</td>\n",
       "    </tr>\n",
       "    <tr>\n",
       "      <th>std</th>\n",
       "      <td>1.136749</td>\n",
       "      <td>1.768003</td>\n",
       "      <td>0.847498</td>\n",
       "      <td>0.812103</td>\n",
       "      <td>1.113972</td>\n",
       "      <td>1.342715</td>\n",
       "      <td>1.274980</td>\n",
       "      <td>0.850138</td>\n",
       "      <td>1.787712</td>\n",
       "      <td>0.862888</td>\n",
       "      <td>...</td>\n",
       "      <td>2498.323152</td>\n",
       "      <td>2498.364462</td>\n",
       "      <td>2498.405772</td>\n",
       "      <td>2498.447081</td>\n",
       "      <td>2498.488391</td>\n",
       "      <td>2497.633671</td>\n",
       "      <td>2497.704967</td>\n",
       "      <td>2498.612320</td>\n",
       "      <td>2498.653629</td>\n",
       "      <td>2497.697805</td>\n",
       "    </tr>\n",
       "    <tr>\n",
       "      <th>min</th>\n",
       "      <td>0.000000</td>\n",
       "      <td>0.000000</td>\n",
       "      <td>2.000000</td>\n",
       "      <td>3.000000</td>\n",
       "      <td>4.000000</td>\n",
       "      <td>5.000000</td>\n",
       "      <td>6.000000</td>\n",
       "      <td>7.000000</td>\n",
       "      <td>6.507795</td>\n",
       "      <td>8.942515</td>\n",
       "      <td>...</td>\n",
       "      <td>0.000000</td>\n",
       "      <td>0.000000</td>\n",
       "      <td>0.000000</td>\n",
       "      <td>0.000000</td>\n",
       "      <td>0.000000</td>\n",
       "      <td>19.637094</td>\n",
       "      <td>19.409486</td>\n",
       "      <td>0.000000</td>\n",
       "      <td>0.000000</td>\n",
       "      <td>22.523092</td>\n",
       "    </tr>\n",
       "    <tr>\n",
       "      <th>25%</th>\n",
       "      <td>10.607552</td>\n",
       "      <td>0.000000</td>\n",
       "      <td>9.920353</td>\n",
       "      <td>9.164907</td>\n",
       "      <td>7.761551</td>\n",
       "      <td>8.965058</td>\n",
       "      <td>11.121844</td>\n",
       "      <td>11.034627</td>\n",
       "      <td>9.914385</td>\n",
       "      <td>10.291158</td>\n",
       "      <td>...</td>\n",
       "      <td>0.000000</td>\n",
       "      <td>0.000000</td>\n",
       "      <td>0.000000</td>\n",
       "      <td>0.000000</td>\n",
       "      <td>0.000000</td>\n",
       "      <td>21.056559</td>\n",
       "      <td>20.509640</td>\n",
       "      <td>0.000000</td>\n",
       "      <td>0.000000</td>\n",
       "      <td>23.651342</td>\n",
       "    </tr>\n",
       "    <tr>\n",
       "      <th>50%</th>\n",
       "      <td>11.361944</td>\n",
       "      <td>1.000000</td>\n",
       "      <td>10.457889</td>\n",
       "      <td>9.733862</td>\n",
       "      <td>8.527477</td>\n",
       "      <td>9.896325</td>\n",
       "      <td>11.954377</td>\n",
       "      <td>11.596654</td>\n",
       "      <td>11.048144</td>\n",
       "      <td>10.858757</td>\n",
       "      <td>...</td>\n",
       "      <td>0.000000</td>\n",
       "      <td>0.000000</td>\n",
       "      <td>0.000000</td>\n",
       "      <td>0.000000</td>\n",
       "      <td>0.000000</td>\n",
       "      <td>21.677380</td>\n",
       "      <td>20.941019</td>\n",
       "      <td>0.000000</td>\n",
       "      <td>0.000000</td>\n",
       "      <td>24.109377</td>\n",
       "    </tr>\n",
       "    <tr>\n",
       "      <th>75%</th>\n",
       "      <td>12.077726</td>\n",
       "      <td>2.000000</td>\n",
       "      <td>11.031873</td>\n",
       "      <td>10.248817</td>\n",
       "      <td>9.255601</td>\n",
       "      <td>10.733437</td>\n",
       "      <td>12.660992</td>\n",
       "      <td>12.188432</td>\n",
       "      <td>12.247832</td>\n",
       "      <td>11.517657</td>\n",
       "      <td>...</td>\n",
       "      <td>0.000000</td>\n",
       "      <td>0.000000</td>\n",
       "      <td>0.000000</td>\n",
       "      <td>0.000000</td>\n",
       "      <td>0.000000</td>\n",
       "      <td>22.202139</td>\n",
       "      <td>21.438473</td>\n",
       "      <td>0.000000</td>\n",
       "      <td>0.000000</td>\n",
       "      <td>24.612320</td>\n",
       "    </tr>\n",
       "    <tr>\n",
       "      <th>max</th>\n",
       "      <td>13.916906</td>\n",
       "      <td>13.001584</td>\n",
       "      <td>13.199672</td>\n",
       "      <td>12.378024</td>\n",
       "      <td>11.585901</td>\n",
       "      <td>14.084393</td>\n",
       "      <td>16.166575</td>\n",
       "      <td>14.401879</td>\n",
       "      <td>16.792040</td>\n",
       "      <td>14.544180</td>\n",
       "      <td>...</td>\n",
       "      <td>60478.000000</td>\n",
       "      <td>60479.000000</td>\n",
       "      <td>60480.000000</td>\n",
       "      <td>60481.000000</td>\n",
       "      <td>60482.000000</td>\n",
       "      <td>60483.000000</td>\n",
       "      <td>60484.000000</td>\n",
       "      <td>60485.000000</td>\n",
       "      <td>60486.000000</td>\n",
       "      <td>60487.000000</td>\n",
       "    </tr>\n",
       "  </tbody>\n",
       "</table>\n",
       "<p>8 rows × 60488 columns</p>\n",
       "</div>"
      ],
      "text/plain": [
       "Ensembl_ID  ENSG00000000003.13  ENSG00000000005.5  ENSG00000000419.11  \\\n",
       "count               586.000000         586.000000          586.000000   \n",
       "mean                 11.336484           1.302350           10.451799   \n",
       "std                   1.136749           1.768003            0.847498   \n",
       "min                   0.000000           0.000000            2.000000   \n",
       "25%                  10.607552           0.000000            9.920353   \n",
       "50%                  11.361944           1.000000           10.457889   \n",
       "75%                  12.077726           2.000000           11.031873   \n",
       "max                  13.916906          13.001584           13.199672   \n",
       "\n",
       "Ensembl_ID  ENSG00000000457.12  ENSG00000000460.15  ENSG00000000938.11  \\\n",
       "count               586.000000          586.000000          586.000000   \n",
       "mean                  9.719074            8.474492            9.834315   \n",
       "std                   0.812103            1.113972            1.342715   \n",
       "min                   3.000000            4.000000            5.000000   \n",
       "25%                   9.164907            7.761551            8.965058   \n",
       "50%                   9.733862            8.527477            9.896325   \n",
       "75%                  10.248817            9.255601           10.733437   \n",
       "max                  12.378024           11.585901           14.084393   \n",
       "\n",
       "Ensembl_ID  ENSG00000000971.14  ENSG00000001036.12  ENSG00000001084.9  \\\n",
       "count               586.000000          586.000000         586.000000   \n",
       "mean                 11.887912           11.617572          11.192187   \n",
       "std                   1.274980            0.850138           1.787712   \n",
       "min                   6.000000            7.000000           6.507795   \n",
       "25%                  11.121844           11.034627           9.914385   \n",
       "50%                  11.954377           11.596654          11.048144   \n",
       "75%                  12.660992           12.188432          12.247832   \n",
       "max                  16.166575           14.401879          16.792040   \n",
       "\n",
       "Ensembl_ID  ENSG00000001167.13  ...  ENSGR0000275287.3  ENSGR0000276543.3  \\\n",
       "count               586.000000  ...         586.000000         586.000000   \n",
       "mean                 10.895522  ...         103.204778         103.206485   \n",
       "std                   0.862888  ...        2498.323152        2498.364462   \n",
       "min                   8.942515  ...           0.000000           0.000000   \n",
       "25%                  10.291158  ...           0.000000           0.000000   \n",
       "50%                  10.858757  ...           0.000000           0.000000   \n",
       "75%                  11.517657  ...           0.000000           0.000000   \n",
       "max                  14.544180  ...       60478.000000       60479.000000   \n",
       "\n",
       "Ensembl_ID  ENSGR0000277120.3  ENSGR0000280767.1  ENSGR0000281849.1  \\\n",
       "count              586.000000         586.000000         586.000000   \n",
       "mean               103.208191         103.209898         103.211604   \n",
       "std               2498.405772        2498.447081        2498.488391   \n",
       "min                  0.000000           0.000000           0.000000   \n",
       "25%                  0.000000           0.000000           0.000000   \n",
       "50%                  0.000000           0.000000           0.000000   \n",
       "75%                  0.000000           0.000000           0.000000   \n",
       "max              60480.000000       60481.000000       60482.000000   \n",
       "\n",
       "Ensembl_ID  __no_feature   __ambiguous  __too_low_aQual  __not_aligned  \\\n",
       "count         586.000000    586.000000       586.000000     586.000000   \n",
       "mean          124.871385    124.145680       103.216724     103.218430   \n",
       "std          2497.633671   2497.704967      2498.612320    2498.653629   \n",
       "min            19.637094     19.409486         0.000000       0.000000   \n",
       "25%            21.056559     20.509640         0.000000       0.000000   \n",
       "50%            21.677380     20.941019         0.000000       0.000000   \n",
       "75%            22.202139     21.438473         0.000000       0.000000   \n",
       "max         60483.000000  60484.000000     60485.000000   60486.000000   \n",
       "\n",
       "Ensembl_ID  __alignment_not_unique  \n",
       "count                   586.000000  \n",
       "mean                    127.319225  \n",
       "std                    2497.697805  \n",
       "min                      22.523092  \n",
       "25%                      23.651342  \n",
       "50%                      24.109377  \n",
       "75%                      24.612320  \n",
       "max                   60487.000000  \n",
       "\n",
       "[8 rows x 60488 columns]"
      ]
     },
     "execution_count": 4,
     "metadata": {},
     "output_type": "execute_result"
    }
   ],
   "source": [
    "LUAD.describe()"
   ]
  },
  {
   "cell_type": "code",
   "execution_count": 3,
   "metadata": {},
   "outputs": [],
   "source": [
    "LUAD[\"Target\"] = 1\n",
    "LUSC[\"Target\"] = 2\n",
    "df = pd.concat([LUAD,LUSC])"
   ]
  },
  {
   "cell_type": "code",
   "execution_count": 15,
   "metadata": {},
   "outputs": [
    {
     "data": {
      "text/plain": [
       "Ensembl_ID\n",
       "Target                   0.499983\n",
       "ENSG00000000457.12       0.758099\n",
       "ENSG00000001497.15       0.763801\n",
       "ENSG00000001167.13       0.791643\n",
       "ENSG00000001629.8        0.804462\n",
       "                         ...     \n",
       "ENSGR0000277120.3     2535.451533\n",
       "ENSGR0000280767.1     2535.493455\n",
       "ENSGR0000281849.1     2535.535377\n",
       "__too_low_aQual       2535.661143\n",
       "__not_aligned         2535.703066\n",
       "Length: 60489, dtype: float64"
      ]
     },
     "execution_count": 15,
     "metadata": {},
     "output_type": "execute_result"
    }
   ],
   "source": [
    "df.std().sort_values()\n",
    "# threshold = 1000\n",
    "# newdf = LUAD.drop(LUAD.std()[LUAD.std() < threshold].index.values, axis=1)"
   ]
  },
  {
   "cell_type": "markdown",
   "metadata": {},
   "source": [
    "Variance thresholding has no effect as theres no feature with the same value in all columns, therefore no features were removed"
   ]
  },
  {
   "cell_type": "code",
   "execution_count": 17,
   "metadata": {},
   "outputs": [
    {
     "data": {
      "text/plain": [
       "(1137, 60489)"
      ]
     },
     "execution_count": 17,
     "metadata": {},
     "output_type": "execute_result"
    }
   ],
   "source": [
    "from sklearn.feature_selection import VarianceThreshold\n",
    "thresholder = VarianceThreshold()\n",
    "df_variance = thresholder.fit_transform(df)\n",
    "df_variance.shape"
   ]
  },
  {
   "cell_type": "markdown",
   "metadata": {},
   "source": [
    "Experimentation with SelectKBest, a feature extraction method to reduce overfitting. The k best features with the highest correlation to the target are selected."
   ]
  },
  {
   "cell_type": "code",
   "execution_count": 23,
   "metadata": {},
   "outputs": [],
   "source": [
    "X, y = extract_features(df)\n",
    "X_train, X_test, y_train, y_test = split_data(X, y)\n",
    "feature_names = list(X.columns)"
   ]
  },
  {
   "cell_type": "code",
   "execution_count": 31,
   "metadata": {},
   "outputs": [],
   "source": [
    "from sklearn.feature_selection import SelectKBest, f_classif, f_regression\n",
    "# feature extraction\n",
    "X_new = SelectKBest(score_func=f_regression, k=10000).fit_transform(X, y)"
   ]
  },
  {
   "cell_type": "code",
   "execution_count": 29,
   "metadata": {},
   "outputs": [
    {
     "data": {
      "text/plain": [
       "(1137, 10000)"
      ]
     },
     "execution_count": 29,
     "metadata": {},
     "output_type": "execute_result"
    }
   ],
   "source": [
    "X_new.shape\n",
    "# X.shape"
   ]
  },
  {
   "cell_type": "code",
   "execution_count": 17,
   "metadata": {
    "scrolled": true
   },
   "outputs": [
    {
     "name": "stderr",
     "output_type": "stream",
     "text": [
      "/usr/local/lib/python3.7/site-packages/sklearn/linear_model/logistic.py:432: FutureWarning: Default solver will be changed to 'lbfgs' in 0.22. Specify a solver to silence this warning.\n",
      "  FutureWarning)\n"
     ]
    },
    {
     "name": "stdout",
     "output_type": "stream",
     "text": [
      "LR Accuracy:  0.9692982456140351\n"
     ]
    }
   ],
   "source": [
    "from sklearn.linear_model import LogisticRegression\n",
    "from sklearn.metrics import accuracy_score\n",
    "clf = LogisticRegression(random_state=42).fit(X_train, y_train)\n",
    "y_pred = clf.predict(X_test)\n",
    "\n",
    "print(\"LR Accuracy: \", accuracy_score(y_test, y_pred))"
   ]
  },
  {
   "cell_type": "markdown",
   "metadata": {},
   "source": [
    "Regularisation doesn't converge"
   ]
  },
  {
   "cell_type": "code",
   "execution_count": null,
   "metadata": {},
   "outputs": [
    {
     "name": "stderr",
     "output_type": "stream",
     "text": [
      "/usr/local/lib/python3.7/site-packages/sklearn/linear_model/logistic.py:432: FutureWarning: Default solver will be changed to 'lbfgs' in 0.22. Specify a solver to silence this warning.\n",
      "  FutureWarning)\n"
     ]
    }
   ],
   "source": [
    "clf = LogisticRegression(penalty='l1', random_state=42).fit(X_train, y_train)\n",
    "y_pred = clf.predict(X_test)\n",
    "\n",
    "print(\"LR Accuracy: \", accuracy_score(y_test, y_pred))"
   ]
  },
  {
   "cell_type": "code",
   "execution_count": 32,
   "metadata": {},
   "outputs": [
    {
     "name": "stderr",
     "output_type": "stream",
     "text": [
      "/usr/local/lib/python3.7/site-packages/sklearn/linear_model/logistic.py:432: FutureWarning: Default solver will be changed to 'lbfgs' in 0.22. Specify a solver to silence this warning.\n",
      "  FutureWarning)\n"
     ]
    },
    {
     "name": "stdout",
     "output_type": "stream",
     "text": [
      "LR Accuracy:  0.9605263157894737\n"
     ]
    }
   ],
   "source": [
    "X_train, X_test, y_train, y_test = split_data(X_new, y)\n",
    "clf = LogisticRegression(random_state=42).fit(X_train, y_train)\n",
    "y_pred = clf.predict(X_test)\n",
    "\n",
    "print(\"LR Accuracy: \", accuracy_score(y_test, y_pred))\n"
   ]
  },
  {
   "cell_type": "code",
   "execution_count": 34,
   "metadata": {},
   "outputs": [
    {
     "name": "stdout",
     "output_type": "stream",
     "text": [
      "SVM Accuracy:  0.9078947368421053\n"
     ]
    }
   ],
   "source": [
    "from sklearn.svm import SVC\n",
    "from sklearn.preprocessing import StandardScaler\n",
    "from sklearn.pipeline import make_pipeline\n",
    "X_train, X_test, y_train, y_test = split_data(X_new, y)\n",
    "clf = make_pipeline(StandardScaler(), SVC(gamma='auto'))\n",
    "clf.fit(X_train, y_train)\n",
    "y_pred = clf.predict(X_test)\n",
    "\n",
    "print(\"SVM Accuracy: \", accuracy_score(y_test, y_pred))\n"
   ]
  },
  {
   "cell_type": "code",
   "execution_count": 11,
   "metadata": {},
   "outputs": [],
   "source": [
    "principalCompLUAD = pca_prep(LUAD, 5)\n",
    "principalCompLUSC = pca_prep(LUSC, 5)"
   ]
  },
  {
   "cell_type": "code",
   "execution_count": 13,
   "metadata": {},
   "outputs": [],
   "source": [
    "\n",
    "principalCompLUAD['Target'] = '0'"
   ]
  },
  {
   "cell_type": "code",
   "execution_count": 14,
   "metadata": {},
   "outputs": [
    {
     "data": {
      "text/html": [
       "<div>\n",
       "<style scoped>\n",
       "    .dataframe tbody tr th:only-of-type {\n",
       "        vertical-align: middle;\n",
       "    }\n",
       "\n",
       "    .dataframe tbody tr th {\n",
       "        vertical-align: top;\n",
       "    }\n",
       "\n",
       "    .dataframe thead th {\n",
       "        text-align: right;\n",
       "    }\n",
       "</style>\n",
       "<table border=\"1\" class=\"dataframe\">\n",
       "  <thead>\n",
       "    <tr style=\"text-align: right;\">\n",
       "      <th>Ensembl_ID</th>\n",
       "      <th>ENSG00000000003.13</th>\n",
       "      <th>ENSG00000000005.5</th>\n",
       "      <th>ENSG00000000419.11</th>\n",
       "      <th>ENSG00000000457.12</th>\n",
       "      <th>ENSG00000000460.15</th>\n",
       "      <th>ENSG00000000938.11</th>\n",
       "      <th>ENSG00000000971.14</th>\n",
       "      <th>ENSG00000001036.12</th>\n",
       "      <th>ENSG00000001084.9</th>\n",
       "      <th>ENSG00000001167.13</th>\n",
       "      <th>...</th>\n",
       "      <th>ENSGR0000276543.3</th>\n",
       "      <th>ENSGR0000277120.3</th>\n",
       "      <th>ENSGR0000280767.1</th>\n",
       "      <th>ENSGR0000281849.1</th>\n",
       "      <th>__no_feature</th>\n",
       "      <th>__ambiguous</th>\n",
       "      <th>__too_low_aQual</th>\n",
       "      <th>__not_aligned</th>\n",
       "      <th>__alignment_not_unique</th>\n",
       "      <th>Target</th>\n",
       "    </tr>\n",
       "  </thead>\n",
       "  <tbody>\n",
       "    <tr>\n",
       "      <th>PC-1</th>\n",
       "      <td>-0.001676</td>\n",
       "      <td>-0.000028</td>\n",
       "      <td>-0.001675</td>\n",
       "      <td>-0.001388</td>\n",
       "      <td>-0.000673</td>\n",
       "      <td>-0.000604</td>\n",
       "      <td>-0.000775</td>\n",
       "      <td>-0.000912</td>\n",
       "      <td>-0.000299</td>\n",
       "      <td>-0.000365</td>\n",
       "      <td>...</td>\n",
       "      <td>0.004068</td>\n",
       "      <td>0.004068</td>\n",
       "      <td>0.004068</td>\n",
       "      <td>0.004068</td>\n",
       "      <td>0.004068</td>\n",
       "      <td>0.004068</td>\n",
       "      <td>0.004068</td>\n",
       "      <td>0.004068</td>\n",
       "      <td>0.004068</td>\n",
       "      <td>0</td>\n",
       "    </tr>\n",
       "    <tr>\n",
       "      <th>PC-2</th>\n",
       "      <td>-0.149663</td>\n",
       "      <td>-0.018969</td>\n",
       "      <td>-0.167814</td>\n",
       "      <td>-0.170663</td>\n",
       "      <td>-0.163008</td>\n",
       "      <td>-0.078096</td>\n",
       "      <td>-0.096229</td>\n",
       "      <td>-0.170478</td>\n",
       "      <td>-0.097126</td>\n",
       "      <td>-0.187566</td>\n",
       "      <td>...</td>\n",
       "      <td>0.000361</td>\n",
       "      <td>0.000361</td>\n",
       "      <td>0.000361</td>\n",
       "      <td>0.000361</td>\n",
       "      <td>0.000324</td>\n",
       "      <td>0.000310</td>\n",
       "      <td>0.000361</td>\n",
       "      <td>0.000361</td>\n",
       "      <td>0.000317</td>\n",
       "      <td>0</td>\n",
       "    </tr>\n",
       "    <tr>\n",
       "      <th>PC-3</th>\n",
       "      <td>0.083602</td>\n",
       "      <td>-0.074727</td>\n",
       "      <td>0.093862</td>\n",
       "      <td>-0.004919</td>\n",
       "      <td>0.239022</td>\n",
       "      <td>-0.296755</td>\n",
       "      <td>-0.115605</td>\n",
       "      <td>0.094663</td>\n",
       "      <td>0.200833</td>\n",
       "      <td>0.094013</td>\n",
       "      <td>...</td>\n",
       "      <td>0.000111</td>\n",
       "      <td>0.000111</td>\n",
       "      <td>0.000111</td>\n",
       "      <td>0.000111</td>\n",
       "      <td>0.000109</td>\n",
       "      <td>0.000115</td>\n",
       "      <td>0.000111</td>\n",
       "      <td>0.000111</td>\n",
       "      <td>0.000125</td>\n",
       "      <td>0</td>\n",
       "    </tr>\n",
       "    <tr>\n",
       "      <th>PC-4</th>\n",
       "      <td>0.009542</td>\n",
       "      <td>0.113397</td>\n",
       "      <td>-0.038756</td>\n",
       "      <td>0.226396</td>\n",
       "      <td>0.119221</td>\n",
       "      <td>-0.196224</td>\n",
       "      <td>0.008580</td>\n",
       "      <td>-0.212243</td>\n",
       "      <td>-0.017100</td>\n",
       "      <td>0.096655</td>\n",
       "      <td>...</td>\n",
       "      <td>-0.000083</td>\n",
       "      <td>-0.000083</td>\n",
       "      <td>-0.000083</td>\n",
       "      <td>-0.000083</td>\n",
       "      <td>0.000083</td>\n",
       "      <td>-0.000086</td>\n",
       "      <td>-0.000083</td>\n",
       "      <td>-0.000083</td>\n",
       "      <td>-0.000053</td>\n",
       "      <td>0</td>\n",
       "    </tr>\n",
       "    <tr>\n",
       "      <th>PC-5</th>\n",
       "      <td>0.037610</td>\n",
       "      <td>-0.147927</td>\n",
       "      <td>-0.033999</td>\n",
       "      <td>0.038899</td>\n",
       "      <td>-0.126607</td>\n",
       "      <td>-0.120663</td>\n",
       "      <td>-0.183692</td>\n",
       "      <td>-0.013738</td>\n",
       "      <td>-0.094451</td>\n",
       "      <td>-0.076787</td>\n",
       "      <td>...</td>\n",
       "      <td>-0.000011</td>\n",
       "      <td>-0.000011</td>\n",
       "      <td>-0.000011</td>\n",
       "      <td>-0.000011</td>\n",
       "      <td>-0.000042</td>\n",
       "      <td>-0.000009</td>\n",
       "      <td>-0.000011</td>\n",
       "      <td>-0.000011</td>\n",
       "      <td>-0.000017</td>\n",
       "      <td>0</td>\n",
       "    </tr>\n",
       "  </tbody>\n",
       "</table>\n",
       "<p>5 rows × 60489 columns</p>\n",
       "</div>"
      ],
      "text/plain": [
       "Ensembl_ID  ENSG00000000003.13  ENSG00000000005.5  ENSG00000000419.11  \\\n",
       "PC-1                 -0.001676          -0.000028           -0.001675   \n",
       "PC-2                 -0.149663          -0.018969           -0.167814   \n",
       "PC-3                  0.083602          -0.074727            0.093862   \n",
       "PC-4                  0.009542           0.113397           -0.038756   \n",
       "PC-5                  0.037610          -0.147927           -0.033999   \n",
       "\n",
       "Ensembl_ID  ENSG00000000457.12  ENSG00000000460.15  ENSG00000000938.11  \\\n",
       "PC-1                 -0.001388           -0.000673           -0.000604   \n",
       "PC-2                 -0.170663           -0.163008           -0.078096   \n",
       "PC-3                 -0.004919            0.239022           -0.296755   \n",
       "PC-4                  0.226396            0.119221           -0.196224   \n",
       "PC-5                  0.038899           -0.126607           -0.120663   \n",
       "\n",
       "Ensembl_ID  ENSG00000000971.14  ENSG00000001036.12  ENSG00000001084.9  \\\n",
       "PC-1                 -0.000775           -0.000912          -0.000299   \n",
       "PC-2                 -0.096229           -0.170478          -0.097126   \n",
       "PC-3                 -0.115605            0.094663           0.200833   \n",
       "PC-4                  0.008580           -0.212243          -0.017100   \n",
       "PC-5                 -0.183692           -0.013738          -0.094451   \n",
       "\n",
       "Ensembl_ID  ENSG00000001167.13  ...  ENSGR0000276543.3  ENSGR0000277120.3  \\\n",
       "PC-1                 -0.000365  ...           0.004068           0.004068   \n",
       "PC-2                 -0.187566  ...           0.000361           0.000361   \n",
       "PC-3                  0.094013  ...           0.000111           0.000111   \n",
       "PC-4                  0.096655  ...          -0.000083          -0.000083   \n",
       "PC-5                 -0.076787  ...          -0.000011          -0.000011   \n",
       "\n",
       "Ensembl_ID  ENSGR0000280767.1  ENSGR0000281849.1  __no_feature  __ambiguous  \\\n",
       "PC-1                 0.004068           0.004068      0.004068     0.004068   \n",
       "PC-2                 0.000361           0.000361      0.000324     0.000310   \n",
       "PC-3                 0.000111           0.000111      0.000109     0.000115   \n",
       "PC-4                -0.000083          -0.000083      0.000083    -0.000086   \n",
       "PC-5                -0.000011          -0.000011     -0.000042    -0.000009   \n",
       "\n",
       "Ensembl_ID  __too_low_aQual  __not_aligned  __alignment_not_unique  Target  \n",
       "PC-1               0.004068       0.004068                0.004068       0  \n",
       "PC-2               0.000361       0.000361                0.000317       0  \n",
       "PC-3               0.000111       0.000111                0.000125       0  \n",
       "PC-4              -0.000083      -0.000083               -0.000053       0  \n",
       "PC-5              -0.000011      -0.000011               -0.000017       0  \n",
       "\n",
       "[5 rows x 60489 columns]"
      ]
     },
     "execution_count": 14,
     "metadata": {},
     "output_type": "execute_result"
    }
   ],
   "source": [
    "principalCompLUAD.head()"
   ]
  },
  {
   "cell_type": "code",
   "execution_count": 15,
   "metadata": {},
   "outputs": [],
   "source": [
    "principalCompLUSC['Target'] = '1'\n",
    "lung = pd.concat([principalCompLUAD,principalCompLUSC])"
   ]
  },
  {
   "cell_type": "code",
   "execution_count": 16,
   "metadata": {},
   "outputs": [
    {
     "name": "stdout",
     "output_type": "stream",
     "text": [
      "(10, 60489)\n"
     ]
    },
    {
     "data": {
      "text/html": [
       "<div>\n",
       "<style scoped>\n",
       "    .dataframe tbody tr th:only-of-type {\n",
       "        vertical-align: middle;\n",
       "    }\n",
       "\n",
       "    .dataframe tbody tr th {\n",
       "        vertical-align: top;\n",
       "    }\n",
       "\n",
       "    .dataframe thead th {\n",
       "        text-align: right;\n",
       "    }\n",
       "</style>\n",
       "<table border=\"1\" class=\"dataframe\">\n",
       "  <thead>\n",
       "    <tr style=\"text-align: right;\">\n",
       "      <th>Ensembl_ID</th>\n",
       "      <th>ENSG00000000003.13</th>\n",
       "      <th>ENSG00000000005.5</th>\n",
       "      <th>ENSG00000000419.11</th>\n",
       "      <th>ENSG00000000457.12</th>\n",
       "      <th>ENSG00000000460.15</th>\n",
       "      <th>ENSG00000000938.11</th>\n",
       "      <th>ENSG00000000971.14</th>\n",
       "      <th>ENSG00000001036.12</th>\n",
       "      <th>ENSG00000001084.9</th>\n",
       "      <th>ENSG00000001167.13</th>\n",
       "      <th>...</th>\n",
       "      <th>ENSGR0000276543.3</th>\n",
       "      <th>ENSGR0000277120.3</th>\n",
       "      <th>ENSGR0000280767.1</th>\n",
       "      <th>ENSGR0000281849.1</th>\n",
       "      <th>__no_feature</th>\n",
       "      <th>__ambiguous</th>\n",
       "      <th>__too_low_aQual</th>\n",
       "      <th>__not_aligned</th>\n",
       "      <th>__alignment_not_unique</th>\n",
       "      <th>Target</th>\n",
       "    </tr>\n",
       "  </thead>\n",
       "  <tbody>\n",
       "    <tr>\n",
       "      <th>PC-1</th>\n",
       "      <td>-0.001676</td>\n",
       "      <td>-0.000028</td>\n",
       "      <td>-0.001675</td>\n",
       "      <td>-0.001388</td>\n",
       "      <td>-0.000673</td>\n",
       "      <td>-0.000604</td>\n",
       "      <td>-0.000775</td>\n",
       "      <td>-0.000912</td>\n",
       "      <td>-0.000299</td>\n",
       "      <td>-0.000365</td>\n",
       "      <td>...</td>\n",
       "      <td>0.004068</td>\n",
       "      <td>0.004068</td>\n",
       "      <td>0.004068</td>\n",
       "      <td>0.004068</td>\n",
       "      <td>0.004068</td>\n",
       "      <td>0.004068</td>\n",
       "      <td>0.004068</td>\n",
       "      <td>0.004068</td>\n",
       "      <td>0.004068</td>\n",
       "      <td>0</td>\n",
       "    </tr>\n",
       "    <tr>\n",
       "      <th>PC-2</th>\n",
       "      <td>-0.149663</td>\n",
       "      <td>-0.018969</td>\n",
       "      <td>-0.167814</td>\n",
       "      <td>-0.170663</td>\n",
       "      <td>-0.163008</td>\n",
       "      <td>-0.078096</td>\n",
       "      <td>-0.096229</td>\n",
       "      <td>-0.170478</td>\n",
       "      <td>-0.097126</td>\n",
       "      <td>-0.187566</td>\n",
       "      <td>...</td>\n",
       "      <td>0.000361</td>\n",
       "      <td>0.000361</td>\n",
       "      <td>0.000361</td>\n",
       "      <td>0.000361</td>\n",
       "      <td>0.000324</td>\n",
       "      <td>0.000310</td>\n",
       "      <td>0.000361</td>\n",
       "      <td>0.000361</td>\n",
       "      <td>0.000317</td>\n",
       "      <td>0</td>\n",
       "    </tr>\n",
       "    <tr>\n",
       "      <th>PC-3</th>\n",
       "      <td>0.083602</td>\n",
       "      <td>-0.074727</td>\n",
       "      <td>0.093862</td>\n",
       "      <td>-0.004919</td>\n",
       "      <td>0.239022</td>\n",
       "      <td>-0.296755</td>\n",
       "      <td>-0.115605</td>\n",
       "      <td>0.094663</td>\n",
       "      <td>0.200833</td>\n",
       "      <td>0.094013</td>\n",
       "      <td>...</td>\n",
       "      <td>0.000111</td>\n",
       "      <td>0.000111</td>\n",
       "      <td>0.000111</td>\n",
       "      <td>0.000111</td>\n",
       "      <td>0.000109</td>\n",
       "      <td>0.000115</td>\n",
       "      <td>0.000111</td>\n",
       "      <td>0.000111</td>\n",
       "      <td>0.000125</td>\n",
       "      <td>0</td>\n",
       "    </tr>\n",
       "    <tr>\n",
       "      <th>PC-4</th>\n",
       "      <td>0.009542</td>\n",
       "      <td>0.113397</td>\n",
       "      <td>-0.038756</td>\n",
       "      <td>0.226396</td>\n",
       "      <td>0.119221</td>\n",
       "      <td>-0.196224</td>\n",
       "      <td>0.008580</td>\n",
       "      <td>-0.212243</td>\n",
       "      <td>-0.017100</td>\n",
       "      <td>0.096655</td>\n",
       "      <td>...</td>\n",
       "      <td>-0.000083</td>\n",
       "      <td>-0.000083</td>\n",
       "      <td>-0.000083</td>\n",
       "      <td>-0.000083</td>\n",
       "      <td>0.000083</td>\n",
       "      <td>-0.000086</td>\n",
       "      <td>-0.000083</td>\n",
       "      <td>-0.000083</td>\n",
       "      <td>-0.000053</td>\n",
       "      <td>0</td>\n",
       "    </tr>\n",
       "    <tr>\n",
       "      <th>PC-5</th>\n",
       "      <td>0.037610</td>\n",
       "      <td>-0.147927</td>\n",
       "      <td>-0.033999</td>\n",
       "      <td>0.038899</td>\n",
       "      <td>-0.126607</td>\n",
       "      <td>-0.120663</td>\n",
       "      <td>-0.183692</td>\n",
       "      <td>-0.013738</td>\n",
       "      <td>-0.094451</td>\n",
       "      <td>-0.076787</td>\n",
       "      <td>...</td>\n",
       "      <td>-0.000011</td>\n",
       "      <td>-0.000011</td>\n",
       "      <td>-0.000011</td>\n",
       "      <td>-0.000011</td>\n",
       "      <td>-0.000042</td>\n",
       "      <td>-0.000009</td>\n",
       "      <td>-0.000011</td>\n",
       "      <td>-0.000011</td>\n",
       "      <td>-0.000017</td>\n",
       "      <td>0</td>\n",
       "    </tr>\n",
       "  </tbody>\n",
       "</table>\n",
       "<p>5 rows × 60489 columns</p>\n",
       "</div>"
      ],
      "text/plain": [
       "Ensembl_ID  ENSG00000000003.13  ENSG00000000005.5  ENSG00000000419.11  \\\n",
       "PC-1                 -0.001676          -0.000028           -0.001675   \n",
       "PC-2                 -0.149663          -0.018969           -0.167814   \n",
       "PC-3                  0.083602          -0.074727            0.093862   \n",
       "PC-4                  0.009542           0.113397           -0.038756   \n",
       "PC-5                  0.037610          -0.147927           -0.033999   \n",
       "\n",
       "Ensembl_ID  ENSG00000000457.12  ENSG00000000460.15  ENSG00000000938.11  \\\n",
       "PC-1                 -0.001388           -0.000673           -0.000604   \n",
       "PC-2                 -0.170663           -0.163008           -0.078096   \n",
       "PC-3                 -0.004919            0.239022           -0.296755   \n",
       "PC-4                  0.226396            0.119221           -0.196224   \n",
       "PC-5                  0.038899           -0.126607           -0.120663   \n",
       "\n",
       "Ensembl_ID  ENSG00000000971.14  ENSG00000001036.12  ENSG00000001084.9  \\\n",
       "PC-1                 -0.000775           -0.000912          -0.000299   \n",
       "PC-2                 -0.096229           -0.170478          -0.097126   \n",
       "PC-3                 -0.115605            0.094663           0.200833   \n",
       "PC-4                  0.008580           -0.212243          -0.017100   \n",
       "PC-5                 -0.183692           -0.013738          -0.094451   \n",
       "\n",
       "Ensembl_ID  ENSG00000001167.13  ...  ENSGR0000276543.3  ENSGR0000277120.3  \\\n",
       "PC-1                 -0.000365  ...           0.004068           0.004068   \n",
       "PC-2                 -0.187566  ...           0.000361           0.000361   \n",
       "PC-3                  0.094013  ...           0.000111           0.000111   \n",
       "PC-4                  0.096655  ...          -0.000083          -0.000083   \n",
       "PC-5                 -0.076787  ...          -0.000011          -0.000011   \n",
       "\n",
       "Ensembl_ID  ENSGR0000280767.1  ENSGR0000281849.1  __no_feature  __ambiguous  \\\n",
       "PC-1                 0.004068           0.004068      0.004068     0.004068   \n",
       "PC-2                 0.000361           0.000361      0.000324     0.000310   \n",
       "PC-3                 0.000111           0.000111      0.000109     0.000115   \n",
       "PC-4                -0.000083          -0.000083      0.000083    -0.000086   \n",
       "PC-5                -0.000011          -0.000011     -0.000042    -0.000009   \n",
       "\n",
       "Ensembl_ID  __too_low_aQual  __not_aligned  __alignment_not_unique  Target  \n",
       "PC-1               0.004068       0.004068                0.004068       0  \n",
       "PC-2               0.000361       0.000361                0.000317       0  \n",
       "PC-3               0.000111       0.000111                0.000125       0  \n",
       "PC-4              -0.000083      -0.000083               -0.000053       0  \n",
       "PC-5              -0.000011      -0.000011               -0.000017       0  \n",
       "\n",
       "[5 rows x 60489 columns]"
      ]
     },
     "execution_count": 16,
     "metadata": {},
     "output_type": "execute_result"
    }
   ],
   "source": [
    "print(lung.shape)\n",
    "lung.head()"
   ]
  },
  {
   "cell_type": "code",
   "execution_count": 17,
   "metadata": {},
   "outputs": [],
   "source": [
    "X, y = extract_features(lung)\n",
    "X_train, X_test, y_train, y_test = split_data(X, y)\n",
    "feature_names = list(X.columns)"
   ]
  },
  {
   "cell_type": "code",
   "execution_count": 21,
   "metadata": {},
   "outputs": [
    {
     "name": "stdout",
     "output_type": "stream",
     "text": [
      "Training Features Shape: (8, 60488)\n",
      "Training Labels Shape: (8,)\n",
      "Testing Features Shape: (2, 60488)\n",
      "Testing Labels Shape: (2,)\n",
      "Index(['PC-4', 'PC-5', 'PC-2', 'PC-1', 'PC-2', 'PC-1', 'PC-3', 'PC-3'], dtype='object')\n"
     ]
    }
   ],
   "source": [
    "print('Training Features Shape:', X_train.shape)\n",
    "print('Training Labels Shape:', y_train.shape)\n",
    "print('Testing Features Shape:', X_test.shape)\n",
    "print('Testing Labels Shape:', y_test.shape)\n",
    "print(y_train.index)"
   ]
  },
  {
   "cell_type": "code",
   "execution_count": 23,
   "metadata": {},
   "outputs": [
    {
     "name": "stdout",
     "output_type": "stream",
     "text": [
      "SVM Accuracy:  0.0\n"
     ]
    }
   ],
   "source": [
    "from sklearn.svm import SVC\n",
    "from sklearn.preprocessing import StandardScaler\n",
    "from sklearn.pipeline import make_pipeline\n",
    "clf = make_pipeline(StandardScaler(), SVC(gamma='auto'))\n",
    "clf.fit(X_train, y_train)\n",
    "y_pred = clf.predict(X_test)\n",
    "\n",
    "print(\"SVM Accuracy: \", accuracy_score(y_test, y_pred))"
   ]
  },
  {
   "cell_type": "code",
   "execution_count": 24,
   "metadata": {},
   "outputs": [
    {
     "name": "stdout",
     "output_type": "stream",
     "text": [
      "Training Features Shape: (8, 60488)\n",
      "Training Labels Shape: (8,)\n",
      "Testing Features Shape: (2, 60488)\n",
      "Testing Labels Shape: (2,)\n",
      "Index(['PC-1', 'PC-1', 'PC-3', 'PC-3', 'PC-5', 'PC-5', 'PC-4', 'PC-2'], dtype='object')\n",
      "Training the model\n"
     ]
    },
    {
     "data": {
      "image/png": "[encoded data removed]",
      "text/plain": [
       "<Figure size 432x288 with 1 Axes>"
      ]
     },
     "metadata": {
      "needs_background": "light"
     },
     "output_type": "display_data"
    },
    {
     "name": "stdout",
     "output_type": "stream",
     "text": [
      "Top 20 features: ['ENSG00000060069.15', 'ENSG00000001497.15', 'ENSG00000011007.11', 'ENSG00000109814.10', 'ENSG00000162377.5', 'ENSG00000022976.14', 'ENSG00000186862.16', 'ENSG00000087460.22', 'ENSG00000006747.13', 'ENSG00000070081.14', 'ENSG00000214248.2', 'ENSG00000242770.2', 'ENSG00000011600.10', 'ENSG00000179520.9', 'ENSG00000032742.16', 'ENSG00000197702.10', 'ENSG00000138399.16', 'ENSG00000163734.4', 'ENSG00000110090.11', 'ENSG00000036473.6']\n"
     ]
    }
   ],
   "source": [
    "lung_important = run_random_forest(df=lung, random_state=42, n_estimators=1000, n_importance=20, name=\"Lung\")"
   ]
  },
  {
   "cell_type": "code",
   "execution_count": 33,
   "metadata": {},
   "outputs": [
    {
     "data": {
      "text/html": [
       "<div>\n",
       "<style scoped>\n",
       "    .dataframe tbody tr th:only-of-type {\n",
       "        vertical-align: middle;\n",
       "    }\n",
       "\n",
       "    .dataframe tbody tr th {\n",
       "        vertical-align: top;\n",
       "    }\n",
       "\n",
       "    .dataframe thead th {\n",
       "        text-align: right;\n",
       "    }\n",
       "</style>\n",
       "<table border=\"1\" class=\"dataframe\">\n",
       "  <thead>\n",
       "    <tr style=\"text-align: right;\">\n",
       "      <th>Ensembl_ID</th>\n",
       "      <th>ENSG00000000003.13</th>\n",
       "      <th>ENSG00000000005.5</th>\n",
       "      <th>ENSG00000000419.11</th>\n",
       "      <th>ENSG00000000457.12</th>\n",
       "      <th>ENSG00000000460.15</th>\n",
       "      <th>ENSG00000000938.11</th>\n",
       "      <th>ENSG00000000971.14</th>\n",
       "      <th>ENSG00000001036.12</th>\n",
       "      <th>ENSG00000001084.9</th>\n",
       "      <th>ENSG00000001167.13</th>\n",
       "      <th>...</th>\n",
       "      <th>ENSGR0000276543.3</th>\n",
       "      <th>ENSGR0000277120.3</th>\n",
       "      <th>ENSGR0000280767.1</th>\n",
       "      <th>ENSGR0000281849.1</th>\n",
       "      <th>__no_feature</th>\n",
       "      <th>__ambiguous</th>\n",
       "      <th>__too_low_aQual</th>\n",
       "      <th>__not_aligned</th>\n",
       "      <th>__alignment_not_unique</th>\n",
       "      <th>Target</th>\n",
       "    </tr>\n",
       "  </thead>\n",
       "  <tbody>\n",
       "    <tr>\n",
       "      <th>PC-1</th>\n",
       "      <td>-0.001676</td>\n",
       "      <td>-0.000028</td>\n",
       "      <td>-0.001675</td>\n",
       "      <td>-0.001388</td>\n",
       "      <td>-0.000673</td>\n",
       "      <td>-0.000604</td>\n",
       "      <td>-0.000775</td>\n",
       "      <td>-0.000912</td>\n",
       "      <td>-0.000299</td>\n",
       "      <td>-0.000365</td>\n",
       "      <td>...</td>\n",
       "      <td>0.004068</td>\n",
       "      <td>0.004068</td>\n",
       "      <td>0.004068</td>\n",
       "      <td>0.004068</td>\n",
       "      <td>0.004068</td>\n",
       "      <td>0.004068</td>\n",
       "      <td>0.004068</td>\n",
       "      <td>0.004068</td>\n",
       "      <td>0.004068</td>\n",
       "      <td>0</td>\n",
       "    </tr>\n",
       "    <tr>\n",
       "      <th>PC-2</th>\n",
       "      <td>-0.149663</td>\n",
       "      <td>-0.018969</td>\n",
       "      <td>-0.167814</td>\n",
       "      <td>-0.170663</td>\n",
       "      <td>-0.163008</td>\n",
       "      <td>-0.078096</td>\n",
       "      <td>-0.096229</td>\n",
       "      <td>-0.170478</td>\n",
       "      <td>-0.097126</td>\n",
       "      <td>-0.187566</td>\n",
       "      <td>...</td>\n",
       "      <td>0.000361</td>\n",
       "      <td>0.000361</td>\n",
       "      <td>0.000361</td>\n",
       "      <td>0.000361</td>\n",
       "      <td>0.000324</td>\n",
       "      <td>0.000310</td>\n",
       "      <td>0.000361</td>\n",
       "      <td>0.000361</td>\n",
       "      <td>0.000317</td>\n",
       "      <td>0</td>\n",
       "    </tr>\n",
       "    <tr>\n",
       "      <th>PC-3</th>\n",
       "      <td>0.083602</td>\n",
       "      <td>-0.074727</td>\n",
       "      <td>0.093862</td>\n",
       "      <td>-0.004919</td>\n",
       "      <td>0.239022</td>\n",
       "      <td>-0.296755</td>\n",
       "      <td>-0.115605</td>\n",
       "      <td>0.094663</td>\n",
       "      <td>0.200833</td>\n",
       "      <td>0.094013</td>\n",
       "      <td>...</td>\n",
       "      <td>0.000111</td>\n",
       "      <td>0.000111</td>\n",
       "      <td>0.000111</td>\n",
       "      <td>0.000111</td>\n",
       "      <td>0.000109</td>\n",
       "      <td>0.000115</td>\n",
       "      <td>0.000111</td>\n",
       "      <td>0.000111</td>\n",
       "      <td>0.000125</td>\n",
       "      <td>0</td>\n",
       "    </tr>\n",
       "    <tr>\n",
       "      <th>PC-4</th>\n",
       "      <td>0.009542</td>\n",
       "      <td>0.113397</td>\n",
       "      <td>-0.038756</td>\n",
       "      <td>0.226396</td>\n",
       "      <td>0.119221</td>\n",
       "      <td>-0.196224</td>\n",
       "      <td>0.008580</td>\n",
       "      <td>-0.212243</td>\n",
       "      <td>-0.017100</td>\n",
       "      <td>0.096655</td>\n",
       "      <td>...</td>\n",
       "      <td>-0.000083</td>\n",
       "      <td>-0.000083</td>\n",
       "      <td>-0.000083</td>\n",
       "      <td>-0.000083</td>\n",
       "      <td>0.000083</td>\n",
       "      <td>-0.000086</td>\n",
       "      <td>-0.000083</td>\n",
       "      <td>-0.000083</td>\n",
       "      <td>-0.000053</td>\n",
       "      <td>0</td>\n",
       "    </tr>\n",
       "    <tr>\n",
       "      <th>PC-5</th>\n",
       "      <td>0.037610</td>\n",
       "      <td>-0.147927</td>\n",
       "      <td>-0.033999</td>\n",
       "      <td>0.038899</td>\n",
       "      <td>-0.126607</td>\n",
       "      <td>-0.120663</td>\n",
       "      <td>-0.183692</td>\n",
       "      <td>-0.013738</td>\n",
       "      <td>-0.094451</td>\n",
       "      <td>-0.076787</td>\n",
       "      <td>...</td>\n",
       "      <td>-0.000011</td>\n",
       "      <td>-0.000011</td>\n",
       "      <td>-0.000011</td>\n",
       "      <td>-0.000011</td>\n",
       "      <td>-0.000042</td>\n",
       "      <td>-0.000009</td>\n",
       "      <td>-0.000011</td>\n",
       "      <td>-0.000011</td>\n",
       "      <td>-0.000017</td>\n",
       "      <td>0</td>\n",
       "    </tr>\n",
       "  </tbody>\n",
       "</table>\n",
       "<p>5 rows × 60489 columns</p>\n",
       "</div>"
      ],
      "text/plain": [
       "Ensembl_ID  ENSG00000000003.13  ENSG00000000005.5  ENSG00000000419.11  \\\n",
       "PC-1                 -0.001676          -0.000028           -0.001675   \n",
       "PC-2                 -0.149663          -0.018969           -0.167814   \n",
       "PC-3                  0.083602          -0.074727            0.093862   \n",
       "PC-4                  0.009542           0.113397           -0.038756   \n",
       "PC-5                  0.037610          -0.147927           -0.033999   \n",
       "\n",
       "Ensembl_ID  ENSG00000000457.12  ENSG00000000460.15  ENSG00000000938.11  \\\n",
       "PC-1                 -0.001388           -0.000673           -0.000604   \n",
       "PC-2                 -0.170663           -0.163008           -0.078096   \n",
       "PC-3                 -0.004919            0.239022           -0.296755   \n",
       "PC-4                  0.226396            0.119221           -0.196224   \n",
       "PC-5                  0.038899           -0.126607           -0.120663   \n",
       "\n",
       "Ensembl_ID  ENSG00000000971.14  ENSG00000001036.12  ENSG00000001084.9  \\\n",
       "PC-1                 -0.000775           -0.000912          -0.000299   \n",
       "PC-2                 -0.096229           -0.170478          -0.097126   \n",
       "PC-3                 -0.115605            0.094663           0.200833   \n",
       "PC-4                  0.008580           -0.212243          -0.017100   \n",
       "PC-5                 -0.183692           -0.013738          -0.094451   \n",
       "\n",
       "Ensembl_ID  ENSG00000001167.13  ...  ENSGR0000276543.3  ENSGR0000277120.3  \\\n",
       "PC-1                 -0.000365  ...           0.004068           0.004068   \n",
       "PC-2                 -0.187566  ...           0.000361           0.000361   \n",
       "PC-3                  0.094013  ...           0.000111           0.000111   \n",
       "PC-4                  0.096655  ...          -0.000083          -0.000083   \n",
       "PC-5                 -0.076787  ...          -0.000011          -0.000011   \n",
       "\n",
       "Ensembl_ID  ENSGR0000280767.1  ENSGR0000281849.1  __no_feature  __ambiguous  \\\n",
       "PC-1                 0.004068           0.004068      0.004068     0.004068   \n",
       "PC-2                 0.000361           0.000361      0.000324     0.000310   \n",
       "PC-3                 0.000111           0.000111      0.000109     0.000115   \n",
       "PC-4                -0.000083          -0.000083      0.000083    -0.000086   \n",
       "PC-5                -0.000011          -0.000011     -0.000042    -0.000009   \n",
       "\n",
       "Ensembl_ID  __too_low_aQual  __not_aligned  __alignment_not_unique  Target  \n",
       "PC-1               0.004068       0.004068                0.004068       0  \n",
       "PC-2               0.000361       0.000361                0.000317       0  \n",
       "PC-3               0.000111       0.000111                0.000125       0  \n",
       "PC-4              -0.000083      -0.000083               -0.000053       0  \n",
       "PC-5              -0.000011      -0.000011               -0.000017       0  \n",
       "\n",
       "[5 rows x 60489 columns]"
      ]
     },
     "execution_count": 33,
     "metadata": {},
     "output_type": "execute_result"
    }
   ],
   "source": [
    "lung.shape\n",
    "lung.head()"
   ]
  },
  {
   "cell_type": "code",
   "execution_count": 34,
   "metadata": {},
   "outputs": [],
   "source": [
    "X, y = extract_features(lung)\n",
    "X_train, X_test, y_train, y_test = split_data(X, y)"
   ]
  },
  {
   "cell_type": "code",
   "execution_count": 35,
   "metadata": {},
   "outputs": [
    {
     "name": "stdout",
     "output_type": "stream",
     "text": [
      "{'bootstrap': [True, False],\n",
      " 'max_depth': [10, 20, 30, 40, 50, 60, 70, 80, 90, 100, 110, None],\n",
      " 'max_features': ['auto', 'sqrt'],\n",
      " 'min_samples_leaf': [1, 2, 4],\n",
      " 'min_samples_split': [2, 5, 10],\n",
      " 'n_estimators': [200, 400, 600, 800, 1000, 1200, 1400, 1600, 1800, 2000]}\n"
     ]
    }
   ],
   "source": [
    "from sklearn.model_selection import RandomizedSearchCV\n",
    "from pprint import pprint\n",
    "# Number of trees in random forest\n",
    "n_estimators = [int(x) for x in np.linspace(start = 200, stop = 2000, num = 10)]\n",
    "# Number of features to consider at every split\n",
    "max_features = ['auto', 'sqrt']\n",
    "# Maximum number of levels in tree\n",
    "max_depth = [int(x) for x in np.linspace(10, 110, num = 11)]\n",
    "max_depth.append(None)\n",
    "# Minimum number of samples required to split a node\n",
    "min_samples_split = [2, 5, 10]\n",
    "# Minimum number of samples required at each leaf node\n",
    "min_samples_leaf = [1, 2, 4]\n",
    "# Method of selecting samples for training each tree\n",
    "bootstrap = [True, False]\n",
    "# Create the random grid\n",
    "random_grid = {'n_estimators': n_estimators,\n",
    "               'max_features': max_features,\n",
    "               'max_depth': max_depth,\n",
    "               'min_samples_split': min_samples_split,\n",
    "               'min_samples_leaf': min_samples_leaf,\n",
    "               'bootstrap': bootstrap}\n",
    "pprint(random_grid)"
   ]
  },
  {
   "cell_type": "code",
   "execution_count": 36,
   "metadata": {},
   "outputs": [
    {
     "name": "stdout",
     "output_type": "stream",
     "text": [
      "Fitting 3 folds for each of 100 candidates, totalling 300 fits\n"
     ]
    },
    {
     "name": "stderr",
     "output_type": "stream",
     "text": [
      "[Parallel(n_jobs=-1)]: Using backend LokyBackend with 4 concurrent workers.\n",
      "[Parallel(n_jobs=-1)]: Done  33 tasks      | elapsed:   41.5s\n",
      "[Parallel(n_jobs=-1)]: Done 154 tasks      | elapsed:  3.0min\n",
      "[Parallel(n_jobs=-1)]: Done 300 out of 300 | elapsed:  5.1min finished\n",
      "/usr/local/lib/python3.7/site-packages/sklearn/model_selection/_search.py:814: DeprecationWarning: The default of the `iid` parameter will change from True to False in version 0.22 and will be removed in 0.24. This will change numeric results when test-set sizes are unequal.\n",
      "  DeprecationWarning)\n"
     ]
    },
    {
     "data": {
      "text/plain": [
       "RandomizedSearchCV(cv=3, error_score='raise-deprecating',\n",
       "                   estimator=RandomForestClassifier(bootstrap=True,\n",
       "                                                    class_weight=None,\n",
       "                                                    criterion='gini',\n",
       "                                                    max_depth=None,\n",
       "                                                    max_features='auto',\n",
       "                                                    max_leaf_nodes=None,\n",
       "                                                    min_impurity_decrease=0.0,\n",
       "                                                    min_impurity_split=None,\n",
       "                                                    min_samples_leaf=1,\n",
       "                                                    min_samples_split=2,\n",
       "                                                    min_weight_fraction_leaf=0.0,\n",
       "                                                    n_estimators='warn',\n",
       "                                                    n_jobs=None,\n",
       "                                                    oob_sc...\n",
       "                   param_distributions={'bootstrap': [True, False],\n",
       "                                        'max_depth': [10, 20, 30, 40, 50, 60,\n",
       "                                                      70, 80, 90, 100, 110,\n",
       "                                                      None],\n",
       "                                        'max_features': ['auto', 'sqrt'],\n",
       "                                        'min_samples_leaf': [1, 2, 4],\n",
       "                                        'min_samples_split': [2, 5, 10],\n",
       "                                        'n_estimators': [200, 400, 600, 800,\n",
       "                                                         1000, 1200, 1400, 1600,\n",
       "                                                         1800, 2000]},\n",
       "                   pre_dispatch='2*n_jobs', random_state=42, refit=True,\n",
       "                   return_train_score=False, scoring=None, verbose=2)"
      ]
     },
     "execution_count": 36,
     "metadata": {},
     "output_type": "execute_result"
    }
   ],
   "source": [
    "from sklearn.ensemble import RandomForestClassifier\n",
    "\n",
    "# randForest = RandomForestClassifier(n_estimators=2000, bootstrap = True, oob_score = True, random_state = 42)\n",
    "randForest = RandomForestClassifier()\n",
    "# Train model\n",
    "# Random search of parameters, using 3 fold cross validation, \n",
    "# search across 100 different combinations, and use all available cores\n",
    "rfRandom = RandomizedSearchCV(estimator = randForest, param_distributions = random_grid, n_iter = 100, cv = 3, verbose=2, random_state=42, n_jobs = -1)\n",
    "# randForest.fit(Xtrain,Ytrain)\n",
    "# Fit the random search model\n",
    "rfRandom.fit(X_train, y_train)"
   ]
  },
  {
   "cell_type": "code",
   "execution_count": 37,
   "metadata": {},
   "outputs": [
    {
     "data": {
      "text/plain": [
       "{'n_estimators': 2000,\n",
       " 'min_samples_split': 2,\n",
       " 'min_samples_leaf': 4,\n",
       " 'max_features': 'auto',\n",
       " 'max_depth': 30,\n",
       " 'bootstrap': False}"
      ]
     },
     "execution_count": 37,
     "metadata": {},
     "output_type": "execute_result"
    }
   ],
   "source": [
    "rfRandom.best_params_"
   ]
  },
  {
   "cell_type": "code",
   "execution_count": 39,
   "metadata": {},
   "outputs": [
    {
     "data": {
      "text/plain": [
       "RandomForestClassifier(bootstrap=True, class_weight=None, criterion='gini',\n",
       "                       max_depth=30, max_features='auto', max_leaf_nodes=None,\n",
       "                       min_impurity_decrease=0.0, min_impurity_split=None,\n",
       "                       min_samples_leaf=4, min_samples_split=2,\n",
       "                       min_weight_fraction_leaf=0.0, n_estimators=2000,\n",
       "                       n_jobs=None, oob_score=True, random_state=42, verbose=0,\n",
       "                       warm_start=False)"
      ]
     },
     "execution_count": 39,
     "metadata": {},
     "output_type": "execute_result"
    }
   ],
   "source": [
    "# randForest = RandomForestClassifier(n_estimators=2000, bootstrap = True, max_depth=10, min_samples_split=5, min_samples_leaf=1, max_features='sqrt', oob_score = True, random_state = 42)\n",
    "randForest = RandomForestClassifier(n_estimators=2000, bootstrap = True, max_depth=30, min_samples_split=2, min_samples_leaf=4, max_features='auto', oob_score = True, random_state = 42)\n",
    "\n",
    "randForest.fit(X_train,y_train)"
   ]
  },
  {
   "cell_type": "code",
   "execution_count": 41,
   "metadata": {},
   "outputs": [
    {
     "name": "stdout",
     "output_type": "stream",
     "text": [
      "R^2 Training Score: 0.50 \n",
      "OOB Score: 0.00 \n",
      "R^2 Validation Score: 0.50\n"
     ]
    }
   ],
   "source": [
    "print('R^2 Training Score: {:.2f} \\nOOB Score: {:.2f} \\nR^2 Validation Score: {:.2f}'.format(randForest.score(X_train, y_train), \n",
    "                                                                                             randForest.oob_score_,\n",
    "                                                                                             randForest.score(X_test, y_test)))"
   ]
  },
  {
   "cell_type": "code",
   "execution_count": 16,
   "metadata": {
    "scrolled": true
   },
   "outputs": [],
   "source": [
    "# df = load_and_fillna(\"data/TCGA-LUAD.tsv\")\n",
    "# df2 = load_and_fillna(\"data/TCGA-LUSC.tsv\")\n",
    "# principalCompLUAD = pca_prep(df, 5)\n",
    "# principalCompLUSC = pca_prep(df2, 5)\n",
    "# principalCompLUAD['Target'] = '0'\n",
    "# principalCompLUSC['Target'] = '1'\n",
    "# # clean up memory\n",
    "# del df\n",
    "# del df2\n",
    "# lung = pd.concat([principalCompLUAD,principalCompLUSC])\n",
    "# lung_important = run_random_forest(df=lung, random_state=42, n_estimators=1000, n_importance=20, name=\"Lung\")"
   ]
  },
  {
   "cell_type": "code",
   "execution_count": 4,
   "metadata": {},
   "outputs": [
    {
     "data": {
      "text/plain": [
       "['ENSG00000060069.15',\n",
       " 'ENSG00000001497.15',\n",
       " 'ENSG00000011007.11',\n",
       " 'ENSG00000109814.10',\n",
       " 'ENSG00000162377.5',\n",
       " 'ENSG00000022976.14',\n",
       " 'ENSG00000186862.16',\n",
       " 'ENSG00000087460.22',\n",
       " 'ENSG00000006747.13',\n",
       " 'ENSG00000070081.14',\n",
       " 'ENSG00000214248.2',\n",
       " 'ENSG00000242770.2',\n",
       " 'ENSG00000011600.10',\n",
       " 'ENSG00000179520.9',\n",
       " 'ENSG00000032742.16',\n",
       " 'ENSG00000197702.10',\n",
       " 'ENSG00000138399.16',\n",
       " 'ENSG00000163734.4',\n",
       " 'ENSG00000110090.11',\n",
       " 'ENSG00000036473.6']"
      ]
     },
     "execution_count": 4,
     "metadata": {},
     "output_type": "execute_result"
    }
   ],
   "source": [
    "lung_important"
   ]
  },
  {
   "cell_type": "code",
   "execution_count": 30,
   "metadata": {},
   "outputs": [],
   "source": []
  },
  {
   "cell_type": "code",
   "execution_count": 34,
   "metadata": {},
   "outputs": [
    {
     "data": {
      "image/svg+xml": [
       "<svg height=\"186pt\" viewBox=\"0.00 0.00 209.54 186.00\" width=\"210pt\" xmlns=\"http://www.w3.org/2000/svg\" xmlns:xlink=\"http://www.w3.org/1999/xlink\">\n",
       "<g class=\"graph\" id=\"graph0\" transform=\"scale(1 1) rotate(0) translate(4 182)\">\n",
       "<title>Tree</title>\n",
       "<polygon fill=\"white\" points=\"-4,4 -4,-182 205.54,-182 205.54,4 -4,4\" stroke=\"transparent\"/>\n",
       "<!-- 0 -->\n",
       "<g class=\"node\" id=\"node1\">\n",
       "<title>0</title>\n",
       "<polygon fill=\"none\" points=\"196.78,-178 4.76,-178 4.76,-100 196.78,-100 196.78,-178\" stroke=\"black\"/>\n",
       "<text font-family=\"Times,serif\" font-size=\"14.00\" text-anchor=\"middle\" x=\"100.77\" y=\"-162.8\">ENSG00000100916.12 &lt;= -0.0</text>\n",
       "<text font-family=\"Times,serif\" font-size=\"14.00\" text-anchor=\"middle\" x=\"100.77\" y=\"-148.8\">gini = 0.469</text>\n",
       "<text font-family=\"Times,serif\" font-size=\"14.00\" text-anchor=\"middle\" x=\"100.77\" y=\"-134.8\">samples = 5</text>\n",
       "<text font-family=\"Times,serif\" font-size=\"14.00\" text-anchor=\"middle\" x=\"100.77\" y=\"-120.8\">value = [5, 3]</text>\n",
       "<text font-family=\"Times,serif\" font-size=\"14.00\" text-anchor=\"middle\" x=\"100.77\" y=\"-106.8\">class = 0</text>\n",
       "</g>\n",
       "<!-- 1 -->\n",
       "<g class=\"node\" id=\"node2\">\n",
       "<title>1</title>\n",
       "<polygon fill=\"none\" points=\"91.31,-64 0.23,-64 0.23,0 91.31,0 91.31,-64\" stroke=\"black\"/>\n",
       "<text font-family=\"Times,serif\" font-size=\"14.00\" text-anchor=\"middle\" x=\"45.77\" y=\"-48.8\">gini = 0.0</text>\n",
       "<text font-family=\"Times,serif\" font-size=\"14.00\" text-anchor=\"middle\" x=\"45.77\" y=\"-34.8\">samples = 2</text>\n",
       "<text font-family=\"Times,serif\" font-size=\"14.00\" text-anchor=\"middle\" x=\"45.77\" y=\"-20.8\">value = [0, 3]</text>\n",
       "<text font-family=\"Times,serif\" font-size=\"14.00\" text-anchor=\"middle\" x=\"45.77\" y=\"-6.8\">class = 1</text>\n",
       "</g>\n",
       "<!-- 0&#45;&gt;1 -->\n",
       "<g class=\"edge\" id=\"edge1\">\n",
       "<title>0-&gt;1</title>\n",
       "<path d=\"M80.76,-99.8C76.2,-91.09 71.34,-81.82 66.74,-73.04\" fill=\"none\" stroke=\"black\"/>\n",
       "<polygon fill=\"black\" points=\"69.81,-71.35 62.07,-64.12 63.61,-74.6 69.81,-71.35\" stroke=\"black\"/>\n",
       "<text font-family=\"Times,serif\" font-size=\"14.00\" text-anchor=\"middle\" x=\"54.61\" y=\"-83.78\">True</text>\n",
       "</g>\n",
       "<!-- 2 -->\n",
       "<g class=\"node\" id=\"node3\">\n",
       "<title>2</title>\n",
       "<polygon fill=\"none\" points=\"201.31,-64 110.23,-64 110.23,0 201.31,0 201.31,-64\" stroke=\"black\"/>\n",
       "<text font-family=\"Times,serif\" font-size=\"14.00\" text-anchor=\"middle\" x=\"155.77\" y=\"-48.8\">gini = 0.0</text>\n",
       "<text font-family=\"Times,serif\" font-size=\"14.00\" text-anchor=\"middle\" x=\"155.77\" y=\"-34.8\">samples = 3</text>\n",
       "<text font-family=\"Times,serif\" font-size=\"14.00\" text-anchor=\"middle\" x=\"155.77\" y=\"-20.8\">value = [5, 0]</text>\n",
       "<text font-family=\"Times,serif\" font-size=\"14.00\" text-anchor=\"middle\" x=\"155.77\" y=\"-6.8\">class = 0</text>\n",
       "</g>\n",
       "<!-- 0&#45;&gt;2 -->\n",
       "<g class=\"edge\" id=\"edge2\">\n",
       "<title>0-&gt;2</title>\n",
       "<path d=\"M120.78,-99.8C125.34,-91.09 130.2,-81.82 134.79,-73.04\" fill=\"none\" stroke=\"black\"/>\n",
       "<polygon fill=\"black\" points=\"137.93,-74.6 139.47,-64.12 131.73,-71.35 137.93,-74.6\" stroke=\"black\"/>\n",
       "<text font-family=\"Times,serif\" font-size=\"14.00\" text-anchor=\"middle\" x=\"146.93\" y=\"-83.78\">False</text>\n",
       "</g>\n",
       "</g>\n",
       "</svg>"
      ],
      "text/plain": [
       "<IPython.core.display.SVG object>"
      ]
     },
     "execution_count": 34,
     "metadata": {},
     "output_type": "execute_result"
    }
   ],
   "source": [
    "from sklearn import tree\n",
    "from graphviz import Source\n",
    "# randForest = RandomForestClassifier(n_estimators=10)\n",
    "# randForest.fit(Xtrain, Ytrain)\n",
    "# Extract a tree\n",
    "estimator = randForest.estimators_[5]\n",
    "\n",
    "from sklearn.tree import export_graphviz\n",
    "# Export as dot file\n",
    "Source(tree.export_graphviz(estimator, out_file=None, \n",
    "                feature_names = Xtrain.columns,\n",
    "                class_names = Ytrain.index,\n",
    "                rounded = True, proportion = False, \n",
    "                precision = 2, filled = True))\n",
    "\n",
    "# Convert to png using system command (requires Graphviz)\n",
    "# from subprocess import call\n",
    "# call(['dot', '-Tpng', 'tree.dot', '-o', 'tree.png', '-Gdpi=600'])\n",
    "\n",
    "# Display in jupyter notebook\n",
    "# from IPython.display import Image\n",
    "# Image(filename = 'tree.png')\n",
    "from IPython.display import SVG\n",
    "graph = Source( tree.export_graphviz(estimator, out_file=None, feature_names=Xtrain.columns, class_names =['0','1']))\n",
    "SVG(graph.pipe(format='svg'))"
   ]
  },
  {
   "cell_type": "code",
   "execution_count": 46,
   "metadata": {},
   "outputs": [
    {
     "data": {
      "image/png": "[encoded data removed]",
      "text/plain": [
       "<Figure size 576x288 with 1 Axes>"
      ]
     },
     "metadata": {
      "needs_background": "light"
     },
     "output_type": "display_data"
    }
   ],
   "source": [
    "f_importance = randForest.feature_importances_\n",
    "indices = np.argsort(f_importance)[-300:] \n",
    "fig, ax = plt.subplots(figsize=(8,4))\n",
    "plt.title('Feature Importances')\n",
    "ax.barh(range(len(indices)), f_importance[indices], color='purple', align='center')\n",
    "plt.ylabel('Features (unlabelled)')\n",
    "plt.xlabel('Relative Importance')\n",
    "plt.savefig('AllFeatsImportance.png')\n",
    "plt.show()"
   ]
  },
  {
   "cell_type": "code",
   "execution_count": null,
   "metadata": {},
   "outputs": [],
   "source": []
  },
  {
   "cell_type": "code",
   "execution_count": 204,
   "metadata": {},
   "outputs": [],
   "source": [
    "# import os\n",
    "# from sklearn.tree import export_graphviz\n",
    "# import six\n",
    "# import pydot\n",
    "# from sklearn import tree\n",
    "# dotfile = six.StringIO()\n",
    "# i_tree = 0\n",
    "# for tree_in_forest in randForest.estimators_:\n",
    "#     export_graphviz(tree_in_forest,out_file='tree.dot',\n",
    "#     feature_names=Xtrain.columns,\n",
    "#     filled=True,\n",
    "#     rounded=True)\n",
    "#     (graph,) = pydot.graph_from_dot_file('tree.dot')\n",
    "#     name = 'tree' + str(i_tree)\n",
    "#     graph.write_png(name+  '.png')\n",
    "#     os.system('dot -Tpng tree.dot -o tree.png')\n",
    "#     i_tree +=1"
   ]
  },
  {
   "cell_type": "code",
   "execution_count": 56,
   "metadata": {},
   "outputs": [],
   "source": [
    "# Use the forest's predict method on the test data\n",
    "# predictions = rf.predict(testFeatures)\n",
    "# # Calculate the absolute errors\n",
    "# errors = abs(predictions - testLabels)\n",
    "# # Print out the mean absolute error (mae)\n",
    "# print('Mean Absolute Error:', round(np.mean(errors), 2), 'degrees.')"
   ]
  },
  {
   "cell_type": "code",
   "execution_count": 47,
   "metadata": {},
   "outputs": [],
   "source": [
    "dfME = load_and_fillna(\"data/TCGA-MESO-GE.tsv\")"
   ]
  },
  {
   "cell_type": "code",
   "execution_count": 48,
   "metadata": {},
   "outputs": [
    {
     "name": "stdout",
     "output_type": "stream",
     "text": [
      "                        PC-1      PC-2      PC-3      PC-4      PC-5\n",
      "Ensembl_ID                                                          \n",
      "ENSG00000168066.19  0.004068  0.000059  0.000057 -0.000053  0.000073\n",
      "ENSG00000160199.13  0.004068  0.000058  0.000098  0.000045 -0.000042\n",
      "ENSG00000182944.16  0.004068  0.000127  0.000119 -0.000025  0.000066\n",
      "ENSG00000182149.19  0.004068  0.000134  0.000065 -0.000077  0.000067\n",
      "ENSG00000182473.19  0.004068  0.000104  0.000064 -0.000064 -0.000056\n",
      "                        PC-1      PC-2      PC-3      PC-4      PC-5\n",
      "Ensembl_ID                                                          \n",
      "ENSG00000066405.11  0.004049  0.001057 -0.029748  0.001480  0.002385\n",
      "ENSG00000080618.12  0.004063  0.000973 -0.012377  0.002179  0.004934\n",
      "ENSG00000096088.15  0.004063  0.000640 -0.010000  0.004199  0.014664\n",
      "ENSG00000108576.8   0.004067  0.000604 -0.006543  0.000142 -0.000635\n",
      "ENSG00000088926.12  0.004065  0.000593 -0.012000  0.002450  0.001999\n"
     ]
    }
   ],
   "source": [
    "principalCompMESO = pca_prep(df, 5)\n",
    "print(principalCompMESO.nlargest(5, ['PC-1']))\n",
    "print(principalCompMESO.nlargest(5, ['PC-2']))"
   ]
  },
  {
   "cell_type": "code",
   "execution_count": 49,
   "metadata": {},
   "outputs": [
    {
     "data": {
      "text/html": [
       "<div>\n",
       "<style scoped>\n",
       "    .dataframe tbody tr th:only-of-type {\n",
       "        vertical-align: middle;\n",
       "    }\n",
       "\n",
       "    .dataframe tbody tr th {\n",
       "        vertical-align: top;\n",
       "    }\n",
       "\n",
       "    .dataframe thead th {\n",
       "        text-align: right;\n",
       "    }\n",
       "</style>\n",
       "<table border=\"1\" class=\"dataframe\">\n",
       "  <thead>\n",
       "    <tr style=\"text-align: right;\">\n",
       "      <th>Ensembl_ID</th>\n",
       "      <th>ENSG00000000003.13</th>\n",
       "      <th>ENSG00000000005.5</th>\n",
       "      <th>ENSG00000000419.11</th>\n",
       "      <th>ENSG00000000457.12</th>\n",
       "      <th>ENSG00000000460.15</th>\n",
       "      <th>ENSG00000000938.11</th>\n",
       "      <th>ENSG00000000971.14</th>\n",
       "      <th>ENSG00000001036.12</th>\n",
       "      <th>ENSG00000001084.9</th>\n",
       "      <th>ENSG00000001167.13</th>\n",
       "      <th>...</th>\n",
       "      <th>ENSGR0000276543.3</th>\n",
       "      <th>ENSGR0000277120.3</th>\n",
       "      <th>ENSGR0000280767.1</th>\n",
       "      <th>ENSGR0000281849.1</th>\n",
       "      <th>__no_feature</th>\n",
       "      <th>__ambiguous</th>\n",
       "      <th>__too_low_aQual</th>\n",
       "      <th>__not_aligned</th>\n",
       "      <th>__alignment_not_unique</th>\n",
       "      <th>Target</th>\n",
       "    </tr>\n",
       "  </thead>\n",
       "  <tbody>\n",
       "    <tr>\n",
       "      <th>PC-1</th>\n",
       "      <td>-0.001676</td>\n",
       "      <td>-0.000028</td>\n",
       "      <td>-0.001675</td>\n",
       "      <td>-0.001388</td>\n",
       "      <td>-0.000673</td>\n",
       "      <td>-0.000604</td>\n",
       "      <td>-0.000775</td>\n",
       "      <td>-0.000912</td>\n",
       "      <td>-0.000299</td>\n",
       "      <td>-0.000365</td>\n",
       "      <td>...</td>\n",
       "      <td>0.004068</td>\n",
       "      <td>0.004068</td>\n",
       "      <td>0.004068</td>\n",
       "      <td>0.004068</td>\n",
       "      <td>0.004068</td>\n",
       "      <td>0.004068</td>\n",
       "      <td>0.004068</td>\n",
       "      <td>0.004068</td>\n",
       "      <td>0.004068</td>\n",
       "      <td>2</td>\n",
       "    </tr>\n",
       "    <tr>\n",
       "      <th>PC-2</th>\n",
       "      <td>-0.149663</td>\n",
       "      <td>-0.018969</td>\n",
       "      <td>-0.167814</td>\n",
       "      <td>-0.170663</td>\n",
       "      <td>-0.163008</td>\n",
       "      <td>-0.078096</td>\n",
       "      <td>-0.096229</td>\n",
       "      <td>-0.170478</td>\n",
       "      <td>-0.097126</td>\n",
       "      <td>-0.187566</td>\n",
       "      <td>...</td>\n",
       "      <td>0.000361</td>\n",
       "      <td>0.000361</td>\n",
       "      <td>0.000361</td>\n",
       "      <td>0.000361</td>\n",
       "      <td>0.000324</td>\n",
       "      <td>0.000310</td>\n",
       "      <td>0.000361</td>\n",
       "      <td>0.000361</td>\n",
       "      <td>0.000317</td>\n",
       "      <td>2</td>\n",
       "    </tr>\n",
       "    <tr>\n",
       "      <th>PC-3</th>\n",
       "      <td>0.083602</td>\n",
       "      <td>-0.074727</td>\n",
       "      <td>0.093861</td>\n",
       "      <td>-0.004919</td>\n",
       "      <td>0.239022</td>\n",
       "      <td>-0.296755</td>\n",
       "      <td>-0.115605</td>\n",
       "      <td>0.094663</td>\n",
       "      <td>0.200833</td>\n",
       "      <td>0.094013</td>\n",
       "      <td>...</td>\n",
       "      <td>0.000111</td>\n",
       "      <td>0.000111</td>\n",
       "      <td>0.000111</td>\n",
       "      <td>0.000111</td>\n",
       "      <td>0.000109</td>\n",
       "      <td>0.000115</td>\n",
       "      <td>0.000111</td>\n",
       "      <td>0.000111</td>\n",
       "      <td>0.000125</td>\n",
       "      <td>2</td>\n",
       "    </tr>\n",
       "    <tr>\n",
       "      <th>PC-4</th>\n",
       "      <td>0.009538</td>\n",
       "      <td>0.113392</td>\n",
       "      <td>-0.038760</td>\n",
       "      <td>0.226396</td>\n",
       "      <td>0.119218</td>\n",
       "      <td>-0.196225</td>\n",
       "      <td>0.008582</td>\n",
       "      <td>-0.212247</td>\n",
       "      <td>-0.017110</td>\n",
       "      <td>0.096652</td>\n",
       "      <td>...</td>\n",
       "      <td>-0.000083</td>\n",
       "      <td>-0.000083</td>\n",
       "      <td>-0.000083</td>\n",
       "      <td>-0.000083</td>\n",
       "      <td>0.000083</td>\n",
       "      <td>-0.000086</td>\n",
       "      <td>-0.000083</td>\n",
       "      <td>-0.000083</td>\n",
       "      <td>-0.000053</td>\n",
       "      <td>2</td>\n",
       "    </tr>\n",
       "    <tr>\n",
       "      <th>PC-5</th>\n",
       "      <td>0.037594</td>\n",
       "      <td>-0.147929</td>\n",
       "      <td>-0.034021</td>\n",
       "      <td>0.038909</td>\n",
       "      <td>-0.126614</td>\n",
       "      <td>-0.120663</td>\n",
       "      <td>-0.183663</td>\n",
       "      <td>-0.013717</td>\n",
       "      <td>-0.094490</td>\n",
       "      <td>-0.076802</td>\n",
       "      <td>...</td>\n",
       "      <td>-0.000011</td>\n",
       "      <td>-0.000011</td>\n",
       "      <td>-0.000011</td>\n",
       "      <td>-0.000011</td>\n",
       "      <td>-0.000042</td>\n",
       "      <td>-0.000009</td>\n",
       "      <td>-0.000011</td>\n",
       "      <td>-0.000011</td>\n",
       "      <td>-0.000017</td>\n",
       "      <td>2</td>\n",
       "    </tr>\n",
       "  </tbody>\n",
       "</table>\n",
       "<p>5 rows × 60489 columns</p>\n",
       "</div>"
      ],
      "text/plain": [
       "Ensembl_ID  ENSG00000000003.13  ENSG00000000005.5  ENSG00000000419.11  \\\n",
       "PC-1                 -0.001676          -0.000028           -0.001675   \n",
       "PC-2                 -0.149663          -0.018969           -0.167814   \n",
       "PC-3                  0.083602          -0.074727            0.093861   \n",
       "PC-4                  0.009538           0.113392           -0.038760   \n",
       "PC-5                  0.037594          -0.147929           -0.034021   \n",
       "\n",
       "Ensembl_ID  ENSG00000000457.12  ENSG00000000460.15  ENSG00000000938.11  \\\n",
       "PC-1                 -0.001388           -0.000673           -0.000604   \n",
       "PC-2                 -0.170663           -0.163008           -0.078096   \n",
       "PC-3                 -0.004919            0.239022           -0.296755   \n",
       "PC-4                  0.226396            0.119218           -0.196225   \n",
       "PC-5                  0.038909           -0.126614           -0.120663   \n",
       "\n",
       "Ensembl_ID  ENSG00000000971.14  ENSG00000001036.12  ENSG00000001084.9  \\\n",
       "PC-1                 -0.000775           -0.000912          -0.000299   \n",
       "PC-2                 -0.096229           -0.170478          -0.097126   \n",
       "PC-3                 -0.115605            0.094663           0.200833   \n",
       "PC-4                  0.008582           -0.212247          -0.017110   \n",
       "PC-5                 -0.183663           -0.013717          -0.094490   \n",
       "\n",
       "Ensembl_ID  ENSG00000001167.13  ...  ENSGR0000276543.3  ENSGR0000277120.3  \\\n",
       "PC-1                 -0.000365  ...           0.004068           0.004068   \n",
       "PC-2                 -0.187566  ...           0.000361           0.000361   \n",
       "PC-3                  0.094013  ...           0.000111           0.000111   \n",
       "PC-4                  0.096652  ...          -0.000083          -0.000083   \n",
       "PC-5                 -0.076802  ...          -0.000011          -0.000011   \n",
       "\n",
       "Ensembl_ID  ENSGR0000280767.1  ENSGR0000281849.1  __no_feature  __ambiguous  \\\n",
       "PC-1                 0.004068           0.004068      0.004068     0.004068   \n",
       "PC-2                 0.000361           0.000361      0.000324     0.000310   \n",
       "PC-3                 0.000111           0.000111      0.000109     0.000115   \n",
       "PC-4                -0.000083          -0.000083      0.000083    -0.000086   \n",
       "PC-5                -0.000011          -0.000011     -0.000042    -0.000009   \n",
       "\n",
       "Ensembl_ID  __too_low_aQual  __not_aligned  __alignment_not_unique  Target  \n",
       "PC-1               0.004068       0.004068                0.004068       2  \n",
       "PC-2               0.000361       0.000361                0.000317       2  \n",
       "PC-3               0.000111       0.000111                0.000125       2  \n",
       "PC-4              -0.000083      -0.000083               -0.000053       2  \n",
       "PC-5              -0.000011      -0.000011               -0.000017       2  \n",
       "\n",
       "[5 rows x 60489 columns]"
      ]
     },
     "execution_count": 49,
     "metadata": {},
     "output_type": "execute_result"
    }
   ],
   "source": [
    "principalCompMESO = principalCompMESO.T\n",
    "principalCompMESO['Target'] = '2'\n",
    "principalCompMESO.head()"
   ]
  },
  {
   "cell_type": "code",
   "execution_count": 50,
   "metadata": {},
   "outputs": [],
   "source": [
    "canComp = pd.concat([principalCompLUAD,principalCompLUSC, principalCompMESO])"
   ]
  },
  {
   "cell_type": "code",
   "execution_count": 51,
   "metadata": {},
   "outputs": [
    {
     "data": {
      "text/plain": [
       "(15, 60489)"
      ]
     },
     "execution_count": 51,
     "metadata": {},
     "output_type": "execute_result"
    }
   ],
   "source": [
    "canComp.shape"
   ]
  },
  {
   "cell_type": "code",
   "execution_count": 52,
   "metadata": {},
   "outputs": [],
   "source": [
    "feats = list(canComp.columns[:-1])\n",
    "# labels Y\n",
    "Y1 = canComp['Target']\n",
    "X1 = canComp[feats]"
   ]
  },
  {
   "cell_type": "code",
   "execution_count": 53,
   "metadata": {},
   "outputs": [],
   "source": [
    "Xtrain1, Xtest1, Ytrain1, Ytest1 = train_test_split(X1, Y1, test_size = 0.2, random_state = 42)"
   ]
  },
  {
   "cell_type": "code",
   "execution_count": 54,
   "metadata": {},
   "outputs": [
    {
     "data": {
      "text/plain": [
       "RandomForestClassifier(bootstrap=True, class_weight=None, criterion='gini',\n",
       "                       max_depth=None, max_features='auto', max_leaf_nodes=None,\n",
       "                       min_impurity_decrease=0.0, min_impurity_split=None,\n",
       "                       min_samples_leaf=1, min_samples_split=2,\n",
       "                       min_weight_fraction_leaf=0.0, n_estimators=1000,\n",
       "                       n_jobs=None, oob_score=False, random_state=42, verbose=0,\n",
       "                       warm_start=False)"
      ]
     },
     "execution_count": 54,
     "metadata": {},
     "output_type": "execute_result"
    }
   ],
   "source": [
    "randFor1 = RandomForestClassifier(n_estimators=1000, random_state = 42)\n",
    "# Train model\n",
    "randFor1.fit(Xtrain1,Ytrain1)"
   ]
  },
  {
   "cell_type": "code",
   "execution_count": 55,
   "metadata": {},
   "outputs": [
    {
     "data": {
      "image/png": "[encoded data removed]",
      "text/plain": [
       "<Figure size 576x288 with 1 Axes>"
      ]
     },
     "metadata": {
      "needs_background": "light"
     },
     "output_type": "display_data"
    }
   ],
   "source": [
    "f_import = randFor1.feature_importances_\n",
    "# top 20 features\n",
    "# last 20 items in the array\n",
    "sortedIdx1 = np.argsort(f_import)[-20:]  \n",
    "\n",
    "fig, ax = plt.subplots(figsize=(8,4))\n",
    "plt.title('Random Forest Feature Importances')\n",
    "ax.barh(range(len(sortedIdx1)), f_import[sortedIdx1], color='b', align='center')\n",
    "plt.yticks(range(len(sortedIdx1)), [feats[i] for i in sortedIdx1])\n",
    "plt.xlabel('Relative Importance')\n",
    "plt.savefig('RandForImport2.png')\n",
    "plt.show()"
   ]
  },
  {
   "cell_type": "code",
   "execution_count": 56,
   "metadata": {},
   "outputs": [
    {
     "data": {
      "image/png": "[encoded data removed]",
      "text/plain": [
       "<Figure size 576x288 with 1 Axes>"
      ]
     },
     "metadata": {
      "needs_background": "light"
     },
     "output_type": "display_data"
    }
   ],
   "source": [
    "f_import = randFor1.feature_importances_\n",
    "indices1 = np.argsort(f_import)[-300:] \n",
    "fig, ax = plt.subplots(figsize=(8,4))\n",
    "plt.title('Feature Importances')\n",
    "ax.barh(range(len(indices1)), f_import[indices1], color='purple', align='center')\n",
    "plt.ylabel('Features (unlabelled)')\n",
    "plt.xlabel('Relative Importance')\n",
    "plt.savefig('AllFeatsImport2.png')\n",
    "plt.show()"
   ]
  },
  {
   "cell_type": "code",
   "execution_count": null,
   "metadata": {},
   "outputs": [],
   "source": []
  }
 ],
 "metadata": {
  "kernelspec": {
   "display_name": "Python 3",
   "language": "python",
   "name": "python3"
  },
  "language_info": {
   "codemirror_mode": {
    "name": "ipython",
    "version": 3
   },
   "file_extension": ".py",
   "mimetype": "text/x-python",
   "name": "python",
   "nbconvert_exporter": "python",
   "pygments_lexer": "ipython3",
   "version": "3.7.5"
  }
 },
 "nbformat": 4,
 "nbformat_minor": 2
}
