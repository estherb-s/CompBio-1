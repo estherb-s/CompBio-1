{
 "cells": [
  {
   "cell_type": "code",
   "execution_count": 93,
   "metadata": {},
   "outputs": [],
   "source": [
    "%matplotlib inline\n",
    "import numpy as np\n",
    "import matplotlib.pyplot as plt\n",
    "import pandas as pd\n",
    "from sklearn.preprocessing import StandardScaler\n",
    "from sklearn.decomposition import PCA\n",
    "from sklearn import preprocessing\n",
    "import seaborn as sns\n",
    "import eli5"
   ]
  },
  {
   "cell_type": "code",
   "execution_count": 2,
   "metadata": {},
   "outputs": [],
   "source": [
    "from utils import load_and_fillna, pca_prep, run_random_forest"
   ]
  },
  {
   "cell_type": "code",
   "execution_count": 3,
   "metadata": {},
   "outputs": [],
   "source": [
    "from sklearn.model_selection import train_test_split\n",
    "def extract_features(df):\n",
    "    features = list(df.columns[:-1])\n",
    "    y = df['Target']\n",
    "    X = df[features]\n",
    "    return X,y\n",
    "\n",
    "def split_data(X,y):\n",
    "    X_train, X_test, y_train, y_test = train_test_split(X, y, test_size = 0.2, random_state = 42, stratify=y)\n",
    "    return X_train, X_test, y_train, y_test"
   ]
  },
  {
   "cell_type": "code",
   "execution_count": 7,
   "metadata": {},
   "outputs": [],
   "source": [
    "LUAD_CNV = pd.read_pickle(\"data/LUAD_CNV.pkl\")\n",
    "LUSC_CNV = pd.read_pickle(\"data/LUSC_CNV.pkl\")"
   ]
  },
  {
   "cell_type": "code",
   "execution_count": 13,
   "metadata": {},
   "outputs": [
    {
     "data": {
      "text/plain": [
       "(556, 19729)"
      ]
     },
     "execution_count": 13,
     "metadata": {},
     "output_type": "execute_result"
    }
   ],
   "source": [
    "LUAD_CNV.shape"
   ]
  },
  {
   "cell_type": "code",
   "execution_count": 14,
   "metadata": {},
   "outputs": [
    {
     "data": {
      "text/html": [
       "<div>\n",
       "<style scoped>\n",
       "    .dataframe tbody tr th:only-of-type {\n",
       "        vertical-align: middle;\n",
       "    }\n",
       "\n",
       "    .dataframe tbody tr th {\n",
       "        vertical-align: top;\n",
       "    }\n",
       "\n",
       "    .dataframe thead th {\n",
       "        text-align: right;\n",
       "    }\n",
       "</style>\n",
       "<table border=\"1\" class=\"dataframe\">\n",
       "  <thead>\n",
       "    <tr style=\"text-align: right;\">\n",
       "      <th>Gene Symbol</th>\n",
       "      <th>ENSG00000008128.21</th>\n",
       "      <th>ENSG00000008130.14</th>\n",
       "      <th>ENSG00000067606.14</th>\n",
       "      <th>ENSG00000078369.16</th>\n",
       "      <th>ENSG00000078808.15</th>\n",
       "      <th>ENSG00000107404.16</th>\n",
       "      <th>ENSG00000116151.12</th>\n",
       "      <th>ENSG00000127054.17</th>\n",
       "      <th>ENSG00000131584.17</th>\n",
       "      <th>ENSG00000131591.16</th>\n",
       "      <th>...</th>\n",
       "      <th>ENSG00000268651.2</th>\n",
       "      <th>ENSG00000274183.1</th>\n",
       "      <th>ENSG00000274791.1</th>\n",
       "      <th>ENSG00000277150.1</th>\n",
       "      <th>ENSG00000277203.1</th>\n",
       "      <th>ENSG00000277745.1</th>\n",
       "      <th>ENSG00000277858.1</th>\n",
       "      <th>ENSG00000124333.13</th>\n",
       "      <th>ENSG00000124334.15</th>\n",
       "      <th>ENSG00000168939.9</th>\n",
       "    </tr>\n",
       "  </thead>\n",
       "  <tbody>\n",
       "    <tr>\n",
       "      <th>count</th>\n",
       "      <td>556.000000</td>\n",
       "      <td>556.000000</td>\n",
       "      <td>556.000000</td>\n",
       "      <td>556.000000</td>\n",
       "      <td>556.000000</td>\n",
       "      <td>556.000000</td>\n",
       "      <td>556.000000</td>\n",
       "      <td>556.000000</td>\n",
       "      <td>556.000000</td>\n",
       "      <td>556.000000</td>\n",
       "      <td>...</td>\n",
       "      <td>556.000000</td>\n",
       "      <td>556.000000</td>\n",
       "      <td>556.000000</td>\n",
       "      <td>556.000000</td>\n",
       "      <td>556.000000</td>\n",
       "      <td>556.000000</td>\n",
       "      <td>556.000000</td>\n",
       "      <td>556.000000</td>\n",
       "      <td>556.000000</td>\n",
       "      <td>556.000000</td>\n",
       "    </tr>\n",
       "    <tr>\n",
       "      <th>mean</th>\n",
       "      <td>0.021583</td>\n",
       "      <td>0.023381</td>\n",
       "      <td>0.025180</td>\n",
       "      <td>0.026978</td>\n",
       "      <td>0.028777</td>\n",
       "      <td>0.030576</td>\n",
       "      <td>0.032374</td>\n",
       "      <td>0.034173</td>\n",
       "      <td>0.035971</td>\n",
       "      <td>0.037770</td>\n",
       "      <td>...</td>\n",
       "      <td>35.562950</td>\n",
       "      <td>35.564748</td>\n",
       "      <td>35.566547</td>\n",
       "      <td>35.568345</td>\n",
       "      <td>35.570144</td>\n",
       "      <td>35.571942</td>\n",
       "      <td>35.573741</td>\n",
       "      <td>35.571942</td>\n",
       "      <td>35.573741</td>\n",
       "      <td>35.575540</td>\n",
       "    </tr>\n",
       "    <tr>\n",
       "      <th>std</th>\n",
       "      <td>0.364509</td>\n",
       "      <td>0.366862</td>\n",
       "      <td>0.374039</td>\n",
       "      <td>0.385772</td>\n",
       "      <td>0.401662</td>\n",
       "      <td>0.421238</td>\n",
       "      <td>0.444014</td>\n",
       "      <td>0.469523</td>\n",
       "      <td>0.497345</td>\n",
       "      <td>0.527115</td>\n",
       "      <td>...</td>\n",
       "      <td>836.267823</td>\n",
       "      <td>836.310232</td>\n",
       "      <td>836.352642</td>\n",
       "      <td>836.395051</td>\n",
       "      <td>836.437461</td>\n",
       "      <td>836.479870</td>\n",
       "      <td>836.522280</td>\n",
       "      <td>836.564838</td>\n",
       "      <td>836.607247</td>\n",
       "      <td>836.649657</td>\n",
       "    </tr>\n",
       "    <tr>\n",
       "      <th>min</th>\n",
       "      <td>-1.000000</td>\n",
       "      <td>-1.000000</td>\n",
       "      <td>-1.000000</td>\n",
       "      <td>-1.000000</td>\n",
       "      <td>-1.000000</td>\n",
       "      <td>-1.000000</td>\n",
       "      <td>-1.000000</td>\n",
       "      <td>-1.000000</td>\n",
       "      <td>-1.000000</td>\n",
       "      <td>-1.000000</td>\n",
       "      <td>...</td>\n",
       "      <td>-1.000000</td>\n",
       "      <td>-1.000000</td>\n",
       "      <td>-1.000000</td>\n",
       "      <td>-1.000000</td>\n",
       "      <td>-1.000000</td>\n",
       "      <td>-1.000000</td>\n",
       "      <td>-1.000000</td>\n",
       "      <td>-1.000000</td>\n",
       "      <td>-1.000000</td>\n",
       "      <td>-1.000000</td>\n",
       "    </tr>\n",
       "    <tr>\n",
       "      <th>25%</th>\n",
       "      <td>0.000000</td>\n",
       "      <td>0.000000</td>\n",
       "      <td>0.000000</td>\n",
       "      <td>0.000000</td>\n",
       "      <td>0.000000</td>\n",
       "      <td>0.000000</td>\n",
       "      <td>0.000000</td>\n",
       "      <td>0.000000</td>\n",
       "      <td>0.000000</td>\n",
       "      <td>0.000000</td>\n",
       "      <td>...</td>\n",
       "      <td>0.000000</td>\n",
       "      <td>0.000000</td>\n",
       "      <td>0.000000</td>\n",
       "      <td>0.000000</td>\n",
       "      <td>0.000000</td>\n",
       "      <td>0.000000</td>\n",
       "      <td>0.000000</td>\n",
       "      <td>0.000000</td>\n",
       "      <td>0.000000</td>\n",
       "      <td>0.000000</td>\n",
       "    </tr>\n",
       "    <tr>\n",
       "      <th>50%</th>\n",
       "      <td>0.000000</td>\n",
       "      <td>0.000000</td>\n",
       "      <td>0.000000</td>\n",
       "      <td>0.000000</td>\n",
       "      <td>0.000000</td>\n",
       "      <td>0.000000</td>\n",
       "      <td>0.000000</td>\n",
       "      <td>0.000000</td>\n",
       "      <td>0.000000</td>\n",
       "      <td>0.000000</td>\n",
       "      <td>...</td>\n",
       "      <td>0.000000</td>\n",
       "      <td>0.000000</td>\n",
       "      <td>0.000000</td>\n",
       "      <td>0.000000</td>\n",
       "      <td>0.000000</td>\n",
       "      <td>0.000000</td>\n",
       "      <td>0.000000</td>\n",
       "      <td>0.000000</td>\n",
       "      <td>0.000000</td>\n",
       "      <td>0.000000</td>\n",
       "    </tr>\n",
       "    <tr>\n",
       "      <th>75%</th>\n",
       "      <td>0.000000</td>\n",
       "      <td>0.000000</td>\n",
       "      <td>0.000000</td>\n",
       "      <td>0.000000</td>\n",
       "      <td>0.000000</td>\n",
       "      <td>0.000000</td>\n",
       "      <td>0.000000</td>\n",
       "      <td>0.000000</td>\n",
       "      <td>0.000000</td>\n",
       "      <td>0.000000</td>\n",
       "      <td>...</td>\n",
       "      <td>0.000000</td>\n",
       "      <td>0.000000</td>\n",
       "      <td>0.000000</td>\n",
       "      <td>0.000000</td>\n",
       "      <td>0.000000</td>\n",
       "      <td>0.000000</td>\n",
       "      <td>0.000000</td>\n",
       "      <td>0.000000</td>\n",
       "      <td>0.000000</td>\n",
       "      <td>0.000000</td>\n",
       "    </tr>\n",
       "    <tr>\n",
       "      <th>max</th>\n",
       "      <td>1.000000</td>\n",
       "      <td>1.000000</td>\n",
       "      <td>2.000000</td>\n",
       "      <td>3.000000</td>\n",
       "      <td>4.000000</td>\n",
       "      <td>5.000000</td>\n",
       "      <td>6.000000</td>\n",
       "      <td>7.000000</td>\n",
       "      <td>8.000000</td>\n",
       "      <td>9.000000</td>\n",
       "      <td>...</td>\n",
       "      <td>19719.000000</td>\n",
       "      <td>19720.000000</td>\n",
       "      <td>19721.000000</td>\n",
       "      <td>19722.000000</td>\n",
       "      <td>19723.000000</td>\n",
       "      <td>19724.000000</td>\n",
       "      <td>19725.000000</td>\n",
       "      <td>19726.000000</td>\n",
       "      <td>19727.000000</td>\n",
       "      <td>19728.000000</td>\n",
       "    </tr>\n",
       "  </tbody>\n",
       "</table>\n",
       "<p>8 rows × 19729 columns</p>\n",
       "</div>"
      ],
      "text/plain": [
       "Gene Symbol  ENSG00000008128.21  ENSG00000008130.14  ENSG00000067606.14  \\\n",
       "count                556.000000          556.000000          556.000000   \n",
       "mean                   0.021583            0.023381            0.025180   \n",
       "std                    0.364509            0.366862            0.374039   \n",
       "min                   -1.000000           -1.000000           -1.000000   \n",
       "25%                    0.000000            0.000000            0.000000   \n",
       "50%                    0.000000            0.000000            0.000000   \n",
       "75%                    0.000000            0.000000            0.000000   \n",
       "max                    1.000000            1.000000            2.000000   \n",
       "\n",
       "Gene Symbol  ENSG00000078369.16  ENSG00000078808.15  ENSG00000107404.16  \\\n",
       "count                556.000000          556.000000          556.000000   \n",
       "mean                   0.026978            0.028777            0.030576   \n",
       "std                    0.385772            0.401662            0.421238   \n",
       "min                   -1.000000           -1.000000           -1.000000   \n",
       "25%                    0.000000            0.000000            0.000000   \n",
       "50%                    0.000000            0.000000            0.000000   \n",
       "75%                    0.000000            0.000000            0.000000   \n",
       "max                    3.000000            4.000000            5.000000   \n",
       "\n",
       "Gene Symbol  ENSG00000116151.12  ENSG00000127054.17  ENSG00000131584.17  \\\n",
       "count                556.000000          556.000000          556.000000   \n",
       "mean                   0.032374            0.034173            0.035971   \n",
       "std                    0.444014            0.469523            0.497345   \n",
       "min                   -1.000000           -1.000000           -1.000000   \n",
       "25%                    0.000000            0.000000            0.000000   \n",
       "50%                    0.000000            0.000000            0.000000   \n",
       "75%                    0.000000            0.000000            0.000000   \n",
       "max                    6.000000            7.000000            8.000000   \n",
       "\n",
       "Gene Symbol  ENSG00000131591.16  ...  ENSG00000268651.2  ENSG00000274183.1  \\\n",
       "count                556.000000  ...         556.000000         556.000000   \n",
       "mean                   0.037770  ...          35.562950          35.564748   \n",
       "std                    0.527115  ...         836.267823         836.310232   \n",
       "min                   -1.000000  ...          -1.000000          -1.000000   \n",
       "25%                    0.000000  ...           0.000000           0.000000   \n",
       "50%                    0.000000  ...           0.000000           0.000000   \n",
       "75%                    0.000000  ...           0.000000           0.000000   \n",
       "max                    9.000000  ...       19719.000000       19720.000000   \n",
       "\n",
       "Gene Symbol  ENSG00000274791.1  ENSG00000277150.1  ENSG00000277203.1  \\\n",
       "count               556.000000         556.000000         556.000000   \n",
       "mean                 35.566547          35.568345          35.570144   \n",
       "std                 836.352642         836.395051         836.437461   \n",
       "min                  -1.000000          -1.000000          -1.000000   \n",
       "25%                   0.000000           0.000000           0.000000   \n",
       "50%                   0.000000           0.000000           0.000000   \n",
       "75%                   0.000000           0.000000           0.000000   \n",
       "max               19721.000000       19722.000000       19723.000000   \n",
       "\n",
       "Gene Symbol  ENSG00000277745.1  ENSG00000277858.1  ENSG00000124333.13  \\\n",
       "count               556.000000         556.000000          556.000000   \n",
       "mean                 35.571942          35.573741           35.571942   \n",
       "std                 836.479870         836.522280          836.564838   \n",
       "min                  -1.000000          -1.000000           -1.000000   \n",
       "25%                   0.000000           0.000000            0.000000   \n",
       "50%                   0.000000           0.000000            0.000000   \n",
       "75%                   0.000000           0.000000            0.000000   \n",
       "max               19724.000000       19725.000000        19726.000000   \n",
       "\n",
       "Gene Symbol  ENSG00000124334.15  ENSG00000168939.9  \n",
       "count                556.000000         556.000000  \n",
       "mean                  35.573741          35.575540  \n",
       "std                  836.607247         836.649657  \n",
       "min                   -1.000000          -1.000000  \n",
       "25%                    0.000000           0.000000  \n",
       "50%                    0.000000           0.000000  \n",
       "75%                    0.000000           0.000000  \n",
       "max                19727.000000       19728.000000  \n",
       "\n",
       "[8 rows x 19729 columns]"
      ]
     },
     "execution_count": 14,
     "metadata": {},
     "output_type": "execute_result"
    }
   ],
   "source": [
    "LUAD_CNV.describe()"
   ]
  },
  {
   "cell_type": "code",
   "execution_count": 15,
   "metadata": {},
   "outputs": [],
   "source": [
    "LUAD_CNV[\"Target\"] = 1\n",
    "LUSC_CNV[\"Target\"] = 2\n",
    "df = pd.concat([LUAD_CNV,LUSC_CNV])"
   ]
  },
  {
   "cell_type": "code",
   "execution_count": 17,
   "metadata": {},
   "outputs": [
    {
     "data": {
      "text/plain": [
       "(1081, 19730)"
      ]
     },
     "execution_count": 17,
     "metadata": {},
     "output_type": "execute_result"
    }
   ],
   "source": [
    "from sklearn.feature_selection import VarianceThreshold\n",
    "thresholder = VarianceThreshold()\n",
    "df_variance = thresholder.fit_transform(df)\n",
    "df_variance.shape"
   ]
  },
  {
   "cell_type": "code",
   "execution_count": 19,
   "metadata": {},
   "outputs": [],
   "source": [
    "X, y = extract_features(df)\n",
    "X_train, X_test, y_train, y_test = split_data(X, y)\n",
    "feature_names = list(X.columns)"
   ]
  },
  {
   "cell_type": "code",
   "execution_count": 20,
   "metadata": {},
   "outputs": [
    {
     "name": "stderr",
     "output_type": "stream",
     "text": [
      "/usr/local/lib/python3.7/site-packages/sklearn/linear_model/logistic.py:432: FutureWarning: Default solver will be changed to 'lbfgs' in 0.22. Specify a solver to silence this warning.\n",
      "  FutureWarning)\n"
     ]
    },
    {
     "name": "stdout",
     "output_type": "stream",
     "text": [
      "LR Accuracy:  0.7788018433179723\n"
     ]
    }
   ],
   "source": [
    "from sklearn.linear_model import LogisticRegression\n",
    "from sklearn.metrics import accuracy_score\n",
    "clf = LogisticRegression(random_state=42).fit(X_train, y_train)\n",
    "y_pred = clf.predict(X_test)\n",
    "\n",
    "print(\"LR Accuracy: \", accuracy_score(y_test, y_pred))"
   ]
  },
  {
   "cell_type": "code",
   "execution_count": 49,
   "metadata": {},
   "outputs": [],
   "source": [
    "principalCompLUAD = pca_prep(LUAD_CNV, 5)\n",
    "principalCompLUSC = pca_prep(LUSC_CNV, 5)\n",
    "principalCompLUAD['Target'] = '0'\n",
    "principalCompLUSC['Target'] = '1'\n",
    "lungCNV = pd.concat([principalCompLUAD,principalCompLUSC])"
   ]
  },
  {
   "cell_type": "code",
   "execution_count": 26,
   "metadata": {},
   "outputs": [],
   "source": [
    "X, y = extract_features(lungCNV)\n",
    "X_train, X_test, y_train, y_test = split_data(X, y)\n",
    "feature_names = list(X.columns)"
   ]
  },
  {
   "cell_type": "code",
   "execution_count": 28,
   "metadata": {},
   "outputs": [
    {
     "name": "stdout",
     "output_type": "stream",
     "text": [
      "SVM Accuracy:  0.5\n"
     ]
    }
   ],
   "source": [
    "from sklearn.svm import SVC\n",
    "from sklearn.preprocessing import StandardScaler\n",
    "from sklearn.pipeline import make_pipeline\n",
    "clf = make_pipeline(StandardScaler(), SVC(gamma='auto'))\n",
    "clf.fit(X_train, y_train)\n",
    "y_pred = clf.predict(X_test)\n",
    "print(\"SVM Accuracy: \", accuracy_score(y_test, y_pred))"
   ]
  },
  {
   "cell_type": "code",
   "execution_count": 34,
   "metadata": {},
   "outputs": [],
   "source": [
    "LUAD = pd.read_pickle(\"data/LUAD.pkl\")\n",
    "LUSC = pd.read_pickle(\"data/LUSC.pkl\")"
   ]
  },
  {
   "cell_type": "code",
   "execution_count": 53,
   "metadata": {},
   "outputs": [],
   "source": [
    "princCompLUAD = pca_prep(LUAD, 5)\n",
    "princCompLUSC = pca_prep(LUSC, 5)\n",
    "princCompLUAD['Target'] = '0'\n",
    "princCompLUSC['Target'] = '1'\n",
    "lungGE = pd.concat([princCompLUAD,princCompLUSC])"
   ]
  },
  {
   "cell_type": "code",
   "execution_count": 54,
   "metadata": {},
   "outputs": [
    {
     "name": "stdout",
     "output_type": "stream",
     "text": [
      "Training Features Shape: (8, 19729)\n",
      "Training Labels Shape: (8,)\n",
      "Testing Features Shape: (2, 19729)\n",
      "Testing Labels Shape: (2,)\n",
      "Index(['PC-1', 'PC-1', 'PC-3', 'PC-3', 'PC-5', 'PC-5', 'PC-4', 'PC-2'], dtype='object')\n",
      "Training the model\n"
     ]
    },
    {
     "data": {
      "image/png": "[encoded data removed]",
      "text/plain": [
       "<Figure size 432x288 with 1 Axes>"
      ]
     },
     "metadata": {
      "needs_background": "light"
     },
     "output_type": "display_data"
    },
    {
     "name": "stdout",
     "output_type": "stream",
     "text": [
      "Top 500 features: ['ENSG00000162949.15', 'ENSG00000157916.17', 'ENSG00000270136.4', 'ENSG00000159423.15', 'ENSG00000205090.7', 'ENSG00000088280.17', 'ENSG00000115657.11', 'ENSG00000279244.1', 'ENSG00000118197.12', 'ENSG00000173372.15', 'ENSG00000053372.4', 'ENSG00000169991.9', 'ENSG00000204219.8', 'ENSG00000184163.3', 'ENSG00000117640.16', 'ENSG00000177674.14', 'ENSG00000196581.9', 'ENSG00000048707.12', 'ENSG00000227868.5', 'ENSG00000118960.11', 'ENSG00000187600.11', 'ENSG00000204464.6', 'ENSG00000055070.15', 'ENSG00000068912.12', 'ENSG00000154429.9', 'ENSG00000011523.12', 'ENSG00000138069.15', 'ENSG00000204624.7', 'ENSG00000173436.12', 'ENSG00000214336.4', 'ENSG00000171824.12', 'ENSG00000130255.11', 'ENSG00000237847.2', 'ENSG00000049247.12', 'ENSG00000174792.9', 'ENSG00000197880.7', 'ENSG00000116237.14', 'ENSG00000184908.16', 'ENSG00000255054.3', 'ENSG00000116752.5', 'ENSG00000186510.10', 'ENSG00000078140.12', 'ENSG00000169679.13', 'ENSG00000164574.14', 'ENSG00000125551.17', 'ENSG00000254553.1', 'ENSG00000279468.1', 'ENSG00000205116.3', 'ENSG00000158747.12', 'ENSG00000109181.10', 'ENSG00000213512.1', 'ENSG00000143952.18', 'ENSG00000119878.5', 'ENSG00000116688.15', 'ENSG00000187238.5', 'ENSG00000115875.17', 'ENSG00000198589.9', 'ENSG00000142676.11', 'ENSG00000100099.19', 'ENSG00000188529.13', 'ENSG00000143554.12', 'ENSG00000009780.14', 'ENSG00000244617.2', 'ENSG00000162572.18', 'ENSG00000179546.4', 'ENSG00000078369.16', 'ENSG00000131686.13', 'ENSG00000132704.14', 'ENSG00000189079.14', 'ENSG00000041988.14', 'ENSG00000114993.14', 'ENSG00000188822.7', 'ENSG00000117616.16', 'ENSG00000070831.14', 'ENSG00000198570.5', 'ENSG00000162576.15', 'ENSG00000152683.13', 'ENSG00000184945.12', 'ENSG00000239605.7', 'ENSG00000097021.18', 'ENSG00000069424.13', 'ENSG00000077549.16', 'ENSG00000132881.10', 'ENSG00000075391.15', 'ENSG00000133226.15', 'ENSG00000243073.3', 'ENSG00000182749.5', 'ENSG00000116691.9', 'ENSG00000145337.4', 'ENSG00000182330.9', 'ENSG00000197312.10', 'ENSG00000162613.15', 'ENSG00000116337.14', 'ENSG00000123983.12', 'ENSG00000130940.13', 'ENSG00000137968.15', 'ENSG00000183888.4', 'ENSG00000142627.12', 'ENSG00000182187.3', 'ENSG00000007202.13', 'ENSG00000145214.12', 'ENSG00000188674.9', 'ENSG00000158286.11', 'ENSG00000162585.15', 'ENSG00000168906.11', 'ENSG00000040487.11', 'ENSG00000116990.10', 'ENSG00000117115.11', 'ENSG00000197241.3', 'ENSG00000116815.14', 'ENSG00000131914.9', 'ENSG00000204923.3', 'ENSG00000205978.5', 'ENSG00000181803.3', 'ENSG00000121057.11', 'ENSG00000163421.7', 'ENSG00000176160.8', 'ENSG00000164318.16', 'ENSG00000107164.15', 'ENSG00000121766.13', 'ENSG00000163017.12', 'ENSG00000144034.13', 'ENSG00000180098.8', 'ENSG00000007047.13', 'ENSG00000013392.7', 'ENSG00000081154.10', 'ENSG00000104866.9', 'ENSG00000108406.8', 'ENSG00000164292.11', 'ENSG00000163219.10', 'ENSG00000163217.1', 'ENSG00000253304.1', 'ENSG00000075891.20', 'ENSG00000159915.11', 'ENSG00000281741.1', 'ENSG00000167380.15', 'ENSG00000152291.12', 'ENSG00000273274.1', 'ENSG00000142606.14', 'ENSG00000115363.12', 'ENSG00000046653.13', 'ENSG00000135622.11', 'ENSG00000118518.14', 'ENSG00000159374.16', 'ENSG00000162600.10', 'ENSG00000115325.12', 'ENSG00000164087.6', 'ENSG00000171246.5', 'ENSG00000134532.14', 'ENSG00000115297.10', 'ENSG00000124459.10', 'ENSG00000174844.13', 'ENSG00000203797.8', 'ENSG00000113594.8', 'ENSG00000255154.6', 'ENSG00000132849.17', 'ENSG00000112367.9', 'ENSG00000112333.10', 'ENSG00000132429.8', 'ENSG00000100890.14', 'ENSG00000183856.9', 'ENSG00000169403.10', 'ENSG00000053254.14', 'ENSG00000115825.8', 'ENSG00000152133.13', 'ENSG00000018699.10', 'ENSG00000271383.5', 'ENSG00000119820.9', 'ENSG00000137404.13', 'ENSG00000174562.12', 'ENSG00000027869.10', 'ENSG00000278558.3', 'ENSG00000127423.9', 'ENSG00000143457.9', 'ENSG00000158987.18', 'ENSG00000166126.9', 'ENSG00000047617.13', 'ENSG00000188672.15', 'ENSG00000221843.3', 'ENSG00000117614.8', 'ENSG00000169504.13', 'ENSG00000143443.9', 'ENSG00000130038.8', 'ENSG00000001460.16', 'ENSG00000171792.9', 'ENSG00000092607.12', 'ENSG00000100599.14', 'ENSG00000117682.15', 'ENSG00000116704.7', 'ENSG00000184005.10', 'ENSG00000173540.11', 'ENSG00000114013.14', 'ENSG00000108823.14', 'ENSG00000180096.10', 'ENSG00000169764.13', 'ENSG00000146221.9', 'ENSG00000167971.15', 'ENSG00000142233.10', 'ENSG00000155903.10', 'ENSG00000119737.5', 'ENSG00000270898.4', 'ENSG00000171847.9', 'ENSG00000116761.10', 'ENSG00000089818.15', 'ENSG00000030110.11', 'ENSG00000232629.7', 'ENSG00000250565.5', 'ENSG00000184260.5', 'ENSG00000057935.12', 'ENSG00000162571.12', 'ENSG00000183023.17', 'ENSG00000152154.9', 'ENSG00000115904.11', 'ENSG00000143127.11', 'ENSG00000009844.14', 'ENSG00000179163.11', 'ENSG00000135905.17', 'ENSG00000160111.11', 'ENSG00000086015.19', 'ENSG00000164713.8', 'ENSG00000049089.12', 'ENSG00000169031.17', 'ENSG00000171357.5', 'ENSG00000170581.12', 'ENSG00000197587.9', 'ENSG00000077454.14', 'ENSG00000153827.12', 'ENSG00000121988.16', 'ENSG00000173692.11', 'ENSG00000135931.16', 'ENSG00000150551.10', 'ENSG00000156973.12', 'ENSG00000011426.9', 'ENSG00000271601.3', 'ENSG00000163273.3', 'ENSG00000198947.13', 'ENSG00000136715.16', 'ENSG00000185591.8', 'ENSG00000170374.5', 'ENSG00000182600.8', 'ENSG00000205718.7', 'ENSG00000138430.14', 'ENSG00000085978.20', 'ENSG00000107937.17', 'ENSG00000030419.15', 'ENSG00000008130.14', 'ENSG00000261793.1', 'ENSG00000243207.5', 'ENSG00000118263.13', 'ENSG00000118246.12', 'ENSG00000084110.9', 'ENSG00000106089.10', 'ENSG00000198707.13', 'ENSG00000138152.8', 'ENSG00000115556.12', 'ENSG00000119042.15', 'ENSG00000222009.7', 'ENSG00000135912.9', 'ENSG00000187736.11', 'ENSG00000148362.9', 'ENSG00000198815.7', 'ENSG00000164331.8', 'ENSG00000127824.12', 'ENSG00000186603.5', 'ENSG00000163510.12', 'ENSG00000268614.1', 'ENSG00000085449.13', 'ENSG00000130559.17', 'ENSG00000130561.15', 'ENSG00000162398.10', 'ENSG00000196228.3', 'ENSG00000119242.7', 'ENSG00000144712.10', 'ENSG00000106331.13', 'ENSG00000148290.8', 'ENSG00000058799.12', 'ENSG00000163867.15', 'ENSG00000130755.11', 'ENSG00000081870.10', 'ENSG00000102053.12', 'ENSG00000090924.13', 'ENSG00000197782.13', 'ENSG00000168763.14', 'ENSG00000174827.12', 'ENSG00000142698.13', 'ENSG00000275553.1', 'ENSG00000179934.6', 'ENSG00000256407.1', 'ENSG00000198001.12', 'ENSG00000160094.13', 'ENSG00000177548.11', 'ENSG00000131591.16', 'ENSG00000168890.12', 'ENSG00000163820.13', 'ENSG00000115641.17', 'ENSG00000172985.10', 'ENSG00000225899.6', 'ENSG00000203995.8', 'ENSG00000072163.17', 'ENSG00000185640.5', 'ENSG00000132321.15', 'ENSG00000071677.1', 'ENSG00000126012.10', 'ENSG00000184182.17', 'ENSG00000169218.12', 'ENSG00000169629.10', 'ENSG00000188177.12', 'ENSG00000134717.16', 'ENSG00000152137.5', 'ENSG00000175691.8', 'ENSG00000068024.15', 'ENSG00000154222.13', 'ENSG00000102316.15', 'ENSG00000144152.11', 'ENSG00000130294.13', 'ENSG00000274791.1', 'ENSG00000172482.4', 'ENSG00000257207.5', 'ENSG00000106006.6', 'ENSG00000175701.9', 'ENSG00000186141.7', 'ENSG00000189266.10', 'ENSG00000271503.4', 'ENSG00000117308.13', 'ENSG00000132463.12', 'ENSG00000158109.13', 'ENSG00000072849.9', 'ENSG00000116213.14', 'ENSG00000083896.11', 'ENSG00000163348.3', 'ENSG00000181617.5', 'ENSG00000109208.4', 'ENSG00000171199.8', 'ENSG00000171456.15', 'ENSG00000196550.9', 'ENSG00000162636.14', 'ENSG00000179002.5', 'ENSG00000163531.14', 'ENSG00000124875.8', 'ENSG00000152778.8', 'ENSG00000169116.10', 'ENSG00000143107.7', 'ENSG00000130764.8', 'ENSG00000137098.12', 'ENSG00000134375.9', 'ENSG00000169598.14', 'ENSG00000215717.5', 'ENSG00000125823.11', 'ENSG00000170989.8', 'ENSG00000162461.7', 'ENSG00000255009.4', 'ENSG00000125885.12', 'ENSG00000166387.10', 'ENSG00000137266.13', 'ENSG00000149968.10', 'ENSG00000104267.8', 'ENSG00000142619.4', 'ENSG00000134259.3', 'ENSG00000176623.10', 'ENSG00000242485.4', 'ENSG00000219481.9', 'ENSG00000117122.12', 'ENSG00000058453.15', 'ENSG00000166823.5', 'ENSG00000037637.9', 'ENSG00000134198.8', 'ENSG00000143543.13', 'ENSG00000279928.1', 'ENSG00000163069.11', 'ENSG00000162591.14', 'ENSG00000162694.12', 'ENSG00000255302.3', 'ENSG00000204479.4', 'ENSG00000204478.8', 'ENSG00000175505.10', 'ENSG00000103154.8', 'ENSG00000164587.10', 'ENSG00000166454.8', 'ENSG00000162444.11', 'ENSG00000173614.12', 'ENSG00000143110.10', 'ENSG00000158764.6', 'ENSG00000280113.1', 'ENSG00000171603.15', 'ENSG00000260092.1', 'ENSG00000188807.11', 'ENSG00000162236.10', 'ENSG00000171621.12', 'ENSG00000185475.7', 'ENSG00000180758.11', 'ENSG00000168002.10', 'ENSG00000091009.7', 'ENSG00000162426.13', 'ENSG00000188694.5', 'ENSG00000254726.2', 'ENSG00000155380.10', 'ENSG00000027644.4', 'ENSG00000175279.20', 'ENSG00000153707.14', 'ENSG00000163297.15', 'ENSG00000158869.9', 'ENSG00000251246.1', 'ENSG00000179085.7', 'ENSG00000116721.9', 'ENSG00000163319.9', 'ENSG00000273088.1', 'ENSG00000135845.8', 'ENSG00000170619.9', 'ENSG00000158292.6', 'ENSG00000186150.4', 'ENSG00000029559.6', 'ENSG00000185000.8', 'ENSG00000118777.9', 'ENSG00000138641.14', 'ENSG00000133665.11', 'ENSG00000143153.11', 'ENSG00000116663.9', 'ENSG00000143199.16', 'ENSG00000279983.1', 'ENSG00000215788.8', 'ENSG00000131153.7', 'ENSG00000186335.7', 'ENSG00000179023.8', 'ENSG00000150471.14', 'ENSG00000277075.1', 'ENSG00000104237.6', 'ENSG00000071575.10', 'ENSG00000109111.13', 'ENSG00000115761.14', 'ENSG00000278522.3', 'ENSG00000111846.14', 'ENSG00000117298.13', 'ENSG00000279735.1', 'ENSG00000183347.14', 'ENSG00000198042.9', 'ENSG00000171865.8', 'ENSG00000158828.5', 'ENSG00000130508.9', 'ENSG00000183114.7', 'ENSG00000172031.6', 'ENSG00000203666.11', 'ENSG00000250312.5', 'ENSG00000162552.13', 'ENSG00000022556.14', 'ENSG00000007968.6', 'ENSG00000158806.12', 'ENSG00000011009.9', 'ENSG00000057757.8', 'ENSG00000186891.12', 'ENSG00000187583.9', 'ENSG00000117318.8', 'ENSG00000183508.4', 'ENSG00000215375.5', 'ENSG00000185966.3', 'ENSG00000228474.4', 'ENSG00000109586.10', 'ENSG00000168993.13', 'ENSG00000188157.12', 'ENSG00000187180.3', 'ENSG00000166482.10', 'ENSG00000118965.13', 'ENSG00000059588.8', 'ENSG00000143570.16', 'ENSG00000254996.4', 'ENSG00000171604.10', 'ENSG00000145428.13', 'ENSG00000152078.8', 'ENSG00000270106.4', 'ENSG00000182700.4', 'ENSG00000178997.10', 'ENSG00000169418.9', 'ENSG00000152904.10', 'ENSG00000137574.9', 'ENSG00000215114.6', 'ENSG00000197530.11', 'ENSG00000009709.10', 'ENSG00000158055.14', 'ENSG00000144476.5', 'ENSG00000153561.11', 'ENSG00000067208.13', 'ENSG00000183726.9', 'ENSG00000153214.8', 'ENSG00000117148.7', 'ENSG00000049249.7', 'ENSG00000120334.14', 'ENSG00000028203.16', 'ENSG00000160075.11', 'ENSG00000102359.5', 'ENSG00000116288.11', 'ENSG00000177868.10', 'ENSG00000165474.5', 'ENSG00000001461.15', 'ENSG00000185436.10', 'ENSG00000069812.10', 'ENSG00000221888.3', 'ENSG00000151806.12', 'ENSG00000277726.3', 'ENSG00000116649.8', 'ENSG00000102239.4', 'ENSG00000141376.19']\n",
      "Training Features Shape: (8, 60488)\n",
      "Training Labels Shape: (8,)\n",
      "Testing Features Shape: (2, 60488)\n",
      "Testing Labels Shape: (2,)\n",
      "Index(['PC-1', 'PC-1', 'PC-3', 'PC-3', 'PC-5', 'PC-5', 'PC-4', 'PC-2'], dtype='object')\n",
      "Training the model\n"
     ]
    },
    {
     "data": {
      "image/png": "[encoded data removed]",
      "text/plain": [
       "<Figure size 432x288 with 1 Axes>"
      ]
     },
     "metadata": {
      "needs_background": "light"
     },
     "output_type": "display_data"
    },
    {
     "name": "stdout",
     "output_type": "stream",
     "text": [
      "Top 500 features: ['ENSG00000060069.15', 'ENSG00000001497.15', 'ENSG00000011007.11', 'ENSG00000109814.10', 'ENSG00000162377.5', 'ENSG00000022976.14', 'ENSG00000186862.16', 'ENSG00000087460.22', 'ENSG00000006747.13', 'ENSG00000070081.14', 'ENSG00000214248.2', 'ENSG00000242770.2', 'ENSG00000011600.10', 'ENSG00000179520.9', 'ENSG00000032742.16', 'ENSG00000197702.10', 'ENSG00000138399.16', 'ENSG00000163734.4', 'ENSG00000110090.11', 'ENSG00000036473.6', 'ENSG00000006327.12', 'ENSG00000154930.13', 'ENSG00000073605.17', 'ENSG00000042493.14', 'ENSG00000066230.9', 'ENSG00000196289.6', 'ENSG00000108055.9', 'ENSG00000100884.8', 'ENSG00000180447.6', 'ENSG00000076650.5', 'ENSG00000066379.13', 'ENSG00000251884.1', 'ENSG00000082497.10', 'ENSG00000013288.7', 'ENSG00000000003.13', 'ENSG00000011052.20', 'ENSG00000068489.11', 'ENSG00000060339.12', 'ENSG00000059145.17', 'ENSG00000049249.7', 'ENSG00000071462.10', 'ENSG00000000457.12', 'ENSG00000213386.3', 'ENSG00000168992.4', 'ENSG00000269220.1', 'ENSG00000087494.14', 'ENSG00000128191.12', 'ENSG00000128536.14', 'ENSG00000129351.16', 'ENSG00000118271.8', 'ENSG00000117697.13', 'ENSG00000117481.9', 'ENSG00000128655.15', 'ENSG00000128699.12', 'ENSG00000117009.10', 'ENSG00000130021.12', 'ENSG00000272568.4', 'ENSG00000127084.16', 'ENSG00000130414.10', 'ENSG00000272514.4', 'ENSG00000130612.13', 'ENSG00000130720.11', 'ENSG00000130741.9', 'ENSG00000272351.1', 'ENSG00000130950.12', 'ENSG00000272053.1', 'ENSG00000116981.3', 'ENSG00000132031.11', 'ENSG00000132535.17', 'ENSG00000273123.1', 'ENSG00000125967.15', 'ENSG00000126698.9', 'ENSG00000126461.13', 'ENSG00000120306.8', 'ENSG00000120068.6', 'ENSG00000274312.1', 'ENSG00000119973.4', 'ENSG00000274278.1', 'ENSG00000122335.12', 'ENSG00000122728.6', 'ENSG00000274621.1', 'ENSG00000122970.14', 'ENSG00000124198.8', 'ENSG00000271797.1', 'ENSG00000124224.15', 'ENSG00000124226.9', 'ENSG00000124251.9', 'ENSG00000119669.4', 'ENSG00000124444.14', 'ENSG00000274827.3', 'ENSG00000118292.7', 'ENSG00000124602.8', 'ENSG00000124812.13', 'ENSG00000124915.9', 'ENSG00000273626.1', 'ENSG00000125912.9', 'ENSG00000120327.6', 'ENSG00000126216.11', 'ENSG00000271821.1', 'ENSG00000136783.9', 'ENSG00000134086.7', 'ENSG00000147065.15', 'ENSG00000143375.13', 'ENSG00000143409.14', 'ENSG00000143546.8', 'ENSG00000268107.4', 'ENSG00000143643.11', 'ENSG00000144559.9', 'ENSG00000144746.6', 'ENSG00000144959.8', 'ENSG00000145050.14', 'ENSG00000267496.3', 'ENSG00000267482.1', 'ENSG00000146072.6', 'ENSG00000146166.15', 'ENSG00000147041.10', 'ENSG00000267206.4', 'ENSG00000271474.1', 'ENSG00000148156.7', 'ENSG00000148219.15', 'ENSG00000267130.1', 'ENSG00000267064.1', 'ENSG00000148926.8', 'ENSG00000149541.8', 'ENSG00000149781.11', 'ENSG00000151327.11', 'ENSG00000151360.8', 'ENSG00000151948.10', 'ENSG00000266524.2', 'ENSG00000152463.13', 'ENSG00000152782.15', 'ENSG00000154127.8', 'ENSG00000143153.11', 'ENSG00000268683.1', 'ENSG00000141741.10', 'ENSG00000269051.4', 'ENSG00000134452.18', 'ENSG00000271380.1', 'ENSG00000271375.1', 'ENSG00000135365.14', 'ENSG00000135409.9', 'ENSG00000135472.7', 'ENSG00000135486.16', 'ENSG00000135503.11', 'ENSG00000135953.9', 'ENSG00000136279.17', 'ENSG00000116698.19', 'ENSG00000136811.15', 'ENSG00000137073.19', 'ENSG00000270433.1', 'ENSG00000137776.15', 'ENSG00000138604.8', 'ENSG00000138658.14', 'ENSG00000138772.11', 'ENSG00000138829.9', 'ENSG00000138964.15', 'ENSG00000139437.16', 'ENSG00000139508.13', 'ENSG00000269916.1', 'ENSG00000139613.10', 'ENSG00000140043.10', 'ENSG00000140104.12', 'ENSG00000141127.13', 'ENSG00000141441.14', 'ENSG00000141447.15', 'ENSG00000116704.7', 'ENSG00000112186.10', 'ENSG00000116350.14', 'ENSG00000083168.8', 'ENSG00000089199.8', 'ENSG00000279401.1', 'ENSG00000086544.2', 'ENSG00000279581.1', 'ENSG00000084754.9', 'ENSG00000279622.1', 'ENSG00000082781.10', 'ENSG00000116199.10', 'ENSG00000080644.14', 'ENSG00000080371.5', 'ENSG00000079134.10', 'ENSG00000078814.14', 'ENSG00000077616.9', 'ENSG00000076382.15', 'ENSG00000090013.8', 'ENSG00000090674.14', 'ENSG00000092068.17', 'ENSG00000092148.11', 'ENSG00000092199.16', 'ENSG00000092847.9', 'ENSG00000279164.1', 'ENSG00000279160.1', 'ENSG00000095321.15', 'ENSG00000099204.17', 'ENSG00000099251.13', 'ENSG00000099385.10', 'ENSG00000100014.18', 'ENSG00000100038.18', 'ENSG00000100053.8', 'ENSG00000100083.17', 'ENSG00000100099.19', 'ENSG00000075886.10', 'ENSG00000075856.10', 'ENSG00000075461.5', 'ENSG00000064489.20', 'ENSG00000046774.9', 'ENSG00000047662.4', 'ENSG00000048028.10', 'ENSG00000048545.12', 'ENSG00000049247.12', 'ENSG00000049768.13', 'ENSG00000050165.16', 'ENSG00000051523.9', 'ENSG00000053770.10', 'ENSG00000057593.12', 'ENSG00000058056.7', 'ENSG00000062096.13', 'ENSG00000063245.13', 'ENSG00000063587.13', 'ENSG00000064687.11', 'ENSG00000075407.16', 'ENSG00000065308.4', 'ENSG00000280395.1', 'ENSG00000067560.9', 'ENSG00000067606.14', 'ENSG00000068654.14', 'ENSG00000069122.17', 'ENSG00000069206.14', 'ENSG00000069248.11', 'ENSG00000070423.16', 'ENSG00000071626.15', 'ENSG00000071889.15', 'ENSG00000074356.15', 'ENSG00000074696.11', 'ENSG00000075218.17', 'ENSG00000100105.16', 'ENSG00000278965.1', 'ENSG00000100151.14', 'ENSG00000110031.11', 'ENSG00000106560.9', 'ENSG00000106565.16', 'ENSG00000106608.15', 'ENSG00000277172.1', 'ENSG00000107518.15', 'ENSG00000107954.9', 'ENSG00000108848.14', 'ENSG00000109046.13', 'ENSG00000109062.8', 'ENSG00000109111.13', 'ENSG00000109171.13', 'ENSG00000109511.9', 'ENSG00000109576.12', 'ENSG00000109610.5', 'ENSG00000111452.11', 'ENSG00000106331.13', 'ENSG00000111536.4', 'ENSG00000276317.1', 'ENSG00000111785.17', 'ENSG00000265819.1', 'ENSG00000276140.1', 'ENSG00000112242.13', 'ENSG00000112357.11', 'ENSG00000112658.7', 'ENSG00000113319.10', 'ENSG00000113758.12', 'ENSG00000275700.3', 'ENSG00000115423.17', 'ENSG00000275450.1', 'ENSG00000275367.1', 'ENSG00000106404.12', 'ENSG00000277350.1', 'ENSG00000100296.12', 'ENSG00000102879.14', 'ENSG00000278897.1', 'ENSG00000100519.10', 'ENSG00000100678.17', 'ENSG00000100916.12', 'ENSG00000278616.1', 'ENSG00000101210.9', 'ENSG00000278506.1', 'ENSG00000101445.8', 'ENSG00000278480.1', 'ENSG00000101557.13', 'ENSG00000101654.16', 'ENSG00000102081.12', 'ENSG00000102125.14', 'ENSG00000102606.16', 'ENSG00000278011.1', 'ENSG00000277418.1', 'ENSG00000103932.10', 'ENSG00000277945.1', 'ENSG00000104320.12', 'ENSG00000104343.18', 'ENSG00000104365.12', 'ENSG00000104833.9', 'ENSG00000104894.10', 'ENSG00000277749.1', 'ENSG00000104972.13', 'ENSG00000105127.7', 'ENSG00000105443.12', 'ENSG00000105732.11', 'ENSG00000105821.13', 'ENSG00000105875.12', 'ENSG00000156009.8', 'ENSG00000159197.3', 'ENSG00000265798.5', 'ENSG00000211668.2', 'ENSG00000211810.3', 'ENSG00000244720.1', 'ENSG00000211780.3', 'ENSG00000211752.3', 'ENSG00000211747.3', 'ENSG00000245552.5', 'ENSG00000246016.2', 'ENSG00000211897.6', 'ENSG00000246084.2', 'ENSG00000211656.3', 'ENSG00000211644.2', 'ENSG00000211625.2', 'ENSG00000207932.1', 'ENSG00000207832.1', 'ENSG00000244558.4', 'ENSG00000211899.6', 'ENSG00000248540.2', 'ENSG00000213916.2', 'ENSG00000215246.5', 'ENSG00000241258.5', 'ENSG00000241358.1', 'ENSG00000214402.6', 'ENSG00000214321.3', 'ENSG00000242067.1', 'ENSG00000213542.3', 'ENSG00000211974.3', 'ENSG00000243236.5', 'ENSG00000213169.3', 'ENSG00000212978.6', 'ENSG00000212916.4', 'ENSG00000212556.1', 'ENSG00000244267.1', 'ENSG00000207830.1', 'ENSG00000248763.2', 'ENSG00000156304.13', 'ENSG00000201774.1', 'ENSG00000203667.8', 'ENSG00000250978.4', 'ENSG00000203585.3', 'ENSG00000251164.1', 'ENSG00000202429.1', 'ENSG00000251252.1', 'ENSG00000200495.1', 'ENSG00000250884.1', 'ENSG00000252877.1', 'ENSG00000199701.1', 'ENSG00000199598.1', 'ENSG00000253012.1', 'ENSG00000253159.2', 'ENSG00000253223.1', 'ENSG00000203814.6', 'ENSG00000204021.3', 'ENSG00000248993.1', 'ENSG00000205744.8', 'ENSG00000207110.1', 'ENSG00000206842.1', 'ENSG00000249647.2', 'ENSG00000249706.1', 'ENSG00000249875.1', 'ENSG00000205890.3', 'ENSG00000249977.1', 'ENSG00000204022.8', 'ENSG00000249993.1', 'ENSG00000204956.5', 'ENSG00000250424.4', 'ENSG00000204421.2', 'ENSG00000204397.6', 'ENSG00000204174.5', 'ENSG00000241054.1', 'ENSG00000215386.9', 'ENSG00000240663.3', 'ENSG00000226947.1', 'ENSG00000227482.1', 'ENSG00000232725.1', 'ENSG00000227220.1', 'ENSG00000233012.2', 'ENSG00000227128.4', 'ENSG00000227117.5', 'ENSG00000226706.1', 'ENSG00000232536.1', 'ENSG00000226660.2', 'ENSG00000226565.1', 'ENSG00000233639.4', 'ENSG00000226416.1', 'ENSG00000226299.2', 'ENSG00000226093.1', 'ENSG00000232539.1', 'ENSG00000227710.1', 'ENSG00000240207.5', 'ENSG00000229035.2', 'ENSG00000229828.2', 'ENSG00000230373.7', 'ENSG00000230400.1', 'ENSG00000229769.2', 'ENSG00000230943.1', 'ENSG00000229159.1', 'ENSG00000231205.10', 'ENSG00000232004.1', 'ENSG00000231255.1', 'ENSG00000231322.4', 'ENSG00000231826.4', 'ENSG00000231857.1', 'ENSG00000228307.1', 'ENSG00000231971.4', 'ENSG00000225971.1', 'ENSG00000234278.3', 'ENSG00000225487.2', 'ENSG00000221184.1', 'ENSG00000237352.2', 'ENSG00000237669.1', 'ENSG00000237883.1', 'ENSG00000237917.1', 'ENSG00000238082.1', 'ENSG00000238210.2', 'ENSG00000239035.1', 'ENSG00000225365.1', 'ENSG00000239168.1', 'ENSG00000239440.4', 'ENSG00000218809.1', 'ENSG00000239855.1', 'ENSG00000218052.5', 'ENSG00000239868.3', 'ENSG00000237252.1', 'ENSG00000236976.1', 'ENSG00000236897.1', 'ENSG00000236830.5', 'ENSG00000223584.1', 'ENSG00000236555.1', 'ENSG00000236541.1', 'ENSG00000236520.2', 'ENSG00000223839.6', 'ENSG00000223959.7', 'ENSG00000236164.1', 'ENSG00000224164.1', 'ENSG00000224321.1', 'ENSG00000224535.1', 'ENSG00000235689.1', 'ENSG00000235168.1', 'ENSG00000234892.1', 'ENSG00000253348.1', 'ENSG00000198574.5', 'ENSG00000253490.4', 'ENSG00000168993.13', 'ENSG00000260719.1', 'ENSG00000260756.1', 'ENSG00000170091.9', 'ENSG00000170075.8', 'ENSG00000260807.5', 'ENSG00000169507.8', 'ENSG00000261127.2', 'ENSG00000170473.15', 'ENSG00000168461.11', 'ENSG00000168454.11', 'ENSG00000168404.11', 'ENSG00000168314.16', 'ENSG00000168234.11', 'ENSG00000167840.12', 'ENSG00000260695.1', 'ENSG00000170955.9', 'ENSG00000259767.1', 'ENSG00000260041.4', 'ENSG00000173110.7', 'ENSG00000259854.1', 'ENSG00000259884.1', 'ENSG00000259905.4', 'ENSG00000172594.11', 'ENSG00000172349.15', 'ENSG00000172179.10', 'ENSG00000171033.11', 'ENSG00000171951.4', 'ENSG00000171812.9', 'ENSG00000171720.8', 'ENSG00000260268.4', 'ENSG00000171163.14', 'ENSG00000260439.1', 'ENSG00000261502.3', 'ENSG00000167525.12', 'ENSG00000261664.4', 'ENSG00000265127.1', 'ENSG00000161791.12', 'ENSG00000161202.16', 'ENSG00000264911.1', 'ENSG00000160781.14', 'ENSG00000265107.2', 'ENSG00000159958.4', 'ENSG00000265293.2', 'ENSG00000261670.1', 'ENSG00000158796.15', 'ENSG00000265356.1', 'ENSG00000158528.10', 'ENSG00000265496.3', 'ENSG00000157734.12', 'ENSG00000157429.14', 'ENSG00000161929.13']\n"
     ]
    }
   ],
   "source": [
    "lungCNV_import = run_random_forest(df=lungCNV, random_state=42, n_estimators=1000, n_importance=500, name=\"LungCNV\")\n",
    "lungGE_import = run_random_forest(df=lungGE, random_state=42, n_estimators=1000, n_importance=500, name=\"LungGE\")"
   ]
  },
  {
   "cell_type": "code",
   "execution_count": 64,
   "metadata": {},
   "outputs": [
    {
     "name": "stdout",
     "output_type": "stream",
     "text": [
      "CNV intersection GE :  {'ENSG00000100099.19', 'ENSG00000049247.12', 'ENSG00000116704.7', 'ENSG00000106331.13'}\n"
     ]
    }
   ],
   "source": [
    "num_features = [30, 50, 100, 150, 300]\n",
    "# num_features = [30, 50, 100, 150, 200, 300, 400, 500]\n",
    "for n in num_features:\n",
    "    intersect = set(lungCNV_import[:n]).intersection(set(lungGE_import[:n]))\n",
    "    if len(intersect) >0:\n",
    "        print(\"CNV intersection GE : \", intersect)\n",
    "        break"
   ]
  },
  {
   "cell_type": "markdown",
   "metadata": {},
   "source": [
    "# Top 200 features intersect gave: ENSG00000116704.7, ENSG00000100099.19. Top 300 gave these additions: ENSG00000049247.12, ENSG00000106331.13"
   ]
  },
  {
   "cell_type": "code",
   "execution_count": 76,
   "metadata": {},
   "outputs": [],
   "source": [
    "# Lung CNV test train split\n",
    "X, y = extract_features(df)\n",
    "X_train, X_test, y_train, y_test = split_data(X, y)\n",
    "feature_names = list(X.columns)"
   ]
  },
  {
   "cell_type": "code",
   "execution_count": 103,
   "metadata": {},
   "outputs": [],
   "source": [
    "# Lung GE test train split\n",
    "LUAD = pd.read_pickle(\"data/LUAD.pkl\")\n",
    "LUSC = pd.read_pickle(\"data/LUSC.pkl\")\n",
    "LUAD[\"Target\"] = 1\n",
    "LUSC[\"Target\"] = 2\n",
    "df_GE = pd.concat([LUAD,LUSC])\n",
    "\n",
    "Xge, yge = extract_features(df_GE)\n",
    "Xge_train, Xge_test, yge_train, yge_test = split_data(Xge, yge)\n",
    "feature_names_ge = list(Xge.columns)"
   ]
  },
  {
   "cell_type": "code",
   "execution_count": 77,
   "metadata": {},
   "outputs": [
    {
     "name": "stdout",
     "output_type": "stream",
     "text": [
      "Starting Logistic Regression\n",
      "{'model__C': 1.5}\n",
      "0.7719907407407407\n",
      "Done training, model saved to model/LUSCLUAD_CNV_LR.mdl\n",
      "Starting SVM\n",
      "{'model__C': 0.001, 'model__gamma': 0.001}\n",
      "0.7870370370370371\n",
      "Done training, model saved to model/LUSCLUAD_CNV_SVM.mdl\n",
      "Starting Decision Trees\n",
      "{'model__max_depth': 3, 'model__min_samples_split': 5}\n",
      "0.7372685185185185\n",
      "Done training, model saved to model/LUSCLUAD_CNV_DT.mdl\n",
      "Starting Random Forest\n",
      "{'model__max_depth': 15, 'model__min_samples_split': 5}\n",
      "0.7881944444444444\n",
      "Done training, model saved to model/LUSCLUAD_CNV_RF.mdl\n",
      "Starting XGBoost\n"
     ]
    },
    {
     "name": "stderr",
     "output_type": "stream",
     "text": [
      "exception calling callback for <Future at 0x162aabc10 state=finished raised TerminatedWorkerError>\n",
      "Traceback (most recent call last):\n",
      "  File \"/usr/local/lib/python3.7/site-packages/joblib/externals/loky/_base.py\", line 625, in _invoke_callbacks\n",
      "    callback(self)\n",
      "  File \"/usr/local/lib/python3.7/site-packages/joblib/parallel.py\", line 340, in __call__\n",
      "    self.parallel.dispatch_next()\n",
      "  File \"/usr/local/lib/python3.7/site-packages/joblib/parallel.py\", line 768, in dispatch_next\n",
      "    if not self.dispatch_one_batch(self._original_iterator):\n",
      "  File \"/usr/local/lib/python3.7/site-packages/joblib/parallel.py\", line 834, in dispatch_one_batch\n",
      "    self._dispatch(tasks)\n",
      "  File \"/usr/local/lib/python3.7/site-packages/joblib/parallel.py\", line 753, in _dispatch\n",
      "    job = self._backend.apply_async(batch, callback=cb)\n",
      "  File \"/usr/local/lib/python3.7/site-packages/joblib/_parallel_backends.py\", line 543, in apply_async\n",
      "    future = self._workers.submit(SafeFunction(func))\n",
      "  File \"/usr/local/lib/python3.7/site-packages/joblib/externals/loky/reusable_executor.py\", line 160, in submit\n",
      "    fn, *args, **kwargs)\n",
      "  File \"/usr/local/lib/python3.7/site-packages/joblib/externals/loky/process_executor.py\", line 1027, in submit\n",
      "    raise self._flags.broken\n",
      "joblib.externals.loky.process_executor.TerminatedWorkerError: A worker process managed by the executor was unexpectedly terminated. This could be caused by a segmentation fault while calling the function or by an excessive memory usage causing the Operating System to kill the worker. The exit codes of the workers are {SIGABRT(-6)}\n"
     ]
    },
    {
     "ename": "TerminatedWorkerError",
     "evalue": "A worker process managed by the executor was unexpectedly terminated. This could be caused by a segmentation fault while calling the function or by an excessive memory usage causing the Operating System to kill the worker. The exit codes of the workers are {SIGABRT(-6)}",
     "output_type": "error",
     "traceback": [
      "\u001b[0;31m---------------------------------------------------------------------------\u001b[0m",
      "\u001b[0;31mTerminatedWorkerError\u001b[0m                     Traceback (most recent call last)",
      "\u001b[0;32m<ipython-input-77-e6eff8cef1b7>\u001b[0m in \u001b[0;36m<module>\u001b[0;34m\u001b[0m\n\u001b[1;32m     18\u001b[0m     \u001b[0mtrain\u001b[0m\u001b[0;34m.\u001b[0m\u001b[0mrun_random_forest\u001b[0m\u001b[0;34m(\u001b[0m\u001b[0mX_train\u001b[0m\u001b[0;34m,\u001b[0m \u001b[0mX_test\u001b[0m\u001b[0;34m,\u001b[0m \u001b[0my_train\u001b[0m\u001b[0;34m,\u001b[0m \u001b[0my_test\u001b[0m\u001b[0;34m,\u001b[0m \u001b[0mdataname\u001b[0m\u001b[0;34m)\u001b[0m\u001b[0;34m\u001b[0m\u001b[0;34m\u001b[0m\u001b[0m\n\u001b[1;32m     19\u001b[0m \u001b[0;32mif\u001b[0m \u001b[0;32mnot\u001b[0m \u001b[0mexists\u001b[0m\u001b[0;34m(\u001b[0m\u001b[0;34mf\"models/{dataname}_XGB.mdl\"\u001b[0m\u001b[0;34m)\u001b[0m\u001b[0;34m:\u001b[0m\u001b[0;34m\u001b[0m\u001b[0;34m\u001b[0m\u001b[0m\n\u001b[0;32m---> 20\u001b[0;31m     \u001b[0mtrain\u001b[0m\u001b[0;34m.\u001b[0m\u001b[0mrun_xgboost\u001b[0m\u001b[0;34m(\u001b[0m\u001b[0mX_train\u001b[0m\u001b[0;34m,\u001b[0m \u001b[0mX_test\u001b[0m\u001b[0;34m,\u001b[0m \u001b[0my_train\u001b[0m\u001b[0;34m,\u001b[0m \u001b[0my_test\u001b[0m\u001b[0;34m,\u001b[0m \u001b[0mdataname\u001b[0m\u001b[0;34m)\u001b[0m\u001b[0;34m\u001b[0m\u001b[0;34m\u001b[0m\u001b[0m\n\u001b[0m",
      "\u001b[0;32m~/Documents/COMPSCI/ComputationalBiology/CancerProject/CompBio/train.py\u001b[0m in \u001b[0;36mrun_xgboost\u001b[0;34m(Xtrain, Xtest, Ytrain, Ytest, name)\u001b[0m\n\u001b[1;32m    114\u001b[0m                     n_jobs=-1, cv=5, scoring=\"accuracy\")\n\u001b[1;32m    115\u001b[0m \u001b[0;34m\u001b[0m\u001b[0m\n\u001b[0;32m--> 116\u001b[0;31m     \u001b[0mgs\u001b[0m\u001b[0;34m.\u001b[0m\u001b[0mfit\u001b[0m\u001b[0;34m(\u001b[0m\u001b[0mXtrain\u001b[0m\u001b[0;34m,\u001b[0m \u001b[0mYtrain\u001b[0m\u001b[0;34m)\u001b[0m\u001b[0;34m\u001b[0m\u001b[0;34m\u001b[0m\u001b[0m\n\u001b[0m\u001b[1;32m    117\u001b[0m \u001b[0;34m\u001b[0m\u001b[0m\n\u001b[1;32m    118\u001b[0m     \u001b[0mprint\u001b[0m\u001b[0;34m(\u001b[0m\u001b[0mgs\u001b[0m\u001b[0;34m.\u001b[0m\u001b[0mbest_params_\u001b[0m\u001b[0;34m)\u001b[0m\u001b[0;34m\u001b[0m\u001b[0;34m\u001b[0m\u001b[0m\n",
      "\u001b[0;32m/usr/local/lib/python3.7/site-packages/sklearn/model_selection/_search.py\u001b[0m in \u001b[0;36mfit\u001b[0;34m(self, X, y, groups, **fit_params)\u001b[0m\n\u001b[1;32m    686\u001b[0m                 \u001b[0;32mreturn\u001b[0m \u001b[0mresults\u001b[0m\u001b[0;34m\u001b[0m\u001b[0;34m\u001b[0m\u001b[0m\n\u001b[1;32m    687\u001b[0m \u001b[0;34m\u001b[0m\u001b[0m\n\u001b[0;32m--> 688\u001b[0;31m             \u001b[0mself\u001b[0m\u001b[0;34m.\u001b[0m\u001b[0m_run_search\u001b[0m\u001b[0;34m(\u001b[0m\u001b[0mevaluate_candidates\u001b[0m\u001b[0;34m)\u001b[0m\u001b[0;34m\u001b[0m\u001b[0;34m\u001b[0m\u001b[0m\n\u001b[0m\u001b[1;32m    689\u001b[0m \u001b[0;34m\u001b[0m\u001b[0m\n\u001b[1;32m    690\u001b[0m         \u001b[0;31m# For multi-metric evaluation, store the best_index_, best_params_ and\u001b[0m\u001b[0;34m\u001b[0m\u001b[0;34m\u001b[0m\u001b[0;34m\u001b[0m\u001b[0m\n",
      "\u001b[0;32m/usr/local/lib/python3.7/site-packages/sklearn/model_selection/_search.py\u001b[0m in \u001b[0;36m_run_search\u001b[0;34m(self, evaluate_candidates)\u001b[0m\n\u001b[1;32m   1147\u001b[0m     \u001b[0;32mdef\u001b[0m \u001b[0m_run_search\u001b[0m\u001b[0;34m(\u001b[0m\u001b[0mself\u001b[0m\u001b[0;34m,\u001b[0m \u001b[0mevaluate_candidates\u001b[0m\u001b[0;34m)\u001b[0m\u001b[0;34m:\u001b[0m\u001b[0;34m\u001b[0m\u001b[0;34m\u001b[0m\u001b[0m\n\u001b[1;32m   1148\u001b[0m         \u001b[0;34m\"\"\"Search all candidates in param_grid\"\"\"\u001b[0m\u001b[0;34m\u001b[0m\u001b[0;34m\u001b[0m\u001b[0m\n\u001b[0;32m-> 1149\u001b[0;31m         \u001b[0mevaluate_candidates\u001b[0m\u001b[0;34m(\u001b[0m\u001b[0mParameterGrid\u001b[0m\u001b[0;34m(\u001b[0m\u001b[0mself\u001b[0m\u001b[0;34m.\u001b[0m\u001b[0mparam_grid\u001b[0m\u001b[0;34m)\u001b[0m\u001b[0;34m)\u001b[0m\u001b[0;34m\u001b[0m\u001b[0;34m\u001b[0m\u001b[0m\n\u001b[0m\u001b[1;32m   1150\u001b[0m \u001b[0;34m\u001b[0m\u001b[0m\n\u001b[1;32m   1151\u001b[0m \u001b[0;34m\u001b[0m\u001b[0m\n",
      "\u001b[0;32m/usr/local/lib/python3.7/site-packages/sklearn/model_selection/_search.py\u001b[0m in \u001b[0;36mevaluate_candidates\u001b[0;34m(candidate_params)\u001b[0m\n\u001b[1;32m    665\u001b[0m                                \u001b[0;32mfor\u001b[0m \u001b[0mparameters\u001b[0m\u001b[0;34m,\u001b[0m \u001b[0;34m(\u001b[0m\u001b[0mtrain\u001b[0m\u001b[0;34m,\u001b[0m \u001b[0mtest\u001b[0m\u001b[0;34m)\u001b[0m\u001b[0;34m\u001b[0m\u001b[0;34m\u001b[0m\u001b[0m\n\u001b[1;32m    666\u001b[0m                                in product(candidate_params,\n\u001b[0;32m--> 667\u001b[0;31m                                           cv.split(X, y, groups)))\n\u001b[0m\u001b[1;32m    668\u001b[0m \u001b[0;34m\u001b[0m\u001b[0m\n\u001b[1;32m    669\u001b[0m                 \u001b[0;32mif\u001b[0m \u001b[0mlen\u001b[0m\u001b[0;34m(\u001b[0m\u001b[0mout\u001b[0m\u001b[0;34m)\u001b[0m \u001b[0;34m<\u001b[0m \u001b[0;36m1\u001b[0m\u001b[0;34m:\u001b[0m\u001b[0;34m\u001b[0m\u001b[0;34m\u001b[0m\u001b[0m\n",
      "\u001b[0;32m/usr/local/lib/python3.7/site-packages/joblib/parallel.py\u001b[0m in \u001b[0;36m__call__\u001b[0;34m(self, iterable)\u001b[0m\n\u001b[1;32m   1014\u001b[0m \u001b[0;34m\u001b[0m\u001b[0m\n\u001b[1;32m   1015\u001b[0m             \u001b[0;32mwith\u001b[0m \u001b[0mself\u001b[0m\u001b[0;34m.\u001b[0m\u001b[0m_backend\u001b[0m\u001b[0;34m.\u001b[0m\u001b[0mretrieval_context\u001b[0m\u001b[0;34m(\u001b[0m\u001b[0;34m)\u001b[0m\u001b[0;34m:\u001b[0m\u001b[0;34m\u001b[0m\u001b[0;34m\u001b[0m\u001b[0m\n\u001b[0;32m-> 1016\u001b[0;31m                 \u001b[0mself\u001b[0m\u001b[0;34m.\u001b[0m\u001b[0mretrieve\u001b[0m\u001b[0;34m(\u001b[0m\u001b[0;34m)\u001b[0m\u001b[0;34m\u001b[0m\u001b[0;34m\u001b[0m\u001b[0m\n\u001b[0m\u001b[1;32m   1017\u001b[0m             \u001b[0;31m# Make sure that we get a last message telling us we are done\u001b[0m\u001b[0;34m\u001b[0m\u001b[0;34m\u001b[0m\u001b[0;34m\u001b[0m\u001b[0m\n\u001b[1;32m   1018\u001b[0m             \u001b[0melapsed_time\u001b[0m \u001b[0;34m=\u001b[0m \u001b[0mtime\u001b[0m\u001b[0;34m.\u001b[0m\u001b[0mtime\u001b[0m\u001b[0;34m(\u001b[0m\u001b[0;34m)\u001b[0m \u001b[0;34m-\u001b[0m \u001b[0mself\u001b[0m\u001b[0;34m.\u001b[0m\u001b[0m_start_time\u001b[0m\u001b[0;34m\u001b[0m\u001b[0;34m\u001b[0m\u001b[0m\n",
      "\u001b[0;32m/usr/local/lib/python3.7/site-packages/joblib/parallel.py\u001b[0m in \u001b[0;36mretrieve\u001b[0;34m(self)\u001b[0m\n\u001b[1;32m    906\u001b[0m             \u001b[0;32mtry\u001b[0m\u001b[0;34m:\u001b[0m\u001b[0;34m\u001b[0m\u001b[0;34m\u001b[0m\u001b[0m\n\u001b[1;32m    907\u001b[0m                 \u001b[0;32mif\u001b[0m \u001b[0mgetattr\u001b[0m\u001b[0;34m(\u001b[0m\u001b[0mself\u001b[0m\u001b[0;34m.\u001b[0m\u001b[0m_backend\u001b[0m\u001b[0;34m,\u001b[0m \u001b[0;34m'supports_timeout'\u001b[0m\u001b[0;34m,\u001b[0m \u001b[0;32mFalse\u001b[0m\u001b[0;34m)\u001b[0m\u001b[0;34m:\u001b[0m\u001b[0;34m\u001b[0m\u001b[0;34m\u001b[0m\u001b[0m\n\u001b[0;32m--> 908\u001b[0;31m                     \u001b[0mself\u001b[0m\u001b[0;34m.\u001b[0m\u001b[0m_output\u001b[0m\u001b[0;34m.\u001b[0m\u001b[0mextend\u001b[0m\u001b[0;34m(\u001b[0m\u001b[0mjob\u001b[0m\u001b[0;34m.\u001b[0m\u001b[0mget\u001b[0m\u001b[0;34m(\u001b[0m\u001b[0mtimeout\u001b[0m\u001b[0;34m=\u001b[0m\u001b[0mself\u001b[0m\u001b[0;34m.\u001b[0m\u001b[0mtimeout\u001b[0m\u001b[0;34m)\u001b[0m\u001b[0;34m)\u001b[0m\u001b[0;34m\u001b[0m\u001b[0;34m\u001b[0m\u001b[0m\n\u001b[0m\u001b[1;32m    909\u001b[0m                 \u001b[0;32melse\u001b[0m\u001b[0;34m:\u001b[0m\u001b[0;34m\u001b[0m\u001b[0;34m\u001b[0m\u001b[0m\n\u001b[1;32m    910\u001b[0m                     \u001b[0mself\u001b[0m\u001b[0;34m.\u001b[0m\u001b[0m_output\u001b[0m\u001b[0;34m.\u001b[0m\u001b[0mextend\u001b[0m\u001b[0;34m(\u001b[0m\u001b[0mjob\u001b[0m\u001b[0;34m.\u001b[0m\u001b[0mget\u001b[0m\u001b[0;34m(\u001b[0m\u001b[0;34m)\u001b[0m\u001b[0;34m)\u001b[0m\u001b[0;34m\u001b[0m\u001b[0;34m\u001b[0m\u001b[0m\n",
      "\u001b[0;32m/usr/local/lib/python3.7/site-packages/joblib/_parallel_backends.py\u001b[0m in \u001b[0;36mwrap_future_result\u001b[0;34m(future, timeout)\u001b[0m\n\u001b[1;32m    552\u001b[0m         AsyncResults.get from multiprocessing.\"\"\"\n\u001b[1;32m    553\u001b[0m         \u001b[0;32mtry\u001b[0m\u001b[0;34m:\u001b[0m\u001b[0;34m\u001b[0m\u001b[0;34m\u001b[0m\u001b[0m\n\u001b[0;32m--> 554\u001b[0;31m             \u001b[0;32mreturn\u001b[0m \u001b[0mfuture\u001b[0m\u001b[0;34m.\u001b[0m\u001b[0mresult\u001b[0m\u001b[0;34m(\u001b[0m\u001b[0mtimeout\u001b[0m\u001b[0;34m=\u001b[0m\u001b[0mtimeout\u001b[0m\u001b[0;34m)\u001b[0m\u001b[0;34m\u001b[0m\u001b[0;34m\u001b[0m\u001b[0m\n\u001b[0m\u001b[1;32m    555\u001b[0m         \u001b[0;32mexcept\u001b[0m \u001b[0mLokyTimeoutError\u001b[0m\u001b[0;34m:\u001b[0m\u001b[0;34m\u001b[0m\u001b[0;34m\u001b[0m\u001b[0m\n\u001b[1;32m    556\u001b[0m             \u001b[0;32mraise\u001b[0m \u001b[0mTimeoutError\u001b[0m\u001b[0;34m(\u001b[0m\u001b[0;34m)\u001b[0m\u001b[0;34m\u001b[0m\u001b[0;34m\u001b[0m\u001b[0m\n",
      "\u001b[0;32m/usr/local/Cellar/python/3.7.5/Frameworks/Python.framework/Versions/3.7/lib/python3.7/concurrent/futures/_base.py\u001b[0m in \u001b[0;36mresult\u001b[0;34m(self, timeout)\u001b[0m\n\u001b[1;32m    433\u001b[0m                 \u001b[0;32mraise\u001b[0m \u001b[0mCancelledError\u001b[0m\u001b[0;34m(\u001b[0m\u001b[0;34m)\u001b[0m\u001b[0;34m\u001b[0m\u001b[0;34m\u001b[0m\u001b[0m\n\u001b[1;32m    434\u001b[0m             \u001b[0;32melif\u001b[0m \u001b[0mself\u001b[0m\u001b[0;34m.\u001b[0m\u001b[0m_state\u001b[0m \u001b[0;34m==\u001b[0m \u001b[0mFINISHED\u001b[0m\u001b[0;34m:\u001b[0m\u001b[0;34m\u001b[0m\u001b[0;34m\u001b[0m\u001b[0m\n\u001b[0;32m--> 435\u001b[0;31m                 \u001b[0;32mreturn\u001b[0m \u001b[0mself\u001b[0m\u001b[0;34m.\u001b[0m\u001b[0m__get_result\u001b[0m\u001b[0;34m(\u001b[0m\u001b[0;34m)\u001b[0m\u001b[0;34m\u001b[0m\u001b[0;34m\u001b[0m\u001b[0m\n\u001b[0m\u001b[1;32m    436\u001b[0m             \u001b[0;32melse\u001b[0m\u001b[0;34m:\u001b[0m\u001b[0;34m\u001b[0m\u001b[0;34m\u001b[0m\u001b[0m\n\u001b[1;32m    437\u001b[0m                 \u001b[0;32mraise\u001b[0m \u001b[0mTimeoutError\u001b[0m\u001b[0;34m(\u001b[0m\u001b[0;34m)\u001b[0m\u001b[0;34m\u001b[0m\u001b[0;34m\u001b[0m\u001b[0m\n",
      "\u001b[0;32m/usr/local/Cellar/python/3.7.5/Frameworks/Python.framework/Versions/3.7/lib/python3.7/concurrent/futures/_base.py\u001b[0m in \u001b[0;36m__get_result\u001b[0;34m(self)\u001b[0m\n\u001b[1;32m    382\u001b[0m     \u001b[0;32mdef\u001b[0m \u001b[0m__get_result\u001b[0m\u001b[0;34m(\u001b[0m\u001b[0mself\u001b[0m\u001b[0;34m)\u001b[0m\u001b[0;34m:\u001b[0m\u001b[0;34m\u001b[0m\u001b[0;34m\u001b[0m\u001b[0m\n\u001b[1;32m    383\u001b[0m         \u001b[0;32mif\u001b[0m \u001b[0mself\u001b[0m\u001b[0;34m.\u001b[0m\u001b[0m_exception\u001b[0m\u001b[0;34m:\u001b[0m\u001b[0;34m\u001b[0m\u001b[0;34m\u001b[0m\u001b[0m\n\u001b[0;32m--> 384\u001b[0;31m             \u001b[0;32mraise\u001b[0m \u001b[0mself\u001b[0m\u001b[0;34m.\u001b[0m\u001b[0m_exception\u001b[0m\u001b[0;34m\u001b[0m\u001b[0;34m\u001b[0m\u001b[0m\n\u001b[0m\u001b[1;32m    385\u001b[0m         \u001b[0;32melse\u001b[0m\u001b[0;34m:\u001b[0m\u001b[0;34m\u001b[0m\u001b[0;34m\u001b[0m\u001b[0m\n\u001b[1;32m    386\u001b[0m             \u001b[0;32mreturn\u001b[0m \u001b[0mself\u001b[0m\u001b[0;34m.\u001b[0m\u001b[0m_result\u001b[0m\u001b[0;34m\u001b[0m\u001b[0;34m\u001b[0m\u001b[0m\n",
      "\u001b[0;32m/usr/local/lib/python3.7/site-packages/joblib/externals/loky/_base.py\u001b[0m in \u001b[0;36m_invoke_callbacks\u001b[0;34m(self)\u001b[0m\n\u001b[1;32m    623\u001b[0m         \u001b[0;32mfor\u001b[0m \u001b[0mcallback\u001b[0m \u001b[0;32min\u001b[0m \u001b[0mself\u001b[0m\u001b[0;34m.\u001b[0m\u001b[0m_done_callbacks\u001b[0m\u001b[0;34m:\u001b[0m\u001b[0;34m\u001b[0m\u001b[0;34m\u001b[0m\u001b[0m\n\u001b[1;32m    624\u001b[0m             \u001b[0;32mtry\u001b[0m\u001b[0;34m:\u001b[0m\u001b[0;34m\u001b[0m\u001b[0;34m\u001b[0m\u001b[0m\n\u001b[0;32m--> 625\u001b[0;31m                 \u001b[0mcallback\u001b[0m\u001b[0;34m(\u001b[0m\u001b[0mself\u001b[0m\u001b[0;34m)\u001b[0m\u001b[0;34m\u001b[0m\u001b[0;34m\u001b[0m\u001b[0m\n\u001b[0m\u001b[1;32m    626\u001b[0m             \u001b[0;32mexcept\u001b[0m \u001b[0mBaseException\u001b[0m\u001b[0;34m:\u001b[0m\u001b[0;34m\u001b[0m\u001b[0;34m\u001b[0m\u001b[0m\n\u001b[1;32m    627\u001b[0m                 \u001b[0mLOGGER\u001b[0m\u001b[0;34m.\u001b[0m\u001b[0mexception\u001b[0m\u001b[0;34m(\u001b[0m\u001b[0;34m'exception calling callback for %r'\u001b[0m\u001b[0;34m,\u001b[0m \u001b[0mself\u001b[0m\u001b[0;34m)\u001b[0m\u001b[0;34m\u001b[0m\u001b[0;34m\u001b[0m\u001b[0m\n",
      "\u001b[0;32m/usr/local/lib/python3.7/site-packages/joblib/parallel.py\u001b[0m in \u001b[0;36m__call__\u001b[0;34m(self, out)\u001b[0m\n\u001b[1;32m    338\u001b[0m         \u001b[0;32mwith\u001b[0m \u001b[0mself\u001b[0m\u001b[0;34m.\u001b[0m\u001b[0mparallel\u001b[0m\u001b[0;34m.\u001b[0m\u001b[0m_lock\u001b[0m\u001b[0;34m:\u001b[0m\u001b[0;34m\u001b[0m\u001b[0;34m\u001b[0m\u001b[0m\n\u001b[1;32m    339\u001b[0m             \u001b[0;32mif\u001b[0m \u001b[0mself\u001b[0m\u001b[0;34m.\u001b[0m\u001b[0mparallel\u001b[0m\u001b[0;34m.\u001b[0m\u001b[0m_original_iterator\u001b[0m \u001b[0;32mis\u001b[0m \u001b[0;32mnot\u001b[0m \u001b[0;32mNone\u001b[0m\u001b[0;34m:\u001b[0m\u001b[0;34m\u001b[0m\u001b[0;34m\u001b[0m\u001b[0m\n\u001b[0;32m--> 340\u001b[0;31m                 \u001b[0mself\u001b[0m\u001b[0;34m.\u001b[0m\u001b[0mparallel\u001b[0m\u001b[0;34m.\u001b[0m\u001b[0mdispatch_next\u001b[0m\u001b[0;34m(\u001b[0m\u001b[0;34m)\u001b[0m\u001b[0;34m\u001b[0m\u001b[0;34m\u001b[0m\u001b[0m\n\u001b[0m\u001b[1;32m    341\u001b[0m \u001b[0;34m\u001b[0m\u001b[0m\n\u001b[1;32m    342\u001b[0m \u001b[0;34m\u001b[0m\u001b[0m\n",
      "\u001b[0;32m/usr/local/lib/python3.7/site-packages/joblib/parallel.py\u001b[0m in \u001b[0;36mdispatch_next\u001b[0;34m(self)\u001b[0m\n\u001b[1;32m    766\u001b[0m \u001b[0;34m\u001b[0m\u001b[0m\n\u001b[1;32m    767\u001b[0m         \"\"\"\n\u001b[0;32m--> 768\u001b[0;31m         \u001b[0;32mif\u001b[0m \u001b[0;32mnot\u001b[0m \u001b[0mself\u001b[0m\u001b[0;34m.\u001b[0m\u001b[0mdispatch_one_batch\u001b[0m\u001b[0;34m(\u001b[0m\u001b[0mself\u001b[0m\u001b[0;34m.\u001b[0m\u001b[0m_original_iterator\u001b[0m\u001b[0;34m)\u001b[0m\u001b[0;34m:\u001b[0m\u001b[0;34m\u001b[0m\u001b[0;34m\u001b[0m\u001b[0m\n\u001b[0m\u001b[1;32m    769\u001b[0m             \u001b[0mself\u001b[0m\u001b[0;34m.\u001b[0m\u001b[0m_iterating\u001b[0m \u001b[0;34m=\u001b[0m \u001b[0;32mFalse\u001b[0m\u001b[0;34m\u001b[0m\u001b[0;34m\u001b[0m\u001b[0m\n\u001b[1;32m    770\u001b[0m             \u001b[0mself\u001b[0m\u001b[0;34m.\u001b[0m\u001b[0m_original_iterator\u001b[0m \u001b[0;34m=\u001b[0m \u001b[0;32mNone\u001b[0m\u001b[0;34m\u001b[0m\u001b[0;34m\u001b[0m\u001b[0m\n",
      "\u001b[0;32m/usr/local/lib/python3.7/site-packages/joblib/parallel.py\u001b[0m in \u001b[0;36mdispatch_one_batch\u001b[0;34m(self, iterator)\u001b[0m\n\u001b[1;32m    832\u001b[0m                 \u001b[0;32mreturn\u001b[0m \u001b[0;32mFalse\u001b[0m\u001b[0;34m\u001b[0m\u001b[0;34m\u001b[0m\u001b[0m\n\u001b[1;32m    833\u001b[0m             \u001b[0;32melse\u001b[0m\u001b[0;34m:\u001b[0m\u001b[0;34m\u001b[0m\u001b[0;34m\u001b[0m\u001b[0m\n\u001b[0;32m--> 834\u001b[0;31m                 \u001b[0mself\u001b[0m\u001b[0;34m.\u001b[0m\u001b[0m_dispatch\u001b[0m\u001b[0;34m(\u001b[0m\u001b[0mtasks\u001b[0m\u001b[0;34m)\u001b[0m\u001b[0;34m\u001b[0m\u001b[0;34m\u001b[0m\u001b[0m\n\u001b[0m\u001b[1;32m    835\u001b[0m                 \u001b[0;32mreturn\u001b[0m \u001b[0;32mTrue\u001b[0m\u001b[0;34m\u001b[0m\u001b[0;34m\u001b[0m\u001b[0m\n\u001b[1;32m    836\u001b[0m \u001b[0;34m\u001b[0m\u001b[0m\n",
      "\u001b[0;32m/usr/local/lib/python3.7/site-packages/joblib/parallel.py\u001b[0m in \u001b[0;36m_dispatch\u001b[0;34m(self, batch)\u001b[0m\n\u001b[1;32m    751\u001b[0m         \u001b[0;32mwith\u001b[0m \u001b[0mself\u001b[0m\u001b[0;34m.\u001b[0m\u001b[0m_lock\u001b[0m\u001b[0;34m:\u001b[0m\u001b[0;34m\u001b[0m\u001b[0;34m\u001b[0m\u001b[0m\n\u001b[1;32m    752\u001b[0m             \u001b[0mjob_idx\u001b[0m \u001b[0;34m=\u001b[0m \u001b[0mlen\u001b[0m\u001b[0;34m(\u001b[0m\u001b[0mself\u001b[0m\u001b[0;34m.\u001b[0m\u001b[0m_jobs\u001b[0m\u001b[0;34m)\u001b[0m\u001b[0;34m\u001b[0m\u001b[0;34m\u001b[0m\u001b[0m\n\u001b[0;32m--> 753\u001b[0;31m             \u001b[0mjob\u001b[0m \u001b[0;34m=\u001b[0m \u001b[0mself\u001b[0m\u001b[0;34m.\u001b[0m\u001b[0m_backend\u001b[0m\u001b[0;34m.\u001b[0m\u001b[0mapply_async\u001b[0m\u001b[0;34m(\u001b[0m\u001b[0mbatch\u001b[0m\u001b[0;34m,\u001b[0m \u001b[0mcallback\u001b[0m\u001b[0;34m=\u001b[0m\u001b[0mcb\u001b[0m\u001b[0;34m)\u001b[0m\u001b[0;34m\u001b[0m\u001b[0;34m\u001b[0m\u001b[0m\n\u001b[0m\u001b[1;32m    754\u001b[0m             \u001b[0;31m# A job can complete so quickly than its callback is\u001b[0m\u001b[0;34m\u001b[0m\u001b[0;34m\u001b[0m\u001b[0;34m\u001b[0m\u001b[0m\n\u001b[1;32m    755\u001b[0m             \u001b[0;31m# called before we get here, causing self._jobs to\u001b[0m\u001b[0;34m\u001b[0m\u001b[0;34m\u001b[0m\u001b[0;34m\u001b[0m\u001b[0m\n",
      "\u001b[0;32m/usr/local/lib/python3.7/site-packages/joblib/_parallel_backends.py\u001b[0m in \u001b[0;36mapply_async\u001b[0;34m(self, func, callback)\u001b[0m\n\u001b[1;32m    541\u001b[0m     \u001b[0;32mdef\u001b[0m \u001b[0mapply_async\u001b[0m\u001b[0;34m(\u001b[0m\u001b[0mself\u001b[0m\u001b[0;34m,\u001b[0m \u001b[0mfunc\u001b[0m\u001b[0;34m,\u001b[0m \u001b[0mcallback\u001b[0m\u001b[0;34m=\u001b[0m\u001b[0;32mNone\u001b[0m\u001b[0;34m)\u001b[0m\u001b[0;34m:\u001b[0m\u001b[0;34m\u001b[0m\u001b[0;34m\u001b[0m\u001b[0m\n\u001b[1;32m    542\u001b[0m         \u001b[0;34m\"\"\"Schedule a func to be run\"\"\"\u001b[0m\u001b[0;34m\u001b[0m\u001b[0;34m\u001b[0m\u001b[0m\n\u001b[0;32m--> 543\u001b[0;31m         \u001b[0mfuture\u001b[0m \u001b[0;34m=\u001b[0m \u001b[0mself\u001b[0m\u001b[0;34m.\u001b[0m\u001b[0m_workers\u001b[0m\u001b[0;34m.\u001b[0m\u001b[0msubmit\u001b[0m\u001b[0;34m(\u001b[0m\u001b[0mSafeFunction\u001b[0m\u001b[0;34m(\u001b[0m\u001b[0mfunc\u001b[0m\u001b[0;34m)\u001b[0m\u001b[0;34m)\u001b[0m\u001b[0;34m\u001b[0m\u001b[0;34m\u001b[0m\u001b[0m\n\u001b[0m\u001b[1;32m    544\u001b[0m         \u001b[0mfuture\u001b[0m\u001b[0;34m.\u001b[0m\u001b[0mget\u001b[0m \u001b[0;34m=\u001b[0m \u001b[0mfunctools\u001b[0m\u001b[0;34m.\u001b[0m\u001b[0mpartial\u001b[0m\u001b[0;34m(\u001b[0m\u001b[0mself\u001b[0m\u001b[0;34m.\u001b[0m\u001b[0mwrap_future_result\u001b[0m\u001b[0;34m,\u001b[0m \u001b[0mfuture\u001b[0m\u001b[0;34m)\u001b[0m\u001b[0;34m\u001b[0m\u001b[0;34m\u001b[0m\u001b[0m\n\u001b[1;32m    545\u001b[0m         \u001b[0;32mif\u001b[0m \u001b[0mcallback\u001b[0m \u001b[0;32mis\u001b[0m \u001b[0;32mnot\u001b[0m \u001b[0;32mNone\u001b[0m\u001b[0;34m:\u001b[0m\u001b[0;34m\u001b[0m\u001b[0;34m\u001b[0m\u001b[0m\n",
      "\u001b[0;32m/usr/local/lib/python3.7/site-packages/joblib/externals/loky/reusable_executor.py\u001b[0m in \u001b[0;36msubmit\u001b[0;34m(self, fn, *args, **kwargs)\u001b[0m\n\u001b[1;32m    158\u001b[0m         \u001b[0;32mwith\u001b[0m \u001b[0mself\u001b[0m\u001b[0;34m.\u001b[0m\u001b[0m_submit_resize_lock\u001b[0m\u001b[0;34m:\u001b[0m\u001b[0;34m\u001b[0m\u001b[0;34m\u001b[0m\u001b[0m\n\u001b[1;32m    159\u001b[0m             return super(_ReusablePoolExecutor, self).submit(\n\u001b[0;32m--> 160\u001b[0;31m                 fn, *args, **kwargs)\n\u001b[0m\u001b[1;32m    161\u001b[0m \u001b[0;34m\u001b[0m\u001b[0m\n\u001b[1;32m    162\u001b[0m     \u001b[0;32mdef\u001b[0m \u001b[0m_resize\u001b[0m\u001b[0;34m(\u001b[0m\u001b[0mself\u001b[0m\u001b[0;34m,\u001b[0m \u001b[0mmax_workers\u001b[0m\u001b[0;34m)\u001b[0m\u001b[0;34m:\u001b[0m\u001b[0;34m\u001b[0m\u001b[0;34m\u001b[0m\u001b[0m\n",
      "\u001b[0;32m/usr/local/lib/python3.7/site-packages/joblib/externals/loky/process_executor.py\u001b[0m in \u001b[0;36msubmit\u001b[0;34m(self, fn, *args, **kwargs)\u001b[0m\n\u001b[1;32m   1025\u001b[0m         \u001b[0;32mwith\u001b[0m \u001b[0mself\u001b[0m\u001b[0;34m.\u001b[0m\u001b[0m_flags\u001b[0m\u001b[0;34m.\u001b[0m\u001b[0mshutdown_lock\u001b[0m\u001b[0;34m:\u001b[0m\u001b[0;34m\u001b[0m\u001b[0;34m\u001b[0m\u001b[0m\n\u001b[1;32m   1026\u001b[0m             \u001b[0;32mif\u001b[0m \u001b[0mself\u001b[0m\u001b[0;34m.\u001b[0m\u001b[0m_flags\u001b[0m\u001b[0;34m.\u001b[0m\u001b[0mbroken\u001b[0m \u001b[0;32mis\u001b[0m \u001b[0;32mnot\u001b[0m \u001b[0;32mNone\u001b[0m\u001b[0;34m:\u001b[0m\u001b[0;34m\u001b[0m\u001b[0;34m\u001b[0m\u001b[0m\n\u001b[0;32m-> 1027\u001b[0;31m                 \u001b[0;32mraise\u001b[0m \u001b[0mself\u001b[0m\u001b[0;34m.\u001b[0m\u001b[0m_flags\u001b[0m\u001b[0;34m.\u001b[0m\u001b[0mbroken\u001b[0m\u001b[0;34m\u001b[0m\u001b[0;34m\u001b[0m\u001b[0m\n\u001b[0m\u001b[1;32m   1028\u001b[0m             \u001b[0;32mif\u001b[0m \u001b[0mself\u001b[0m\u001b[0;34m.\u001b[0m\u001b[0m_flags\u001b[0m\u001b[0;34m.\u001b[0m\u001b[0mshutdown\u001b[0m\u001b[0;34m:\u001b[0m\u001b[0;34m\u001b[0m\u001b[0;34m\u001b[0m\u001b[0m\n\u001b[1;32m   1029\u001b[0m                 raise ShutdownExecutorError(\n",
      "\u001b[0;31mTerminatedWorkerError\u001b[0m: A worker process managed by the executor was unexpectedly terminated. This could be caused by a segmentation fault while calling the function or by an excessive memory usage causing the Operating System to kill the worker. The exit codes of the workers are {SIGABRT(-6)}"
     ]
    }
   ],
   "source": [
    "import joblib\n",
    "from os.path import exists\n",
    "import train\n",
    "dataname = \"LUSCLUAD_CNV\"\n",
    "if not exists(f\"models/{dataname}_LR.mdl\"):\n",
    "    train.run_logistic_regression(X_train, X_test, y_train, y_test, dataname)\n",
    "if not exists(f\"models/{dataname}_SVM.mdl\"):\n",
    "    train.run_svm(X_train, X_test, y_train, y_test, dataname)\n",
    "if not exists(f\"models/{dataname}_DT.mdl\"):\n",
    "    train.run_decision_trees(X_train, X_test, y_train, y_test, dataname)\n",
    "if not exists(f\"models/{dataname}_RF.mdl\"):\n",
    "    train.run_random_forest(X_train, X_test, y_train, y_test, dataname)\n",
    "if not exists(f\"models/{dataname}_XGB.mdl\"):\n",
    "    train.run_xgboost(X_train, X_test, y_train, y_test, dataname)"
   ]
  },
  {
   "cell_type": "code",
   "execution_count": 81,
   "metadata": {},
   "outputs": [],
   "source": [
    "dataname = \"LUSCLUAD_CNV\"\n",
    "rf_model_CNV = joblib.load(f\"models/{dataname}_RF.mdl\")\n",
    "lr_model_CNV = joblib.load(f\"models/{dataname}_LR.mdl\")\n",
    "dt_model_CNV = joblib.load(f\"models/{dataname}_DT.mdl\")\n",
    "svm_model_CNV = joblib.load(f\"models/{dataname}_SVM.mdl\")\n",
    "# xgb_model_CNV = joblib.load(f\"models/{dataname}_XGB.mdl\")"
   ]
  },
  {
   "cell_type": "code",
   "execution_count": 106,
   "metadata": {},
   "outputs": [],
   "source": [
    "dataname = \"LUSCLUAD\"\n",
    "rf_model_GE = joblib.load(f\"models/{dataname}_RF.mdl\")\n",
    "lr_model_GE = joblib.load(f\"models/{dataname}_LR.mdl\")\n",
    "dt_model_GE = joblib.load(f\"models/{dataname}_DT.mdl\")\n",
    "svm_model_GE = joblib.load(f\"models/{dataname}_SVM.mdl\")\n",
    "xgb_model_GE = joblib.load(f\"models/{dataname}_XGB.mdl\")"
   ]
  },
  {
   "cell_type": "code",
   "execution_count": 155,
   "metadata": {},
   "outputs": [
    {
     "data": {
      "text/plain": [
       "['0.0066 ± 0.0774  ENSG00000163872.14\\n0.0051 ± 0.0694  ENSG00000114796.14\\n0.0050 ± 0.0705  ENSG00000214160.8\\n0.0049 ± 0.0631  ENSG00000186038.8\\n0.0044 ± 0.0611  ENSG00000161203.12\\n0.0044 ± 0.0626  ENSG00000078081.6\\n0.0044 ± 0.0636  ENSG00000161204.10\\n0.0044 ± 0.0590  ENSG00000205981.5\\n0.0042 ± 0.0617  ENSG00000244405.6\\n0.0041 ± 0.0568  ENSG00000113790.9\\n0.0039 ± 0.0526  ENSG00000172667.9\\n0.0039 ± 0.0531  ENSG00000171109.17\\n0.0036 ± 0.0595  ENSG00000090539.14\\n0.0035 ± 0.0434  ENSG00000181449.3\\n0.0034 ± 0.0467  ENSG00000114503.9\\n0.0033 ± 0.0533  ENSG00000177383.4\\n0.0033 ± 0.0551  ENSG00000053524.10\\n0.0032 ± 0.0479  ENSG00000145016.12\\n0.0032 ± 0.0427  ENSG00000145075.10\\n0.0032 ± 0.0541  ENSG00000187068.2\\n0.0031 ± 0.0568  ENSG00000043093.12\\n0.0030 ± 0.0524  ENSG00000090530.8\\n0.0030 ± 0.0485  ENSG00000184203.6\\n0.0029 ± 0.0468  ENSG00000113889.10\\n0.0028 ± 0.0450  ENSG00000188958.8\\n0.0028 ± 0.0518  ENSG00000175193.11\\n0.0028 ± 0.0449  ENSG00000163923.8\\n0.0028 ± 0.0547  ENSG00000145198.13\\n0.0027 ± 0.0438  ENSG00000058063.14\\n0.0027 ± 0.0490  ENSG00000163882.8\\n0.0027 ± 0.0428  ENSG00000180834.6\\n0.0027 ± 0.0467  ENSG00000188001.8\\n0.0027 ± 0.0477  ENSG00000145113.20\\n0.0027 ± 0.0469  ENSG00000114770.15\\n0.0025 ± 0.0473  ENSG00000175166.15\\n0.0025 ± 0.0425  ENSG00000061938.15\\n0.0024 ± 0.0475  ENSG00000169760.16\\n0.0024 ± 0.0476  ENSG00000145194.16\\n0.0024 ± 0.0388  ENSG00000114331.11\\n0.0023 ± 0.0438  ENSG00000174013.7\\n0.0023 ± 0.0458  ENSG00000090512.10\\n0.0023 ± 0.0406  ENSG00000156931.14\\n0.0023 ± 0.0455  ENSG00000163918.9\\n0.0022 ± 0.0231  ENSG00000173163.9\\n0.0022 ± 0.0407  ENSG00000213139.6\\n0.0022 ± 0.0422  ENSG00000163728.9\\n0.0021 ± 0.0369  ENSG00000119231.9\\n0.0021 ± 0.0412  ENSG00000174004.5\\n0.0021 ± 0.0377  ENSG00000136521.11\\n0.0021 ± 0.0419  ENSG00000041802.9\\n0.0021 ± 0.0394  ENSG00000275163.1\\n0.0020 ± 0.0347  ENSG00000075651.14\\n0.0020 ± 0.0343  ENSG00000136518.15\\n0.0020 ± 0.0400  ENSG00000197584.10\\n0.0020 ± 0.0273  ENSG00000196166.3\\n0.0019 ± 0.0203  ENSG00000156735.9\\n0.0019 ± 0.0394  ENSG00000176945.15\\n0.0019 ± 0.0380  ENSG00000114279.12\\n0.0019 ± 0.0370  ENSG00000176597.10\\n0.0018 ± 0.0358  ENSG00000253548.1\\n0.0018 ± 0.0387  ENSG00000121864.8\\n0.0018 ± 0.0428  ENSG00000114450.8\\n0.0018 ± 0.0221  ENSG00000280544.1\\n0.0018 ± 0.0198  ENSG00000175324.8\\n0.0018 ± 0.0332  ENSG00000163558.11\\n0.0016 ± 0.0450  ENSG00000163888.3\\n0.0016 ± 0.0345  ENSG00000113946.3\\n0.0016 ± 0.0313  ENSG00000272741.1\\n0.0016 ± 0.0386  ENSG00000144959.8\\n0.0016 ± 0.0166  ENSG00000255582.1\\n0.0016 ± 0.0180  ENSG00000077782.18\\n0.0016 ± 0.0191  ENSG00000170264.11\\n0.0016 ± 0.0376  ENSG00000058056.7\\n0.0016 ± 0.0346  ENSG00000122068.11\\n0.0016 ± 0.0305  ENSG00000114757.17\\n0.0015 ± 0.0360  ENSG00000119227.6\\n0.0015 ± 0.0335  ENSG00000078070.10\\n0.0015 ± 0.0375  ENSG00000205835.7\\n0.0015 ± 0.0208  ENSG00000173209.21\\n0.0015 ± 0.0418  ENSG00000058866.13\\n0.0015 ± 0.0317  ENSG00000185798.7\\n0.0015 ± 0.0216  ENSG00000147548.15\\n0.0014 ± 0.0251  ENSG00000163900.9\\n0.0014 ± 0.0152  ENSG00000138138.12\\n0.0014 ± 0.0291  ENSG00000181092.8\\n0.0014 ± 0.0362  ENSG00000136522.12\\n0.0014 ± 0.0292  ENSG00000145107.14\\n0.0013 ± 0.0337  ENSG00000073792.14\\n0.0013 ± 0.0369  ENSG00000175182.12\\n0.0013 ± 0.0354  ENSG00000136527.16\\n0.0013 ± 0.0286  ENSG00000185621.10\\n0.0013 ± 0.0164  ENSG00000172578.10\\n0.0013 ± 0.0325  ENSG00000114315.3\\n0.0013 ± 0.0180  ENSG00000115507.8\\n0.0013 ± 0.0186  ENSG00000171476.20\\n0.0013 ± 0.0359  ENSG00000178084.1\\n0.0013 ± 0.0129  ENSG00000187840.4\\n0.0013 ± 0.0165  ENSG00000128052.8\\n0.0013 ± 0.0279  ENSG00000189058.7\\n0.0012 ± 0.0258  ENSG00000152492.12\\n0.0012 ± 0.0141  ENSG00000162928.8\\n0.0012 ± 0.0148  ENSG00000147465.10\\n0.0012 ± 0.0238  ENSG00000070087.12\\n0.0012 ± 0.0153  ENSG00000170340.10\\n0.0012 ± 0.0335  ENSG00000073803.12\\n0.0012 ± 0.0273  ENSG00000163347.5\\n0.0012 ± 0.0294  ENSG00000173950.14\\n0.0011 ± 0.0143  ENSG00000138468.14\\n0.0011 ± 0.0300  ENSG00000185112.5\\n0.0011 ± 0.0311  ENSG00000127241.15\\n0.0011 ± 0.0120  ENSG00000136352.16\\n0.0011 ± 0.0219  ENSG00000231213.5\\n0.0011 ± 0.0124  ENSG00000168615.10\\n0.0011 ± 0.0274  ENSG00000187527.9\\n0.0011 ± 0.0130  ENSG00000121879.3\\n0.0011 ± 0.0155  ENSG00000186090.9\\n0.0010 ± 0.0255  ENSG00000085274.14\\n0.0010 ± 0.0136  ENSG00000249693.2\\n0.0010 ± 0.0220  ENSG00000171121.15\\n0.0010 ± 0.0144  ENSG00000186889.8\\n0.0010 ± 0.0273  ENSG00000090402.6\\n0.0010 ± 0.0200  ENSG00000179674.3\\n0.0010 ± 0.0266  ENSG00000163960.10\\n0.0010 ± 0.0277  ENSG00000186329.8\\n0.0010 ± 0.0131  ENSG00000128040.9\\n0.0010 ± 0.0096  ENSG00000171862.8\\n0.0010 ± 0.0254  ENSG00000075420.11\\n0.0010 ± 0.0238  ENSG00000173890.15\\n0.0010 ± 0.0271  ENSG00000163964.12\\n0.0009 ± 0.0266  ENSG00000073849.13\\n0.0009 ± 0.0196  ENSG00000130561.15\\n0.0009 ± 0.0195  ENSG00000182580.2\\n0.0009 ± 0.0163  ENSG00000115392.10\\n0.0009 ± 0.0140  ENSG00000084093.14\\n0.0009 ± 0.0119  ENSG00000134851.11\\n0.0009 ± 0.0241  ENSG00000163584.16\\n0.0009 ± 0.0255  ENSG00000127252.5\\n0.0009 ± 0.0153  ENSG00000147526.18\\n0.0009 ± 0.0135  ENSG00000185187.11\\n0.0009 ± 0.0230  ENSG00000198398.2\\n0.0009 ± 0.0114  ENSG00000129691.14\\n0.0009 ± 0.0117  ENSG00000101292.7\\n0.0009 ± 0.0117  ENSG00000149716.11\\n0.0009 ± 0.0161  ENSG00000115592.10\\n0.0008 ± 0.0156  ENSG00000147535.15\\n0.0008 ± 0.0135  ENSG00000229415.8\\n0.0008 ± 0.0121  ENSG00000079557.4\\n0.0008 ± 0.0140  ENSG00000100890.14\\n0.0008 ± 0.0199  ENSG00000180611.6\\n0.0008 ± 0.0167  ENSG00000115504.13\\n0.0008 ± 0.0159  ENSG00000168918.12\\n0.0008 ± 0.0229  ENSG00000013293.5\\n0.0008 ± 0.0228  ENSG00000180044.4\\n0.0008 ± 0.0118  ENSG00000020181.16\\n0.0008 ± 0.0128  ENSG00000115053.14\\n0.0008 ± 0.0122  ENSG00000023191.15\\n0.0008 ± 0.0108  ENSG00000114416.16\\n0.0008 ± 0.0086  ENSG00000085788.12\\n0.0008 ± 0.0109  ENSG00000177685.15\\n0.0008 ± 0.0217  ENSG00000161267.10\\n0.0008 ± 0.0120  ENSG00000168702.15\\n0.0008 ± 0.0140  ENSG00000128059.7\\n0.0008 ± 0.0105  ENSG00000114354.11\\n0.0008 ± 0.0158  ENSG00000205869.2\\n0.0008 ± 0.0153  ENSG00000134853.10\\n0.0007 ± 0.0095  ENSG00000088827.11\\n0.0007 ± 0.0176  ENSG00000135917.12\\n0.0007 ± 0.0137  ENSG00000142102.14\\n0.0007 ± 0.0189  ENSG00000175077.5\\n0.0007 ± 0.0188  ENSG00000157005.3\\n0.0007 ± 0.0110  ENSG00000188676.12\\n0.0007 ± 0.0173  ENSG00000169359.12\\n0.0007 ± 0.0129  ENSG00000214063.9\\n0.0007 ± 0.0117  ENSG00000169499.13\\n0.0007 ± 0.0203  ENSG00000198836.7\\n0.0007 ± 0.0125  ENSG00000163515.6\\n0.0007 ± 0.0114  ENSG00000082898.15\\n0.0007 ± 0.0098  ENSG00000170017.11\\n0.0007 ± 0.0139  ENSG00000124003.12\\n0.0007 ± 0.0197  ENSG00000008952.15\\n0.0007 ± 0.0188  ENSG00000181744.7\\n0.0007 ± 0.0128  ENSG00000132622.9\\n0.0007 ± 0.0140  ENSG00000124019.9\\n0.0007 ± 0.0100  ENSG00000174373.14\\n0.0007 ± 0.0137  ENSG00000177483.10\\n0.0007 ± 0.0142  ENSG00000115009.10\\n0.0007 ± 0.0193  ENSG00000114248.8\\n0.0007 ± 0.0151  ENSG00000123485.10\\n0.0007 ± 0.0104  ENSG00000163440.9\\n0.0007 ± 0.0114  ENSG00000230657.5\\n0.0007 ± 0.0106  ENSG00000177042.13\\n0.0007 ± 0.0117  ENSG00000205864.1\\n0.0007 ± 0.0170  ENSG00000135900.3\\n0.0007 ± 0.0174  ENSG00000181467.3\\n0.0007 ± 0.0143  ENSG00000144579.6\\n0.0007 ± 0.0101  ENSG00000153802.10\\n0.0007 ± 0.0186  ENSG00000198829.6\\n0.0006 ± 0.0089  ENSG00000174885.11\\n0.0006 ± 0.0100  ENSG00000089199.8\\n0.0006 ± 0.0115  ENSG00000177707.9\\n0.0006 ± 0.0104  ENSG00000157426.12\\n0.0006 ± 0.0125  ENSG00000134852.13\\n0.0006 ± 0.0114  ENSG00000130598.14\\n0.0006 ± 0.0106  ENSG00000169154.5\\n0.0006 ± 0.0085  ENSG00000162924.12\\n0.0006 ± 0.0095  ENSG00000177666.14\\n0.0006 ± 0.0089  ENSG00000028116.15\\n0.0006 ± 0.0102  ENSG00000180613.9\\n0.0006 ± 0.0109  ENSG00000111206.11\\n0.0006 ± 0.0090  ENSG00000085733.14\\n0.0006 ± 0.0168  ENSG00000173905.7\\n0.0006 ± 0.0099  ENSG00000128039.9\\n0.0006 ± 0.0138  ENSG00000153827.12\\n0.0006 ± 0.0105  ENSG00000173744.16\\n0.0006 ± 0.0087  ENSG00000151413.15\\n0.0006 ± 0.0149  ENSG00000163536.11\\n0.0006 ± 0.0098  ENSG00000182504.9\\n0.0006 ± 0.0092  ENSG00000158553.4\\n0.0006 ± 0.0100  ENSG00000047315.13\\n0.0006 ± 0.0113  ENSG00000185627.16\\n0.0006 ± 0.0093  ENSG00000114021.10\\n0.0006 ± 0.0099  ENSG00000184014.6\\n0.0006 ± 0.0091  ENSG00000069696.6\\n0.0005 ± 0.0102  ENSG00000127920.5\\n0.0005 ± 0.0135  ENSG00000152580.8\\n0.0005 ± 0.0080  ENSG00000172322.12\\n0.0005 ± 0.0154  ENSG00000174928.14\\n0.0005 ± 0.0078  ENSG00000255639.2\\n0.0005 ± 0.0091  ENSG00000144468.15\\n0.0005 ± 0.0145  ENSG00000163961.4\\n0.0005 ± 0.0091  ENSG00000118242.14\\n0.0005 ± 0.0107  ENSG00000181649.5\\n0.0005 ± 0.0097  ENSG00000231192.1\\n0.0005 ± 0.0090  ENSG00000072952.17\\n0.0005 ± 0.0107  ENSG00000177030.15\\n0.0005 ± 0.0078  ENSG00000260691.4\\n0.0005 ± 0.0088  ENSG00000185101.11\\n0.0005 ± 0.0088  ENSG00000159840.14\\n0.0005 ± 0.0087  ENSG00000130226.15\\n0.0005 ± 0.0134  ENSG00000115464.13\\n0.0005 ± 0.0104  ENSG00000137692.10\\n0.0005 ± 0.0136  ENSG00000204099.10\\n0.0005 ± 0.0106  ENSG00000197756.8\\n0.0005 ± 0.0140  ENSG00000115648.12\\n0.0005 ± 0.0100  ENSG00000178568.12\\n0.0005 ± 0.0142  ENSG00000163904.11\\n0.0005 ± 0.0087  ENSG00000061936.8\\n0.0005 ± 0.0071  ENSG00000254995.4\\n0.0005 ± 0.0077  ENSG00000164778.4\\n0.0005 ± 0.0075  ENSG00000198393.6\\n0.0005 ± 0.0063  ENSG00000105854.11\\n0.0005 ± 0.0075  ENSG00000036257.11\\n0.0005 ± 0.0097  ENSG00000177830.16\\n0.0005 ± 0.0085  ENSG00000149346.13\\n0.0005 ± 0.0087  ENSG00000117983.16\\n0.0005 ± 0.0080  ENSG00000144029.10\\n0.0005 ± 0.0085  ENSG00000276180.1\\n0.0005 ± 0.0100  ENSG00000278919.1\\n0.0005 ± 0.0074  ENSG00000085449.13\\n0.0005 ± 0.0097  ENSG00000177106.13\\n0.0005 ± 0.0092  ENSG00000163453.10\\n0.0005 ± 0.0135  ENSG00000109255.10\\n0.0005 ± 0.0122  ENSG00000163661.3\\n0.0005 ± 0.0068  ENSG00000185775.9\\n0.0005 ± 0.0084  ENSG00000144810.14\\n0.0005 ± 0.0134  ENSG00000163449.9\\n0.0005 ± 0.0095  ENSG00000168955.3\\n0.0005 ± 0.0133  ENSG00000174948.5\\n0.0005 ± 0.0079  ENSG00000184226.13\\n0.0005 ± 0.0056  ENSG00000188778.4\\n0.0005 ± 0.0132  ENSG00000180871.6\\n0.0005 ± 0.0069  ENSG00000139865.15\\n0.0005 ± 0.0093  ENSG00000105793.14\\n0.0005 ± 0.0131  ENSG00000135903.17\\n0.0005 ± 0.0078  ENSG00000089195.13\\n0.0005 ± 0.0103  ENSG00000162927.12\\n0.0005 ± 0.0112  ENSG00000273331.1\\n0.0005 ± 0.0120  ENSG00000198822.9\\n0.0005 ± 0.0096  ENSG00000197938.4\\n0.0005 ± 0.0095  ENSG00000182698.10\\n0.0005 ± 0.0080  ENSG00000081154.10\\n0.0005 ± 0.0070  ENSG00000125872.7\\n0.0005 ± 0.0064  ENSG00000186470.12\\n0.0005 ± 0.0089  ENSG00000177225.15\\n0.0005 ± 0.0092  ENSG00000164659.13\\n0.0005 ± 0.0059  ENSG00000260238.4\\n0.0005 ± 0.0099  ENSG00000221823.9\\n0.0004 ± 0.0082  ENSG00000092201.8\\n0.0004 ± 0.0084  ENSG00000162929.12\\n0.0004 ± 0.0126  ENSG00000178732.5\\n0.0004 ± 0.0083  ENSG00000274897.2\\n0.0004 ± 0.0074  ENSG00000139880.18\\n0.0004 ± 0.0079  ENSG00000182326.13\\n0.0004 ± 0.0071  ENSG00000089692.7\\n0.0004 ± 0.0108  ENSG00000161202.16\\n0.0004 ± 0.0099  ENSG00000089063.13\\n0.0004 ± 0.0081  ENSG00000114861.17\\n0.0004 ± 0.0071  ENSG00000075539.12\\n0.0004 ± 0.0078  ENSG00000177600.7\\n0.0004 ± 0.0063  ENSG00000186009.4\\n          … 19429 more …           ']"
      ]
     },
     "execution_count": 155,
     "metadata": {},
     "output_type": "execute_result"
    }
   ],
   "source": [
    "x = eli5.explain_weights(rf_model_CNV.named_steps[\"model\"], feature_names=feature_names, top=300)\n",
    "features = eli5.format_as_text(x, show= ('targets', 'feature_importances'))\n",
    "features.split(\"/n\")"
   ]
  },
  {
   "cell_type": "code",
   "execution_count": 139,
   "metadata": {},
   "outputs": [
    {
     "ename": "SyntaxError",
     "evalue": "invalid character in identifier (<ipython-input-139-e8c6b29d1d9c>, line 4)",
     "output_type": "error",
     "traceback": [
      "\u001b[0;36m  File \u001b[0;32m\"<ipython-input-139-e8c6b29d1d9c>\"\u001b[0;36m, line \u001b[0;32m4\u001b[0m\n\u001b[0;31m    eli5.show_weights(rf_model.named_steps[\"model\"], feature_names=feature_names_ge, top=300, show=List[‘feature_importances’])\u001b[0m\n\u001b[0m                                                                                                                            ^\u001b[0m\n\u001b[0;31mSyntaxError\u001b[0m\u001b[0;31m:\u001b[0m invalid character in identifier\n"
     ]
    }
   ],
   "source": [
    "eli5.show_weights(rf_model.named_steps[\"model\"], feature_names=feature_names_ge, top=300, show=List[‘feature_importances’]) \n"
   ]
  },
  {
   "cell_type": "code",
   "execution_count": 141,
   "metadata": {},
   "outputs": [
    {
     "name": "stdout",
     "output_type": "stream",
     "text": [
      "[0.00000000e+00 0.00000000e+00 1.97600880e-05 ... 0.00000000e+00\n",
      " 0.00000000e+00 3.94243386e-05]\n"
     ]
    }
   ],
   "source": [
    "# feats = rf_model.named_steps[\"model\"].feature_importances_\n",
    "# print(feats)"
   ]
  },
  {
   "cell_type": "code",
   "execution_count": 142,
   "metadata": {},
   "outputs": [
    {
     "ename": "KeyboardInterrupt",
     "evalue": "",
     "output_type": "error",
     "traceback": [
      "\u001b[0;31m---------------------------------------------------------------------------\u001b[0m",
      "\u001b[0;31mKeyboardInterrupt\u001b[0m                         Traceback (most recent call last)",
      "\u001b[0;32m<ipython-input-142-26717401d3c0>\u001b[0m in \u001b[0;36m<module>\u001b[0;34m\u001b[0m\n\u001b[1;32m      1\u001b[0m \u001b[0;32mfrom\u001b[0m \u001b[0meli5\u001b[0m\u001b[0;34m.\u001b[0m\u001b[0msklearn\u001b[0m \u001b[0;32mimport\u001b[0m \u001b[0mPermutationImportance\u001b[0m\u001b[0;34m\u001b[0m\u001b[0;34m\u001b[0m\u001b[0m\n\u001b[1;32m      2\u001b[0m \u001b[0;34m\u001b[0m\u001b[0m\n\u001b[0;32m----> 3\u001b[0;31m \u001b[0mpermCNV\u001b[0m \u001b[0;34m=\u001b[0m \u001b[0mPermutationImportance\u001b[0m\u001b[0;34m(\u001b[0m\u001b[0mrf_model_CNV\u001b[0m\u001b[0;34m,\u001b[0m \u001b[0mrandom_state\u001b[0m\u001b[0;34m=\u001b[0m\u001b[0;36m42\u001b[0m\u001b[0;34m)\u001b[0m\u001b[0;34m.\u001b[0m\u001b[0mfit\u001b[0m\u001b[0;34m(\u001b[0m\u001b[0mX_train\u001b[0m\u001b[0;34m,\u001b[0m \u001b[0my_train\u001b[0m\u001b[0;34m)\u001b[0m\u001b[0;34m\u001b[0m\u001b[0;34m\u001b[0m\u001b[0m\n\u001b[0m\u001b[1;32m      4\u001b[0m \u001b[0mfeatures\u001b[0m \u001b[0;34m=\u001b[0m \u001b[0mpermCNV\u001b[0m\u001b[0;34m.\u001b[0m\u001b[0mfeature_importances_\u001b[0m\u001b[0;34m\u001b[0m\u001b[0;34m\u001b[0m\u001b[0m\n\u001b[1;32m      5\u001b[0m \u001b[0mprint\u001b[0m\u001b[0;34m(\u001b[0m\u001b[0mfeatures\u001b[0m\u001b[0;34m)\u001b[0m\u001b[0;34m\u001b[0m\u001b[0;34m\u001b[0m\u001b[0m\n",
      "\u001b[0;32m/usr/local/lib/python3.7/site-packages/eli5/sklearn/permutation_importance.py\u001b[0m in \u001b[0;36mfit\u001b[0;34m(self, X, y, groups, **fit_params)\u001b[0m\n\u001b[1;32m    200\u001b[0m             \u001b[0msi\u001b[0m \u001b[0;34m=\u001b[0m \u001b[0mself\u001b[0m\u001b[0;34m.\u001b[0m\u001b[0m_cv_scores_importances\u001b[0m\u001b[0;34m(\u001b[0m\u001b[0mX\u001b[0m\u001b[0;34m,\u001b[0m \u001b[0my\u001b[0m\u001b[0;34m,\u001b[0m \u001b[0mgroups\u001b[0m\u001b[0;34m=\u001b[0m\u001b[0mgroups\u001b[0m\u001b[0;34m,\u001b[0m \u001b[0;34m**\u001b[0m\u001b[0mfit_params\u001b[0m\u001b[0;34m)\u001b[0m\u001b[0;34m\u001b[0m\u001b[0;34m\u001b[0m\u001b[0m\n\u001b[1;32m    201\u001b[0m         \u001b[0;32melse\u001b[0m\u001b[0;34m:\u001b[0m\u001b[0;34m\u001b[0m\u001b[0;34m\u001b[0m\u001b[0m\n\u001b[0;32m--> 202\u001b[0;31m             \u001b[0msi\u001b[0m \u001b[0;34m=\u001b[0m \u001b[0mself\u001b[0m\u001b[0;34m.\u001b[0m\u001b[0m_non_cv_scores_importances\u001b[0m\u001b[0;34m(\u001b[0m\u001b[0mX\u001b[0m\u001b[0;34m,\u001b[0m \u001b[0my\u001b[0m\u001b[0;34m)\u001b[0m\u001b[0;34m\u001b[0m\u001b[0;34m\u001b[0m\u001b[0m\n\u001b[0m\u001b[1;32m    203\u001b[0m         \u001b[0mscores\u001b[0m\u001b[0;34m,\u001b[0m \u001b[0mresults\u001b[0m \u001b[0;34m=\u001b[0m \u001b[0msi\u001b[0m\u001b[0;34m\u001b[0m\u001b[0;34m\u001b[0m\u001b[0m\n\u001b[1;32m    204\u001b[0m         \u001b[0mself\u001b[0m\u001b[0;34m.\u001b[0m\u001b[0mscores_\u001b[0m \u001b[0;34m=\u001b[0m \u001b[0mnp\u001b[0m\u001b[0;34m.\u001b[0m\u001b[0marray\u001b[0m\u001b[0;34m(\u001b[0m\u001b[0mscores\u001b[0m\u001b[0;34m)\u001b[0m\u001b[0;34m\u001b[0m\u001b[0;34m\u001b[0m\u001b[0m\n",
      "\u001b[0;32m/usr/local/lib/python3.7/site-packages/eli5/sklearn/permutation_importance.py\u001b[0m in \u001b[0;36m_non_cv_scores_importances\u001b[0;34m(self, X, y)\u001b[0m\n\u001b[1;32m    224\u001b[0m     \u001b[0;32mdef\u001b[0m \u001b[0m_non_cv_scores_importances\u001b[0m\u001b[0;34m(\u001b[0m\u001b[0mself\u001b[0m\u001b[0;34m,\u001b[0m \u001b[0mX\u001b[0m\u001b[0;34m,\u001b[0m \u001b[0my\u001b[0m\u001b[0;34m)\u001b[0m\u001b[0;34m:\u001b[0m\u001b[0;34m\u001b[0m\u001b[0;34m\u001b[0m\u001b[0m\n\u001b[1;32m    225\u001b[0m         \u001b[0mscore_func\u001b[0m \u001b[0;34m=\u001b[0m \u001b[0mpartial\u001b[0m\u001b[0;34m(\u001b[0m\u001b[0mself\u001b[0m\u001b[0;34m.\u001b[0m\u001b[0mscorer_\u001b[0m\u001b[0;34m,\u001b[0m \u001b[0mself\u001b[0m\u001b[0;34m.\u001b[0m\u001b[0mwrapped_estimator_\u001b[0m\u001b[0;34m)\u001b[0m\u001b[0;34m\u001b[0m\u001b[0;34m\u001b[0m\u001b[0m\n\u001b[0;32m--> 226\u001b[0;31m         \u001b[0mbase_score\u001b[0m\u001b[0;34m,\u001b[0m \u001b[0mimportances\u001b[0m \u001b[0;34m=\u001b[0m \u001b[0mself\u001b[0m\u001b[0;34m.\u001b[0m\u001b[0m_get_score_importances\u001b[0m\u001b[0;34m(\u001b[0m\u001b[0mscore_func\u001b[0m\u001b[0;34m,\u001b[0m \u001b[0mX\u001b[0m\u001b[0;34m,\u001b[0m \u001b[0my\u001b[0m\u001b[0;34m)\u001b[0m\u001b[0;34m\u001b[0m\u001b[0;34m\u001b[0m\u001b[0m\n\u001b[0m\u001b[1;32m    227\u001b[0m         \u001b[0;32mreturn\u001b[0m \u001b[0;34m[\u001b[0m\u001b[0mbase_score\u001b[0m\u001b[0;34m]\u001b[0m \u001b[0;34m*\u001b[0m \u001b[0mlen\u001b[0m\u001b[0;34m(\u001b[0m\u001b[0mimportances\u001b[0m\u001b[0;34m)\u001b[0m\u001b[0;34m,\u001b[0m \u001b[0mimportances\u001b[0m\u001b[0;34m\u001b[0m\u001b[0;34m\u001b[0m\u001b[0m\n\u001b[1;32m    228\u001b[0m \u001b[0;34m\u001b[0m\u001b[0m\n",
      "\u001b[0;32m/usr/local/lib/python3.7/site-packages/eli5/sklearn/permutation_importance.py\u001b[0m in \u001b[0;36m_get_score_importances\u001b[0;34m(self, score_func, X, y)\u001b[0m\n\u001b[1;32m    229\u001b[0m     \u001b[0;32mdef\u001b[0m \u001b[0m_get_score_importances\u001b[0m\u001b[0;34m(\u001b[0m\u001b[0mself\u001b[0m\u001b[0;34m,\u001b[0m \u001b[0mscore_func\u001b[0m\u001b[0;34m,\u001b[0m \u001b[0mX\u001b[0m\u001b[0;34m,\u001b[0m \u001b[0my\u001b[0m\u001b[0;34m)\u001b[0m\u001b[0;34m:\u001b[0m\u001b[0;34m\u001b[0m\u001b[0;34m\u001b[0m\u001b[0m\n\u001b[1;32m    230\u001b[0m         return get_score_importances(score_func, X, y, n_iter=self.n_iter,\n\u001b[0;32m--> 231\u001b[0;31m                                      random_state=self.rng_)\n\u001b[0m\u001b[1;32m    232\u001b[0m \u001b[0;34m\u001b[0m\u001b[0m\n\u001b[1;32m    233\u001b[0m     \u001b[0;34m@\u001b[0m\u001b[0mproperty\u001b[0m\u001b[0;34m\u001b[0m\u001b[0;34m\u001b[0m\u001b[0m\n",
      "\u001b[0;32m/usr/local/lib/python3.7/site-packages/eli5/permutation_importance.py\u001b[0m in \u001b[0;36mget_score_importances\u001b[0;34m(score_func, X, y, n_iter, columns_to_shuffle, random_state)\u001b[0m\n\u001b[1;32m     89\u001b[0m         scores_shuffled = _get_scores_shufled(\n\u001b[1;32m     90\u001b[0m             \u001b[0mscore_func\u001b[0m\u001b[0;34m,\u001b[0m \u001b[0mX\u001b[0m\u001b[0;34m,\u001b[0m \u001b[0my\u001b[0m\u001b[0;34m,\u001b[0m \u001b[0mcolumns_to_shuffle\u001b[0m\u001b[0;34m=\u001b[0m\u001b[0mcolumns_to_shuffle\u001b[0m\u001b[0;34m,\u001b[0m\u001b[0;34m\u001b[0m\u001b[0;34m\u001b[0m\u001b[0m\n\u001b[0;32m---> 91\u001b[0;31m             \u001b[0mrandom_state\u001b[0m\u001b[0;34m=\u001b[0m\u001b[0mrng\u001b[0m\u001b[0;34m\u001b[0m\u001b[0;34m\u001b[0m\u001b[0m\n\u001b[0m\u001b[1;32m     92\u001b[0m         )\n\u001b[1;32m     93\u001b[0m         \u001b[0mscores_decreases\u001b[0m\u001b[0;34m.\u001b[0m\u001b[0mappend\u001b[0m\u001b[0;34m(\u001b[0m\u001b[0;34m-\u001b[0m\u001b[0mscores_shuffled\u001b[0m \u001b[0;34m+\u001b[0m \u001b[0mbase_score\u001b[0m\u001b[0;34m)\u001b[0m\u001b[0;34m\u001b[0m\u001b[0;34m\u001b[0m\u001b[0m\n",
      "\u001b[0;32m/usr/local/lib/python3.7/site-packages/eli5/permutation_importance.py\u001b[0m in \u001b[0;36m_get_scores_shufled\u001b[0;34m(score_func, X, y, columns_to_shuffle, random_state)\u001b[0m\n\u001b[1;32m     98\u001b[0m                         random_state=None):\n\u001b[1;32m     99\u001b[0m     \u001b[0mXs\u001b[0m \u001b[0;34m=\u001b[0m \u001b[0miter_shuffled\u001b[0m\u001b[0;34m(\u001b[0m\u001b[0mX\u001b[0m\u001b[0;34m,\u001b[0m \u001b[0mcolumns_to_shuffle\u001b[0m\u001b[0;34m,\u001b[0m \u001b[0mrandom_state\u001b[0m\u001b[0;34m=\u001b[0m\u001b[0mrandom_state\u001b[0m\u001b[0;34m)\u001b[0m\u001b[0;34m\u001b[0m\u001b[0;34m\u001b[0m\u001b[0m\n\u001b[0;32m--> 100\u001b[0;31m     \u001b[0;32mreturn\u001b[0m \u001b[0mnp\u001b[0m\u001b[0;34m.\u001b[0m\u001b[0marray\u001b[0m\u001b[0;34m(\u001b[0m\u001b[0;34m[\u001b[0m\u001b[0mscore_func\u001b[0m\u001b[0;34m(\u001b[0m\u001b[0mX_shuffled\u001b[0m\u001b[0;34m,\u001b[0m \u001b[0my\u001b[0m\u001b[0;34m)\u001b[0m \u001b[0;32mfor\u001b[0m \u001b[0mX_shuffled\u001b[0m \u001b[0;32min\u001b[0m \u001b[0mXs\u001b[0m\u001b[0;34m]\u001b[0m\u001b[0;34m)\u001b[0m\u001b[0;34m\u001b[0m\u001b[0;34m\u001b[0m\u001b[0m\n\u001b[0m",
      "\u001b[0;32m/usr/local/lib/python3.7/site-packages/eli5/permutation_importance.py\u001b[0m in \u001b[0;36m<listcomp>\u001b[0;34m(.0)\u001b[0m\n\u001b[1;32m     98\u001b[0m                         random_state=None):\n\u001b[1;32m     99\u001b[0m     \u001b[0mXs\u001b[0m \u001b[0;34m=\u001b[0m \u001b[0miter_shuffled\u001b[0m\u001b[0;34m(\u001b[0m\u001b[0mX\u001b[0m\u001b[0;34m,\u001b[0m \u001b[0mcolumns_to_shuffle\u001b[0m\u001b[0;34m,\u001b[0m \u001b[0mrandom_state\u001b[0m\u001b[0;34m=\u001b[0m\u001b[0mrandom_state\u001b[0m\u001b[0;34m)\u001b[0m\u001b[0;34m\u001b[0m\u001b[0;34m\u001b[0m\u001b[0m\n\u001b[0;32m--> 100\u001b[0;31m     \u001b[0;32mreturn\u001b[0m \u001b[0mnp\u001b[0m\u001b[0;34m.\u001b[0m\u001b[0marray\u001b[0m\u001b[0;34m(\u001b[0m\u001b[0;34m[\u001b[0m\u001b[0mscore_func\u001b[0m\u001b[0;34m(\u001b[0m\u001b[0mX_shuffled\u001b[0m\u001b[0;34m,\u001b[0m \u001b[0my\u001b[0m\u001b[0;34m)\u001b[0m \u001b[0;32mfor\u001b[0m \u001b[0mX_shuffled\u001b[0m \u001b[0;32min\u001b[0m \u001b[0mXs\u001b[0m\u001b[0;34m]\u001b[0m\u001b[0;34m)\u001b[0m\u001b[0;34m\u001b[0m\u001b[0;34m\u001b[0m\u001b[0m\n\u001b[0m",
      "\u001b[0;32m/usr/local/lib/python3.7/site-packages/eli5/sklearn/permutation_importance.py\u001b[0m in \u001b[0;36mpd_scorer\u001b[0;34m(model, X, y)\u001b[0m\n\u001b[1;32m    158\u001b[0m         \u001b[0;32mdef\u001b[0m \u001b[0mpd_scorer\u001b[0m\u001b[0;34m(\u001b[0m\u001b[0mmodel\u001b[0m\u001b[0;34m,\u001b[0m \u001b[0mX\u001b[0m\u001b[0;34m,\u001b[0m \u001b[0my\u001b[0m\u001b[0;34m)\u001b[0m\u001b[0;34m:\u001b[0m\u001b[0;34m\u001b[0m\u001b[0;34m\u001b[0m\u001b[0m\n\u001b[1;32m    159\u001b[0m             \u001b[0mX\u001b[0m \u001b[0;34m=\u001b[0m \u001b[0mpd\u001b[0m\u001b[0;34m.\u001b[0m\u001b[0mDataFrame\u001b[0m\u001b[0;34m(\u001b[0m\u001b[0mX\u001b[0m\u001b[0;34m,\u001b[0m \u001b[0mcolumns\u001b[0m\u001b[0;34m=\u001b[0m\u001b[0mpd_columns\u001b[0m\u001b[0;34m)\u001b[0m\u001b[0;34m\u001b[0m\u001b[0;34m\u001b[0m\u001b[0m\n\u001b[0;32m--> 160\u001b[0;31m             \u001b[0;32mreturn\u001b[0m \u001b[0mbase_scorer\u001b[0m\u001b[0;34m(\u001b[0m\u001b[0mmodel\u001b[0m\u001b[0;34m,\u001b[0m \u001b[0mX\u001b[0m\u001b[0;34m,\u001b[0m \u001b[0my\u001b[0m\u001b[0;34m)\u001b[0m\u001b[0;34m\u001b[0m\u001b[0;34m\u001b[0m\u001b[0m\n\u001b[0m\u001b[1;32m    161\u001b[0m         \u001b[0;32mreturn\u001b[0m \u001b[0mpd_scorer\u001b[0m\u001b[0;34m\u001b[0m\u001b[0;34m\u001b[0m\u001b[0m\n\u001b[1;32m    162\u001b[0m \u001b[0;34m\u001b[0m\u001b[0m\n",
      "\u001b[0;32m/usr/local/lib/python3.7/site-packages/sklearn/metrics/scorer.py\u001b[0m in \u001b[0;36m_passthrough_scorer\u001b[0;34m(estimator, *args, **kwargs)\u001b[0m\n\u001b[1;32m    238\u001b[0m \u001b[0;32mdef\u001b[0m \u001b[0m_passthrough_scorer\u001b[0m\u001b[0;34m(\u001b[0m\u001b[0mestimator\u001b[0m\u001b[0;34m,\u001b[0m \u001b[0;34m*\u001b[0m\u001b[0margs\u001b[0m\u001b[0;34m,\u001b[0m \u001b[0;34m**\u001b[0m\u001b[0mkwargs\u001b[0m\u001b[0;34m)\u001b[0m\u001b[0;34m:\u001b[0m\u001b[0;34m\u001b[0m\u001b[0;34m\u001b[0m\u001b[0m\n\u001b[1;32m    239\u001b[0m     \u001b[0;34m\"\"\"Function that wraps estimator.score\"\"\"\u001b[0m\u001b[0;34m\u001b[0m\u001b[0;34m\u001b[0m\u001b[0m\n\u001b[0;32m--> 240\u001b[0;31m     \u001b[0;32mreturn\u001b[0m \u001b[0mestimator\u001b[0m\u001b[0;34m.\u001b[0m\u001b[0mscore\u001b[0m\u001b[0;34m(\u001b[0m\u001b[0;34m*\u001b[0m\u001b[0margs\u001b[0m\u001b[0;34m,\u001b[0m \u001b[0;34m**\u001b[0m\u001b[0mkwargs\u001b[0m\u001b[0;34m)\u001b[0m\u001b[0;34m\u001b[0m\u001b[0;34m\u001b[0m\u001b[0m\n\u001b[0m\u001b[1;32m    241\u001b[0m \u001b[0;34m\u001b[0m\u001b[0m\n\u001b[1;32m    242\u001b[0m \u001b[0;34m\u001b[0m\u001b[0m\n",
      "\u001b[0;32m/usr/local/lib/python3.7/site-packages/sklearn/utils/metaestimators.py\u001b[0m in \u001b[0;36m<lambda>\u001b[0;34m(*args, **kwargs)\u001b[0m\n\u001b[1;32m    114\u001b[0m \u001b[0;34m\u001b[0m\u001b[0m\n\u001b[1;32m    115\u001b[0m         \u001b[0;31m# lambda, but not partial, allows help() to work with update_wrapper\u001b[0m\u001b[0;34m\u001b[0m\u001b[0;34m\u001b[0m\u001b[0;34m\u001b[0m\u001b[0m\n\u001b[0;32m--> 116\u001b[0;31m         \u001b[0mout\u001b[0m \u001b[0;34m=\u001b[0m \u001b[0;32mlambda\u001b[0m \u001b[0;34m*\u001b[0m\u001b[0margs\u001b[0m\u001b[0;34m,\u001b[0m \u001b[0;34m**\u001b[0m\u001b[0mkwargs\u001b[0m\u001b[0;34m:\u001b[0m \u001b[0mself\u001b[0m\u001b[0;34m.\u001b[0m\u001b[0mfn\u001b[0m\u001b[0;34m(\u001b[0m\u001b[0mobj\u001b[0m\u001b[0;34m,\u001b[0m \u001b[0;34m*\u001b[0m\u001b[0margs\u001b[0m\u001b[0;34m,\u001b[0m \u001b[0;34m**\u001b[0m\u001b[0mkwargs\u001b[0m\u001b[0;34m)\u001b[0m\u001b[0;34m\u001b[0m\u001b[0;34m\u001b[0m\u001b[0m\n\u001b[0m\u001b[1;32m    117\u001b[0m         \u001b[0;31m# update the docstring of the returned function\u001b[0m\u001b[0;34m\u001b[0m\u001b[0;34m\u001b[0m\u001b[0;34m\u001b[0m\u001b[0m\n\u001b[1;32m    118\u001b[0m         \u001b[0mupdate_wrapper\u001b[0m\u001b[0;34m(\u001b[0m\u001b[0mout\u001b[0m\u001b[0;34m,\u001b[0m \u001b[0mself\u001b[0m\u001b[0;34m.\u001b[0m\u001b[0mfn\u001b[0m\u001b[0;34m)\u001b[0m\u001b[0;34m\u001b[0m\u001b[0;34m\u001b[0m\u001b[0m\n",
      "\u001b[0;32m/usr/local/lib/python3.7/site-packages/sklearn/pipeline.py\u001b[0m in \u001b[0;36mscore\u001b[0;34m(self, X, y, sample_weight)\u001b[0m\n\u001b[1;32m    600\u001b[0m         \u001b[0;32mif\u001b[0m \u001b[0msample_weight\u001b[0m \u001b[0;32mis\u001b[0m \u001b[0;32mnot\u001b[0m \u001b[0;32mNone\u001b[0m\u001b[0;34m:\u001b[0m\u001b[0;34m\u001b[0m\u001b[0;34m\u001b[0m\u001b[0m\n\u001b[1;32m    601\u001b[0m             \u001b[0mscore_params\u001b[0m\u001b[0;34m[\u001b[0m\u001b[0;34m'sample_weight'\u001b[0m\u001b[0;34m]\u001b[0m \u001b[0;34m=\u001b[0m \u001b[0msample_weight\u001b[0m\u001b[0;34m\u001b[0m\u001b[0;34m\u001b[0m\u001b[0m\n\u001b[0;32m--> 602\u001b[0;31m         \u001b[0;32mreturn\u001b[0m \u001b[0mself\u001b[0m\u001b[0;34m.\u001b[0m\u001b[0msteps\u001b[0m\u001b[0;34m[\u001b[0m\u001b[0;34m-\u001b[0m\u001b[0;36m1\u001b[0m\u001b[0;34m]\u001b[0m\u001b[0;34m[\u001b[0m\u001b[0;34m-\u001b[0m\u001b[0;36m1\u001b[0m\u001b[0;34m]\u001b[0m\u001b[0;34m.\u001b[0m\u001b[0mscore\u001b[0m\u001b[0;34m(\u001b[0m\u001b[0mXt\u001b[0m\u001b[0;34m,\u001b[0m \u001b[0my\u001b[0m\u001b[0;34m,\u001b[0m \u001b[0;34m**\u001b[0m\u001b[0mscore_params\u001b[0m\u001b[0;34m)\u001b[0m\u001b[0;34m\u001b[0m\u001b[0;34m\u001b[0m\u001b[0m\n\u001b[0m\u001b[1;32m    603\u001b[0m \u001b[0;34m\u001b[0m\u001b[0m\n\u001b[1;32m    604\u001b[0m     \u001b[0;34m@\u001b[0m\u001b[0mproperty\u001b[0m\u001b[0;34m\u001b[0m\u001b[0;34m\u001b[0m\u001b[0m\n",
      "\u001b[0;32m/usr/local/lib/python3.7/site-packages/sklearn/base.py\u001b[0m in \u001b[0;36mscore\u001b[0;34m(self, X, y, sample_weight)\u001b[0m\n\u001b[1;32m    355\u001b[0m         \"\"\"\n\u001b[1;32m    356\u001b[0m         \u001b[0;32mfrom\u001b[0m \u001b[0;34m.\u001b[0m\u001b[0mmetrics\u001b[0m \u001b[0;32mimport\u001b[0m \u001b[0maccuracy_score\u001b[0m\u001b[0;34m\u001b[0m\u001b[0;34m\u001b[0m\u001b[0m\n\u001b[0;32m--> 357\u001b[0;31m         \u001b[0;32mreturn\u001b[0m \u001b[0maccuracy_score\u001b[0m\u001b[0;34m(\u001b[0m\u001b[0my\u001b[0m\u001b[0;34m,\u001b[0m \u001b[0mself\u001b[0m\u001b[0;34m.\u001b[0m\u001b[0mpredict\u001b[0m\u001b[0;34m(\u001b[0m\u001b[0mX\u001b[0m\u001b[0;34m)\u001b[0m\u001b[0;34m,\u001b[0m \u001b[0msample_weight\u001b[0m\u001b[0;34m=\u001b[0m\u001b[0msample_weight\u001b[0m\u001b[0;34m)\u001b[0m\u001b[0;34m\u001b[0m\u001b[0;34m\u001b[0m\u001b[0m\n\u001b[0m\u001b[1;32m    358\u001b[0m \u001b[0;34m\u001b[0m\u001b[0m\n\u001b[1;32m    359\u001b[0m \u001b[0;34m\u001b[0m\u001b[0m\n",
      "\u001b[0;32m/usr/local/lib/python3.7/site-packages/sklearn/ensemble/forest.py\u001b[0m in \u001b[0;36mpredict\u001b[0;34m(self, X)\u001b[0m\n\u001b[1;32m    543\u001b[0m             \u001b[0mThe\u001b[0m \u001b[0mpredicted\u001b[0m \u001b[0mclasses\u001b[0m\u001b[0;34m.\u001b[0m\u001b[0;34m\u001b[0m\u001b[0;34m\u001b[0m\u001b[0m\n\u001b[1;32m    544\u001b[0m         \"\"\"\n\u001b[0;32m--> 545\u001b[0;31m         \u001b[0mproba\u001b[0m \u001b[0;34m=\u001b[0m \u001b[0mself\u001b[0m\u001b[0;34m.\u001b[0m\u001b[0mpredict_proba\u001b[0m\u001b[0;34m(\u001b[0m\u001b[0mX\u001b[0m\u001b[0;34m)\u001b[0m\u001b[0;34m\u001b[0m\u001b[0;34m\u001b[0m\u001b[0m\n\u001b[0m\u001b[1;32m    546\u001b[0m \u001b[0;34m\u001b[0m\u001b[0m\n\u001b[1;32m    547\u001b[0m         \u001b[0;32mif\u001b[0m \u001b[0mself\u001b[0m\u001b[0;34m.\u001b[0m\u001b[0mn_outputs_\u001b[0m \u001b[0;34m==\u001b[0m \u001b[0;36m1\u001b[0m\u001b[0;34m:\u001b[0m\u001b[0;34m\u001b[0m\u001b[0;34m\u001b[0m\u001b[0m\n",
      "\u001b[0;32m/usr/local/lib/python3.7/site-packages/sklearn/ensemble/forest.py\u001b[0m in \u001b[0;36mpredict_proba\u001b[0;34m(self, X)\u001b[0m\n\u001b[1;32m    599\u001b[0m             delayed(_accumulate_prediction)(e.predict_proba, X, all_proba,\n\u001b[1;32m    600\u001b[0m                                             lock)\n\u001b[0;32m--> 601\u001b[0;31m             for e in self.estimators_)\n\u001b[0m\u001b[1;32m    602\u001b[0m \u001b[0;34m\u001b[0m\u001b[0m\n\u001b[1;32m    603\u001b[0m         \u001b[0;32mfor\u001b[0m \u001b[0mproba\u001b[0m \u001b[0;32min\u001b[0m \u001b[0mall_proba\u001b[0m\u001b[0;34m:\u001b[0m\u001b[0;34m\u001b[0m\u001b[0;34m\u001b[0m\u001b[0m\n",
      "\u001b[0;32m/usr/local/lib/python3.7/site-packages/joblib/parallel.py\u001b[0m in \u001b[0;36m__call__\u001b[0;34m(self, iterable)\u001b[0m\n\u001b[1;32m   1014\u001b[0m \u001b[0;34m\u001b[0m\u001b[0m\n\u001b[1;32m   1015\u001b[0m             \u001b[0;32mwith\u001b[0m \u001b[0mself\u001b[0m\u001b[0;34m.\u001b[0m\u001b[0m_backend\u001b[0m\u001b[0;34m.\u001b[0m\u001b[0mretrieval_context\u001b[0m\u001b[0;34m(\u001b[0m\u001b[0;34m)\u001b[0m\u001b[0;34m:\u001b[0m\u001b[0;34m\u001b[0m\u001b[0;34m\u001b[0m\u001b[0m\n\u001b[0;32m-> 1016\u001b[0;31m                 \u001b[0mself\u001b[0m\u001b[0;34m.\u001b[0m\u001b[0mretrieve\u001b[0m\u001b[0;34m(\u001b[0m\u001b[0;34m)\u001b[0m\u001b[0;34m\u001b[0m\u001b[0;34m\u001b[0m\u001b[0m\n\u001b[0m\u001b[1;32m   1017\u001b[0m             \u001b[0;31m# Make sure that we get a last message telling us we are done\u001b[0m\u001b[0;34m\u001b[0m\u001b[0;34m\u001b[0m\u001b[0;34m\u001b[0m\u001b[0m\n\u001b[1;32m   1018\u001b[0m             \u001b[0melapsed_time\u001b[0m \u001b[0;34m=\u001b[0m \u001b[0mtime\u001b[0m\u001b[0;34m.\u001b[0m\u001b[0mtime\u001b[0m\u001b[0;34m(\u001b[0m\u001b[0;34m)\u001b[0m \u001b[0;34m-\u001b[0m \u001b[0mself\u001b[0m\u001b[0;34m.\u001b[0m\u001b[0m_start_time\u001b[0m\u001b[0;34m\u001b[0m\u001b[0;34m\u001b[0m\u001b[0m\n",
      "\u001b[0;32m/usr/local/lib/python3.7/site-packages/joblib/parallel.py\u001b[0m in \u001b[0;36mretrieve\u001b[0;34m(self)\u001b[0m\n\u001b[1;32m    906\u001b[0m             \u001b[0;32mtry\u001b[0m\u001b[0;34m:\u001b[0m\u001b[0;34m\u001b[0m\u001b[0;34m\u001b[0m\u001b[0m\n\u001b[1;32m    907\u001b[0m                 \u001b[0;32mif\u001b[0m \u001b[0mgetattr\u001b[0m\u001b[0;34m(\u001b[0m\u001b[0mself\u001b[0m\u001b[0;34m.\u001b[0m\u001b[0m_backend\u001b[0m\u001b[0;34m,\u001b[0m \u001b[0;34m'supports_timeout'\u001b[0m\u001b[0;34m,\u001b[0m \u001b[0;32mFalse\u001b[0m\u001b[0;34m)\u001b[0m\u001b[0;34m:\u001b[0m\u001b[0;34m\u001b[0m\u001b[0;34m\u001b[0m\u001b[0m\n\u001b[0;32m--> 908\u001b[0;31m                     \u001b[0mself\u001b[0m\u001b[0;34m.\u001b[0m\u001b[0m_output\u001b[0m\u001b[0;34m.\u001b[0m\u001b[0mextend\u001b[0m\u001b[0;34m(\u001b[0m\u001b[0mjob\u001b[0m\u001b[0;34m.\u001b[0m\u001b[0mget\u001b[0m\u001b[0;34m(\u001b[0m\u001b[0mtimeout\u001b[0m\u001b[0;34m=\u001b[0m\u001b[0mself\u001b[0m\u001b[0;34m.\u001b[0m\u001b[0mtimeout\u001b[0m\u001b[0;34m)\u001b[0m\u001b[0;34m)\u001b[0m\u001b[0;34m\u001b[0m\u001b[0;34m\u001b[0m\u001b[0m\n\u001b[0m\u001b[1;32m    909\u001b[0m                 \u001b[0;32melse\u001b[0m\u001b[0;34m:\u001b[0m\u001b[0;34m\u001b[0m\u001b[0;34m\u001b[0m\u001b[0m\n\u001b[1;32m    910\u001b[0m                     \u001b[0mself\u001b[0m\u001b[0;34m.\u001b[0m\u001b[0m_output\u001b[0m\u001b[0;34m.\u001b[0m\u001b[0mextend\u001b[0m\u001b[0;34m(\u001b[0m\u001b[0mjob\u001b[0m\u001b[0;34m.\u001b[0m\u001b[0mget\u001b[0m\u001b[0;34m(\u001b[0m\u001b[0;34m)\u001b[0m\u001b[0;34m)\u001b[0m\u001b[0;34m\u001b[0m\u001b[0;34m\u001b[0m\u001b[0m\n",
      "\u001b[0;32m/usr/local/Cellar/python/3.7.5/Frameworks/Python.framework/Versions/3.7/lib/python3.7/multiprocessing/pool.py\u001b[0m in \u001b[0;36mget\u001b[0;34m(self, timeout)\u001b[0m\n\u001b[1;32m    649\u001b[0m \u001b[0;34m\u001b[0m\u001b[0m\n\u001b[1;32m    650\u001b[0m     \u001b[0;32mdef\u001b[0m \u001b[0mget\u001b[0m\u001b[0;34m(\u001b[0m\u001b[0mself\u001b[0m\u001b[0;34m,\u001b[0m \u001b[0mtimeout\u001b[0m\u001b[0;34m=\u001b[0m\u001b[0;32mNone\u001b[0m\u001b[0;34m)\u001b[0m\u001b[0;34m:\u001b[0m\u001b[0;34m\u001b[0m\u001b[0;34m\u001b[0m\u001b[0m\n\u001b[0;32m--> 651\u001b[0;31m         \u001b[0mself\u001b[0m\u001b[0;34m.\u001b[0m\u001b[0mwait\u001b[0m\u001b[0;34m(\u001b[0m\u001b[0mtimeout\u001b[0m\u001b[0;34m)\u001b[0m\u001b[0;34m\u001b[0m\u001b[0;34m\u001b[0m\u001b[0m\n\u001b[0m\u001b[1;32m    652\u001b[0m         \u001b[0;32mif\u001b[0m \u001b[0;32mnot\u001b[0m \u001b[0mself\u001b[0m\u001b[0;34m.\u001b[0m\u001b[0mready\u001b[0m\u001b[0;34m(\u001b[0m\u001b[0;34m)\u001b[0m\u001b[0;34m:\u001b[0m\u001b[0;34m\u001b[0m\u001b[0;34m\u001b[0m\u001b[0m\n\u001b[1;32m    653\u001b[0m             \u001b[0;32mraise\u001b[0m \u001b[0mTimeoutError\u001b[0m\u001b[0;34m\u001b[0m\u001b[0;34m\u001b[0m\u001b[0m\n",
      "\u001b[0;32m/usr/local/Cellar/python/3.7.5/Frameworks/Python.framework/Versions/3.7/lib/python3.7/multiprocessing/pool.py\u001b[0m in \u001b[0;36mwait\u001b[0;34m(self, timeout)\u001b[0m\n\u001b[1;32m    646\u001b[0m \u001b[0;34m\u001b[0m\u001b[0m\n\u001b[1;32m    647\u001b[0m     \u001b[0;32mdef\u001b[0m \u001b[0mwait\u001b[0m\u001b[0;34m(\u001b[0m\u001b[0mself\u001b[0m\u001b[0;34m,\u001b[0m \u001b[0mtimeout\u001b[0m\u001b[0;34m=\u001b[0m\u001b[0;32mNone\u001b[0m\u001b[0;34m)\u001b[0m\u001b[0;34m:\u001b[0m\u001b[0;34m\u001b[0m\u001b[0;34m\u001b[0m\u001b[0m\n\u001b[0;32m--> 648\u001b[0;31m         \u001b[0mself\u001b[0m\u001b[0;34m.\u001b[0m\u001b[0m_event\u001b[0m\u001b[0;34m.\u001b[0m\u001b[0mwait\u001b[0m\u001b[0;34m(\u001b[0m\u001b[0mtimeout\u001b[0m\u001b[0;34m)\u001b[0m\u001b[0;34m\u001b[0m\u001b[0;34m\u001b[0m\u001b[0m\n\u001b[0m\u001b[1;32m    649\u001b[0m \u001b[0;34m\u001b[0m\u001b[0m\n\u001b[1;32m    650\u001b[0m     \u001b[0;32mdef\u001b[0m \u001b[0mget\u001b[0m\u001b[0;34m(\u001b[0m\u001b[0mself\u001b[0m\u001b[0;34m,\u001b[0m \u001b[0mtimeout\u001b[0m\u001b[0;34m=\u001b[0m\u001b[0;32mNone\u001b[0m\u001b[0;34m)\u001b[0m\u001b[0;34m:\u001b[0m\u001b[0;34m\u001b[0m\u001b[0;34m\u001b[0m\u001b[0m\n",
      "\u001b[0;32m/usr/local/Cellar/python/3.7.5/Frameworks/Python.framework/Versions/3.7/lib/python3.7/threading.py\u001b[0m in \u001b[0;36mwait\u001b[0;34m(self, timeout)\u001b[0m\n\u001b[1;32m    550\u001b[0m             \u001b[0msignaled\u001b[0m \u001b[0;34m=\u001b[0m \u001b[0mself\u001b[0m\u001b[0;34m.\u001b[0m\u001b[0m_flag\u001b[0m\u001b[0;34m\u001b[0m\u001b[0;34m\u001b[0m\u001b[0m\n\u001b[1;32m    551\u001b[0m             \u001b[0;32mif\u001b[0m \u001b[0;32mnot\u001b[0m \u001b[0msignaled\u001b[0m\u001b[0;34m:\u001b[0m\u001b[0;34m\u001b[0m\u001b[0;34m\u001b[0m\u001b[0m\n\u001b[0;32m--> 552\u001b[0;31m                 \u001b[0msignaled\u001b[0m \u001b[0;34m=\u001b[0m \u001b[0mself\u001b[0m\u001b[0;34m.\u001b[0m\u001b[0m_cond\u001b[0m\u001b[0;34m.\u001b[0m\u001b[0mwait\u001b[0m\u001b[0;34m(\u001b[0m\u001b[0mtimeout\u001b[0m\u001b[0;34m)\u001b[0m\u001b[0;34m\u001b[0m\u001b[0;34m\u001b[0m\u001b[0m\n\u001b[0m\u001b[1;32m    553\u001b[0m             \u001b[0;32mreturn\u001b[0m \u001b[0msignaled\u001b[0m\u001b[0;34m\u001b[0m\u001b[0;34m\u001b[0m\u001b[0m\n\u001b[1;32m    554\u001b[0m \u001b[0;34m\u001b[0m\u001b[0m\n",
      "\u001b[0;32m/usr/local/Cellar/python/3.7.5/Frameworks/Python.framework/Versions/3.7/lib/python3.7/threading.py\u001b[0m in \u001b[0;36mwait\u001b[0;34m(self, timeout)\u001b[0m\n\u001b[1;32m    294\u001b[0m         \u001b[0;32mtry\u001b[0m\u001b[0;34m:\u001b[0m    \u001b[0;31m# restore state no matter what (e.g., KeyboardInterrupt)\u001b[0m\u001b[0;34m\u001b[0m\u001b[0;34m\u001b[0m\u001b[0m\n\u001b[1;32m    295\u001b[0m             \u001b[0;32mif\u001b[0m \u001b[0mtimeout\u001b[0m \u001b[0;32mis\u001b[0m \u001b[0;32mNone\u001b[0m\u001b[0;34m:\u001b[0m\u001b[0;34m\u001b[0m\u001b[0;34m\u001b[0m\u001b[0m\n\u001b[0;32m--> 296\u001b[0;31m                 \u001b[0mwaiter\u001b[0m\u001b[0;34m.\u001b[0m\u001b[0macquire\u001b[0m\u001b[0;34m(\u001b[0m\u001b[0;34m)\u001b[0m\u001b[0;34m\u001b[0m\u001b[0;34m\u001b[0m\u001b[0m\n\u001b[0m\u001b[1;32m    297\u001b[0m                 \u001b[0mgotit\u001b[0m \u001b[0;34m=\u001b[0m \u001b[0;32mTrue\u001b[0m\u001b[0;34m\u001b[0m\u001b[0;34m\u001b[0m\u001b[0m\n\u001b[1;32m    298\u001b[0m             \u001b[0;32melse\u001b[0m\u001b[0;34m:\u001b[0m\u001b[0;34m\u001b[0m\u001b[0;34m\u001b[0m\u001b[0m\n",
      "\u001b[0;31mKeyboardInterrupt\u001b[0m: "
     ]
    }
   ],
   "source": [
    "from eli5.sklearn import PermutationImportance\n",
    "\n",
    "permCNV = PermutationImportance(rf_model_CNV, random_state=42).fit(X_train, y_train)\n",
    "features = permCNV.feature_importances_\n",
    "print(features)\n"
   ]
  },
  {
   "cell_type": "code",
   "execution_count": 84,
   "metadata": {},
   "outputs": [],
   "source": [
    "num_features = [30, 50, 100, 150, 300, 400, 500]\n",
    "# num_features = [30, 50, 100, 150, 200, 300, 400, 500]\n",
    "for n in num_features:\n",
    "    intersect = set(rf_model_CNV[:n]).intersection(set(rf_model[:n]))\n",
    "    if len(intersect) >0:\n",
    "        print(\"CNV intersection GE : \", intersect)\n",
    "        break"
   ]
  },
  {
   "cell_type": "code",
   "execution_count": null,
   "metadata": {},
   "outputs": [],
   "source": []
  }
 ],
 "metadata": {
  "kernelspec": {
   "display_name": "Python 3",
   "language": "python",
   "name": "python3"
  },
  "language_info": {
   "codemirror_mode": {
    "name": "ipython",
    "version": 3
   },
   "file_extension": ".py",
   "mimetype": "text/x-python",
   "name": "python",
   "nbconvert_exporter": "python",
   "pygments_lexer": "ipython3",
   "version": "3.7.5"
  }
 },
 "nbformat": 4,
 "nbformat_minor": 2
}
